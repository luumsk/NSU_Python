{
 "cells": [
  {
   "cell_type": "markdown",
   "metadata": {},
   "source": [
    "# Pandas"
   ]
  },
  {
   "cell_type": "markdown",
   "metadata": {},
   "source": [
    "## 1. Introduction"
   ]
  },
  {
   "cell_type": "markdown",
   "metadata": {},
   "source": [
    "**Pandas** is an open-source Python library that provides data structures and data analysis tools for working with **structured data**. It is one of the most popular libraries for **data manipulation and analysis** in the Python ecosystem. Pandas is built on top of the NumPy library and is often used in conjunction with it."
   ]
  },
  {
   "cell_type": "code",
   "execution_count": null,
   "metadata": {},
   "outputs": [],
   "source": [
    "import numpy as np\n",
    "import pandas as pd"
   ]
  },
  {
   "cell_type": "markdown",
   "metadata": {},
   "source": [
    "### Numpy vs Pandas"
   ]
  },
  {
   "cell_type": "markdown",
   "metadata": {},
   "source": [
    "1. Primary Data Structures\n",
    "   - NumPy: multi-dimensional arrays or `ndarrays`that contain elements of the same data type.\n",
    "\n",
    "   - Pandas: `Series` (1D) and `DataFrame` (2D) that can hold elements of different data types -> more suitable for real-world, structured data."
   ]
  },
  {
   "cell_type": "code",
   "execution_count": null,
   "metadata": {},
   "outputs": [],
   "source": [
    "s = pd.Series([1,2,3])\n",
    "print(type(s))\n",
    "print(s, end=\"\\n\\n\")\n",
    "\n",
    "df = pd.DataFrame([\n",
    "    [1,2,3],\n",
    "    [4,5,6]\n",
    "])\n",
    "print(type(df))\n",
    "print(df)"
   ]
  },
  {
   "cell_type": "markdown",
   "metadata": {},
   "source": [
    "2. Indexing\n",
    "\n",
    "   - NumPy: integer-based positional indexing, no labeled indices.\n",
    "   - Pandas: custom labels and multi-level indexing."
   ]
  },
  {
   "cell_type": "code",
   "execution_count": null,
   "metadata": {},
   "outputs": [],
   "source": [
    "arr = np.array([1,2,3])\n",
    "print(f\"arr[0] is {arr[0]}\")\n",
    "\n",
    "s = pd.Series([1,2,3], index=[\"a\", \"b\", \"c\"])\n",
    "print(f's[\"a\"] is {s[\"a\"]}')"
   ]
  },
  {
   "cell_type": "markdown",
   "metadata": {},
   "source": [
    "3. Missing Data Handling\n",
    "\n",
    "   - NumPy: NumPy does not provide built-in support for handling missing data, which can be a limitation when dealing with real-world datasets.\n",
    "\n",
    "   - Pandas: Pandas has built-in support for handling missing data, such as NaN values, with various methods for imputation and data cleaning."
   ]
  },
  {
   "cell_type": "code",
   "execution_count": null,
   "metadata": {},
   "outputs": [],
   "source": [
    "arr = np.array([1, None, 2])\n",
    "print(arr.dtype)\n",
    "#print(arr + 1) # TypeError"
   ]
  },
  {
   "cell_type": "code",
   "execution_count": null,
   "metadata": {},
   "outputs": [],
   "source": [
    "s = pd.Series([1, None, 2])\n",
    "print(s.dtype)\n",
    "print(s + 1)"
   ]
  },
  {
   "cell_type": "markdown",
   "metadata": {},
   "source": [
    "4. Data Alignment\n",
    "\n",
    "   - NumPy: no support for data alignment.\n",
    "\n",
    "   - Pandas: allows data alignment -> perform operations on data with different indices, automatically aligning data based on index labels."
   ]
  },
  {
   "cell_type": "code",
   "execution_count": null,
   "metadata": {},
   "outputs": [],
   "source": [
    "s1 = pd.Series([1,2,3], index=[\"a\", \"b\", \"c\"])\n",
    "s1"
   ]
  },
  {
   "cell_type": "code",
   "execution_count": null,
   "metadata": {},
   "outputs": [],
   "source": [
    "s2 = pd.Series([4,5,6], index=[\"a\", \"b\", \"d\"])\n",
    "s2"
   ]
  },
  {
   "cell_type": "code",
   "execution_count": null,
   "metadata": {},
   "outputs": [],
   "source": [
    "s1 + s2"
   ]
  },
  {
   "cell_type": "markdown",
   "metadata": {},
   "source": [
    "In general, NumPy is primarily used for **numerical and mathematical operations**, while Pandas is designed for **data manipulation and analysis**, especially for structured data from various sources like CSV files, Excel spreadsheets, and SQL databases."
   ]
  },
  {
   "cell_type": "markdown",
   "metadata": {},
   "source": [
    "## 2. Pandas data structure"
   ]
  },
  {
   "cell_type": "markdown",
   "metadata": {},
   "source": [
    "### 2.1. Series"
   ]
  },
  {
   "cell_type": "markdown",
   "metadata": {},
   "source": [
    "A Pandas `Series` is a one-dimensional array of indexed data. It can be created from a list or array."
   ]
  },
  {
   "cell_type": "code",
   "execution_count": null,
   "metadata": {},
   "outputs": [],
   "source": [
    "s = pd.Series([18, 23, 25])\n",
    "s"
   ]
  },
  {
   "cell_type": "code",
   "execution_count": null,
   "metadata": {},
   "outputs": [],
   "source": [
    "s = pd.Series(np.array([18, 23, 25]))\n",
    "s"
   ]
  },
  {
   "cell_type": "code",
   "execution_count": null,
   "metadata": {},
   "outputs": [],
   "source": [
    "print(f\"s.index: {s.index}\")\n",
    "print(f\"s.values: {s.values}\")"
   ]
  },
  {
   "cell_type": "markdown",
   "metadata": {},
   "source": [
    "Accessing values for a Series is similar to Numpy array"
   ]
  },
  {
   "cell_type": "code",
   "execution_count": null,
   "metadata": {},
   "outputs": [],
   "source": [
    "print(s[0])\n",
    "print(s[:2])"
   ]
  },
  {
   "cell_type": "markdown",
   "metadata": {},
   "source": [
    "Unlike Numpy array that is implicitly integer-based indexed, Series can be explicitly indexed."
   ]
  },
  {
   "cell_type": "code",
   "execution_count": null,
   "metadata": {},
   "outputs": [],
   "source": [
    "s.index = [\"a\", \"b\", \"c\"]\n",
    "s"
   ]
  },
  {
   "cell_type": "code",
   "execution_count": null,
   "metadata": {},
   "outputs": [],
   "source": [
    "s[\"a\"]"
   ]
  },
  {
   "cell_type": "markdown",
   "metadata": {},
   "source": [
    "Create Series from a Python dictionary."
   ]
  },
  {
   "cell_type": "code",
   "execution_count": null,
   "metadata": {},
   "outputs": [],
   "source": [
    "population_dict = {\n",
    "    'Moscow': 38332521,\n",
    "    'Saint Petersburg': 26448193,\n",
    "    'Novosibirsk': 19651127,\n",
    "    'Kazan': 19552860,\n",
    "    'Tomsk': 12882135\n",
    "}\n",
    "population = pd.Series(population_dict)\n",
    "population"
   ]
  },
  {
   "cell_type": "code",
   "execution_count": null,
   "metadata": {},
   "outputs": [],
   "source": [
    "population[\"Novosibirsk\"]"
   ]
  },
  {
   "cell_type": "code",
   "execution_count": null,
   "metadata": {},
   "outputs": [],
   "source": [
    "population[\"Moscow\":\"Novosibirsk\"]"
   ]
  },
  {
   "cell_type": "markdown",
   "metadata": {},
   "source": [
    "### 2.2. Data Frame"
   ]
  },
  {
   "cell_type": "markdown",
   "metadata": {},
   "source": [
    "A DataFrame is a table. It contains an array of individual entries, each of which has a certain value. Each entry corresponds to a row (or record) and a column.\n",
    "\n",
    "To construct a DataFrame object, use `pd.DataFrame()` and give it data. Data can be a dictionary whose keys are the column names , and values are a list of entries."
   ]
  },
  {
   "cell_type": "code",
   "execution_count": null,
   "metadata": {},
   "outputs": [],
   "source": [
    "data = {\n",
    "    'Yes': [50, 21],\n",
    "    'No' : [131, 2]\n",
    "}\n",
    "df = pd.DataFrame(data=data)\n",
    "df"
   ]
  },
  {
   "cell_type": "markdown",
   "metadata": {},
   "source": [
    "Construct a DataFrame from a Series"
   ]
  },
  {
   "cell_type": "code",
   "execution_count": null,
   "metadata": {},
   "outputs": [],
   "source": [
    "df = pd.DataFrame(population, columns=[\"population\"])\n",
    "df"
   ]
  },
  {
   "cell_type": "markdown",
   "metadata": {},
   "source": [
    "Construct a DataFrame from a list of dictionaries."
   ]
  },
  {
   "cell_type": "code",
   "execution_count": null,
   "metadata": {},
   "outputs": [],
   "source": [
    "data = [\n",
    "    {\"age\": 21, \"name\": \"Ana\", \"faculty\": \"MMF\"},\n",
    "    {\"age\": 20, \"name\": \"Ivan\", \"faculty\": \"HI\"},\n",
    "    {\"age\": 18, \"name\": \"Vera\", \"faculty\": \"IT\"},\n",
    "]\n",
    "df = pd.DataFrame(data)\n",
    "df"
   ]
  },
  {
   "cell_type": "markdown",
   "metadata": {},
   "source": [
    "Construct a DataFrame from a dictionary of Series"
   ]
  },
  {
   "cell_type": "code",
   "execution_count": null,
   "metadata": {},
   "outputs": [],
   "source": [
    "area = pd.Series({\n",
    "    'Moscow': 123456,\n",
    "    'Saint Petersburg': 23456,\n",
    "    'Novosibirsk': 4662,\n",
    "    'Kazan': 234467,\n",
    "    'Tomsk': 2368\n",
    "})\n",
    "\n",
    "population = pd.Series({\n",
    "    'Moscow': 38332521,\n",
    "    'Saint Petersburg': 26448193,\n",
    "    'Novosibirsk': 19651127,\n",
    "    'Kazan': 19552860,\n",
    "    'Tomsk': 12882135\n",
    "})\n",
    "\n",
    "df = pd.DataFrame({'population': population,'area': area})\n",
    "df"
   ]
  },
  {
   "cell_type": "markdown",
   "metadata": {},
   "source": [
    "Construct a DataFrame from a 2D Numpy array"
   ]
  },
  {
   "cell_type": "code",
   "execution_count": null,
   "metadata": {},
   "outputs": [],
   "source": [
    "pd.DataFrame(np.random.rand(3, 2),\n",
    "             columns=['foo', 'bar'],\n",
    "             index=['a', 'b', 'c'])"
   ]
  },
  {
   "cell_type": "markdown",
   "metadata": {},
   "source": [
    "DataFrame attributes in Pandas are properties or characteristics associated with a DataFrame object that provide useful information or metadata about the data it contains. Some useful DataFrame attributes includes:"
   ]
  },
  {
   "cell_type": "code",
   "execution_count": null,
   "metadata": {},
   "outputs": [],
   "source": [
    "area = pd.Series({\n",
    "    'Moscow': 123456,\n",
    "    'Saint Petersburg': 23456,\n",
    "    'Novosibirsk': 4662,\n",
    "    'Kazan': 234467,\n",
    "    'Tomsk': 2368\n",
    "})\n",
    "\n",
    "population = pd.Series({\n",
    "    'Moscow': 38332521,\n",
    "    'Saint Petersburg': 26448193,\n",
    "    'Novosibirsk': 19651127,\n",
    "    'Kazan': 19552860,\n",
    "    'Tomsk': 12882135\n",
    "})\n",
    "\n",
    "df = pd.DataFrame({'population': population,'area': area})\n",
    "df"
   ]
  },
  {
   "cell_type": "code",
   "execution_count": null,
   "metadata": {},
   "outputs": [],
   "source": [
    "df.shape"
   ]
  },
  {
   "cell_type": "code",
   "execution_count": null,
   "metadata": {},
   "outputs": [],
   "source": [
    "df.head(2)"
   ]
  },
  {
   "cell_type": "code",
   "execution_count": null,
   "metadata": {},
   "outputs": [],
   "source": [
    "df.tail(2)"
   ]
  },
  {
   "cell_type": "code",
   "execution_count": null,
   "metadata": {},
   "outputs": [],
   "source": [
    "df.sample(3)"
   ]
  },
  {
   "cell_type": "code",
   "execution_count": null,
   "metadata": {},
   "outputs": [],
   "source": [
    "df.columns"
   ]
  },
  {
   "cell_type": "code",
   "execution_count": null,
   "metadata": {},
   "outputs": [],
   "source": [
    "# Summary of the DataFrame\n",
    "df.info()"
   ]
  },
  {
   "cell_type": "code",
   "execution_count": null,
   "metadata": {},
   "outputs": [],
   "source": [
    "df.index"
   ]
  },
  {
   "cell_type": "code",
   "execution_count": null,
   "metadata": {},
   "outputs": [],
   "source": [
    "df.values"
   ]
  },
  {
   "cell_type": "markdown",
   "metadata": {},
   "source": [
    "### 2.3. Index"
   ]
  },
  {
   "cell_type": "markdown",
   "metadata": {},
   "source": [
    "`Index` is immutable and can contain repeated values."
   ]
  },
  {
   "cell_type": "code",
   "execution_count": null,
   "metadata": {},
   "outputs": [],
   "source": [
    "ix = pd.Index([4,5,10,10])\n",
    "ix\n",
    "\n",
    "s = pd.Series([100,200,300, 400], index=ix)\n",
    "s[10]"
   ]
  },
  {
   "cell_type": "markdown",
   "metadata": {},
   "source": [
    "Set index by a column in the DataFrame with `set_index()`"
   ]
  },
  {
   "cell_type": "code",
   "execution_count": null,
   "metadata": {},
   "outputs": [],
   "source": [
    "df = pd.DataFrame({\n",
    "    \"city\": [\"Moscow\", \"Novosibirsk\", \"Kazan\"],\n",
    "    \"attr1\": [1234, 4567, 7894],\n",
    "    \"attr2\": [2345565, 324436565, 3450348594]\n",
    "})\n",
    "df"
   ]
  },
  {
   "cell_type": "code",
   "execution_count": null,
   "metadata": {},
   "outputs": [],
   "source": [
    "df = df.set_index(keys=\"city\")\n",
    "df"
   ]
  },
  {
   "cell_type": "markdown",
   "metadata": {},
   "source": [
    "The `reset_index()` method in Pandas is used to reset the index of a DataFrame. It moves the current index (row labels) into a new column and replaces it with the default integer-based RangeIndex. "
   ]
  },
  {
   "cell_type": "code",
   "execution_count": null,
   "metadata": {},
   "outputs": [],
   "source": [
    "df = df.reset_index(drop=False)\n",
    "df"
   ]
  },
  {
   "cell_type": "markdown",
   "metadata": {},
   "source": [
    "**EXERCISE**\n",
    "\n",
    "Create series, data frame, explicitly set index.\n",
    "1. Create a Series from a list\n",
    "2. Create a DataFrame from a list\n",
    "3. Create a DataFrame from a dictionary.\n",
    "4. Create a DataFrame from a list of dictionaries.\n",
    "5. Create a DataFrame from a dictionary of Series.\n",
    "6. Create a DataFrame in any way you want, then set a custom index for it.\n",
    "7. Change the index back to original for the DataFrame in question 6."
   ]
  },
  {
   "cell_type": "markdown",
   "metadata": {},
   "source": [
    "## 3. Read and write data from a file"
   ]
  },
  {
   "cell_type": "markdown",
   "metadata": {},
   "source": [
    "- Read from a CSV file"
   ]
  },
  {
   "cell_type": "code",
   "execution_count": null,
   "metadata": {},
   "outputs": [],
   "source": [
    "df = pd.read_csv(\"../data/data.csv\")\n",
    "df.shape"
   ]
  },
  {
   "cell_type": "markdown",
   "metadata": {},
   "source": [
    "- Read from an Excel file: You need to install one or more of these packages:\n",
    "    - `xlwt` to write to .xls files\n",
    "    - `openpyxl` or `XlsxWriter` to write to .xlsx files\n",
    "    - `xlrd` to read Excel files"
   ]
  },
  {
   "cell_type": "code",
   "execution_count": null,
   "metadata": {},
   "outputs": [],
   "source": [
    "! pip install xlwt openpyxl xlsxwriter xlrd"
   ]
  },
  {
   "cell_type": "code",
   "execution_count": null,
   "metadata": {},
   "outputs": [],
   "source": [
    "df = pd.read_excel('../data/students.xlsx', sheet_name=\"Students\")\n",
    "df.head()"
   ]
  },
  {
   "cell_type": "code",
   "execution_count": null,
   "metadata": {},
   "outputs": [],
   "source": [
    "df = pd.read_excel('../data/students.xlsx', sheet_name=\"Grades\")\n",
    "df.head()"
   ]
  },
  {
   "cell_type": "markdown",
   "metadata": {},
   "source": [
    "- Write to a csv file"
   ]
  },
  {
   "cell_type": "code",
   "execution_count": null,
   "metadata": {},
   "outputs": [],
   "source": [
    "df.to_csv(\"../data/new.csv\", index=False)"
   ]
  },
  {
   "cell_type": "markdown",
   "metadata": {},
   "source": [
    "- Write to Excel file"
   ]
  },
  {
   "cell_type": "code",
   "execution_count": null,
   "metadata": {},
   "outputs": [],
   "source": [
    "df.to_excel(\"../data/new.xlsx\")"
   ]
  },
  {
   "cell_type": "markdown",
   "metadata": {},
   "source": [
    "- Write to Numpy"
   ]
  },
  {
   "cell_type": "code",
   "execution_count": null,
   "metadata": {},
   "outputs": [],
   "source": [
    "array = df.to_numpy()\n",
    "array"
   ]
  },
  {
   "cell_type": "markdown",
   "metadata": {},
   "source": [
    "[More on read and write file in Pandas.](https://realpython.com/pandas-read-write-files/)"
   ]
  },
  {
   "cell_type": "markdown",
   "metadata": {},
   "source": [
    "## 4. Data Indexing and Selection"
   ]
  },
  {
   "cell_type": "markdown",
   "metadata": {},
   "source": [
    "In Pandas, `.iloc[]`, `.loc[]`, and `.at[]` are indexing and selection methods used to access specific elements, rows, and columns in DataFrames and Series."
   ]
  },
  {
   "cell_type": "markdown",
   "metadata": {},
   "source": [
    "If you attempt to access rows using square brackets, errors will be raised because Pandas interprets it as column selection."
   ]
  },
  {
   "cell_type": "code",
   "execution_count": null,
   "metadata": {},
   "outputs": [],
   "source": [
    "df = pd.read_csv(\"../data/data.csv\")\n",
    "print(df.shape)\n",
    "df.head(3)"
   ]
  },
  {
   "cell_type": "code",
   "execution_count": null,
   "metadata": {},
   "outputs": [],
   "source": [
    "#df[0] # KeyError"
   ]
  },
  {
   "cell_type": "markdown",
   "metadata": {},
   "source": [
    "If you want to access a row by its integer position, you should use the `.iloc[]` indexer instead of square brackets. Here's the correct way to access a row by its integer position."
   ]
  },
  {
   "cell_type": "code",
   "execution_count": null,
   "metadata": {},
   "outputs": [],
   "source": [
    "df.iloc[0]"
   ]
  },
  {
   "cell_type": "markdown",
   "metadata": {},
   "source": [
    "### 4.1. `.iloc[]` (Integer Location)\n",
    "\n",
    "   - `.iloc[]` is primarily used for integer-based indexing, allowing you to select data by its integer position.\n",
    "   - It accepts integer, list of integers, or slices.\n",
    "   - The indexing starts from 0, so the first row or column is at position 0.\n",
    "   - The result is a DataFrame or Series, depending on the selection."
   ]
  },
  {
   "cell_type": "code",
   "execution_count": null,
   "metadata": {},
   "outputs": [],
   "source": [
    "df.iloc[0] # Select the first row"
   ]
  },
  {
   "cell_type": "code",
   "execution_count": null,
   "metadata": {},
   "outputs": [],
   "source": [
    "df.iloc[0:2] # Select the first two rows"
   ]
  },
  {
   "cell_type": "code",
   "execution_count": null,
   "metadata": {},
   "outputs": [],
   "source": [
    "df.iloc[0, 1] # Select the element in the first row and second column"
   ]
  },
  {
   "cell_type": "code",
   "execution_count": null,
   "metadata": {},
   "outputs": [],
   "source": [
    "df.iloc[1:3, :3] # Select rows 2 and 3 of first 3 columns"
   ]
  },
  {
   "cell_type": "markdown",
   "metadata": {},
   "source": [
    "### `.loc[]` (Label Location)\n",
    "\n",
    "   - `.loc[]` is used for label-based indexing, allowing you to select data by row and column labels.\n",
    "   - It accepts labels, lists of labels, or slices.\n",
    "   - The indexing is inclusive of the endpoint in slices.\n",
    "   - The result is a DataFrame or Series, depending on the selection."
   ]
  },
  {
   "cell_type": "code",
   "execution_count": null,
   "metadata": {},
   "outputs": [],
   "source": [
    "df = pd.read_excel(\"../data/students.xlsx\", sheet_name=\"Students\")\n",
    "df"
   ]
  },
  {
   "cell_type": "code",
   "execution_count": null,
   "metadata": {},
   "outputs": [],
   "source": [
    "df = df.set_index(\"Family Name\")\n",
    "df"
   ]
  },
  {
   "cell_type": "code",
   "execution_count": null,
   "metadata": {},
   "outputs": [],
   "source": [
    "df.loc['Zhang'] # Select a specific row by label"
   ]
  },
  {
   "cell_type": "code",
   "execution_count": null,
   "metadata": {},
   "outputs": [],
   "source": [
    "df.loc['Zhang', 'Email']  # Select a specific element by row and column labels"
   ]
  },
  {
   "cell_type": "code",
   "execution_count": null,
   "metadata": {},
   "outputs": [],
   "source": [
    "df.loc['Borisov':'Zeng']  # Select rows within a range of labels (The stop value is included)"
   ]
  },
  {
   "cell_type": "code",
   "execution_count": null,
   "metadata": {},
   "outputs": [],
   "source": [
    "df.loc[:, 'Phone Number':'Email']  # Select columns within a range of labels"
   ]
  },
  {
   "cell_type": "markdown",
   "metadata": {},
   "source": [
    "### `.at[]` (Label-based Scalar Access)\n",
    "\n",
    "   - `.at[]` is used to access a single scalar value by specifying a row and column label.\n",
    "   - It's faster than `.loc[]` for selecting individual elements when you only need a single value.\n",
    "   - It returns a single scalar value rather than a DataFrame or Series."
   ]
  },
  {
   "cell_type": "code",
   "execution_count": null,
   "metadata": {},
   "outputs": [],
   "source": [
    "df.at[\"Luo\", \"Email\"]"
   ]
  },
  {
   "cell_type": "code",
   "execution_count": null,
   "metadata": {},
   "outputs": [],
   "source": [
    "# Modify value\n",
    "df.at[\"Luo\", \"Email\"] = \"lou@email.com\"\n",
    "print(df.at[\"Luo\", \"Email\"])"
   ]
  },
  {
   "cell_type": "markdown",
   "metadata": {},
   "source": [
    "**EXERCISE**\n",
    "\n",
    "Q1. \n",
    "1. Read data from file `../data/data.csv` to a DataFrame\n",
    "2. Show 7 random rows from the DataFrame\n",
    "3. Show last 3 rows of the DataFrame\n",
    "4. Is there any missing data? \n",
    "\n",
    "Q2.\n",
    "1. Read data from file `../data/students.xlsx` to a DataFrame, sheet `Grades`\n",
    "2. Is there any missing data?\n",
    "3. Update Machine Learning grade of student id = 4 to 3, Deep Learning grade of student id = 5 to 4\n",
    "4. Save DataFrame to a csv file.\n"
   ]
  },
  {
   "cell_type": "markdown",
   "metadata": {},
   "source": []
  }
 ],
 "metadata": {
  "kernelspec": {
   "display_name": ".venv",
   "language": "python",
   "name": "python3"
  },
  "language_info": {
   "codemirror_mode": {
    "name": "ipython",
    "version": 3
   },
   "file_extension": ".py",
   "mimetype": "text/x-python",
   "name": "python",
   "nbconvert_exporter": "python",
   "pygments_lexer": "ipython3",
   "version": "3.9.6"
  }
 },
 "nbformat": 4,
 "nbformat_minor": 2
}
