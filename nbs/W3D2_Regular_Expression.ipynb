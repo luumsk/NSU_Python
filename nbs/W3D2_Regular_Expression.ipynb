{
 "cells": [
  {
   "cell_type": "markdown",
   "metadata": {},
   "source": [
    "# Regular Expressions"
   ]
  },
  {
   "cell_type": "markdown",
   "metadata": {},
   "source": [
    "## 1. Basic Pattern Matching\n",
    "\n",
    "Regular expressions are used to search for specific patterns in text. You define a pattern using a combination of characters, metacharacters, and special sequences.\n",
    "\n",
    "In this section, we will discuss Regular Expression's pattern, method, metacharacters."
   ]
  },
  {
   "cell_type": "code",
   "execution_count": 1,
   "metadata": {},
   "outputs": [],
   "source": [
    "import re"
   ]
  },
  {
   "cell_type": "code",
   "execution_count": 2,
   "metadata": {},
   "outputs": [
    {
     "name": "stdout",
     "output_type": "stream",
     "text": [
      "Type of pattern: <class 'str'>\n",
      "Pattern: The\n",
      "Type of match: <class 're.Match'>\n",
      "Match: <re.Match object; span=(0, 3), match='The'>\n",
      "0 3 The\n"
     ]
    }
   ],
   "source": [
    "string =  \"The curious cat, known for its agility and independence, prowled the garden in search of adventure. With a swift leap, the cat pounced on a fallen leaf, a momentary victory in its playful escapade. Nearby, a second cat observed the scene, its eyes fixed on the first cat's antics. Suddenly, a third cat appeared, joining the playful duo, and together they formed a trio of frolicking felines. As the sun began to set, the cats' energy waned, and they settled down for a well-deserved catnap under the shade of a tall oak tree.\"\n",
    "pattern = \"The\"\n",
    "match = re.match(pattern, string)\n",
    "\n",
    "print(f\"Type of pattern: {type(pattern)}\")\n",
    "print(f\"Pattern: {pattern}\")\n",
    "print(f\"Type of match: {type(match)}\")\n",
    "print(f\"Match: {match}\")\n",
    "print(match.start(), match.end(), match.group())"
   ]
  },
  {
   "cell_type": "code",
   "execution_count": 3,
   "metadata": {},
   "outputs": [
    {
     "name": "stdout",
     "output_type": "stream",
     "text": [
      "Match: None\n",
      "Search: <re.Match object; span=(12, 15), match='cat'>\n"
     ]
    }
   ],
   "source": [
    "# re.match() only search from the beginning while re.search() scan through the entire string\n",
    "\n",
    "string = \"The curious cat, known for its agility and independence, prowled the garden in search of adventure. With a swift leap, the cat pounced on a fallen leaf, a momentary victory in its playful escapade. Nearby, a second cat observed the scene, its eyes fixed on the first cat's antics. Suddenly, a third cat appeared, joining the playful duo, and together they formed a trio of frolicking felines. As the sun began to set, the cats' energy waned, and they settled down for a well-deserved catnap under the shade of a tall oak tree.\"\n",
    "pattern = r\"cat\"\n",
    "match = re.match(pattern, string)\n",
    "print(f\"Match: {match}\") # None because the first word is not 'cat'\n",
    "search = re.search(pattern, string)\n",
    "print(f\"Search: {search}\") # Found fist 'cat'"
   ]
  },
  {
   "cell_type": "code",
   "execution_count": 4,
   "metadata": {},
   "outputs": [
    {
     "name": "stdout",
     "output_type": "stream",
     "text": [
      "Found: ['cat ', 'cat,', 'cat ', 'cat ', \"cat'\", 'cat ', 'cat'] 7\n"
     ]
    }
   ],
   "source": [
    "# re.findall()\n",
    "\n",
    "string = \"cat The category curious cat, known for its agility and independence, prowled the garden in search of adventure. With a swift leap, the cat pounced on a fallen leaf, a momentary victory in its playful escapade. Nearby, a second cat observed the scene, its eyes fixed on the first cat's antics. Suddenly, a third cat appeared, joining the playful duo, and together they formed a trio of frolicking felines. As the sun began to set, the cats' energy waned, and they settled down for a well-deserved catnap under the shade of a tall oak tree cat\"\n",
    "\n",
    "pattern = r\"cat[\\W]|cat$|^cat\"\n",
    "#pattern = \"cat\"\n",
    "matches = re.findall(pattern, string)\n",
    "\n",
    "if matches:\n",
    "    print(f\"Found: {matches}\", len(matches))\n",
    "else:\n",
    "    print(\"Pattern not found.\")"
   ]
  },
  {
   "cell_type": "code",
   "execution_count": 5,
   "metadata": {},
   "outputs": [
    {
     "name": "stdout",
     "output_type": "stream",
     "text": [
      "Type of pattern: <class 're.Pattern'>\n",
      "Pattern: re.compile('The')\n",
      "Type of match: <class 're.Match'>\n",
      "Match: <re.Match object; span=(0, 3), match='The'>\n",
      "0 3 The\n"
     ]
    }
   ],
   "source": [
    "# re.compile() convert a pattern to a regular expression object\n",
    "# Why? faster when using re.match() or re.findall()\n",
    "# especially when you want to use the pattern multiple times\n",
    "\n",
    "string = \"The curious cat, known for its agility and independence, prowled the garden in search of adventure. With a swift leap, the cat pounced on a fallen leaf, a momentary victory in its playful escapade. Nearby, a second cat observed the scene, its eyes fixed on the first cat's antics. Suddenly, a third cat appeared, joining the playful duo, and together they formed a trio of frolicking felines. As the sun began to set, the cats' energy waned, and they settled down for a well-deserved catnap under the shade of a tall oak tree.\"\n",
    "pattern = re.compile(\"The\")\n",
    "match = re.match(pattern, string)\n",
    "\n",
    "print(f\"Type of pattern: {type(pattern)}\")\n",
    "print(f\"Pattern: {pattern}\")\n",
    "print(f\"Type of match: {type(match)}\")\n",
    "print(f\"Match: {match}\")\n",
    "print(match.start(), match.end(), match.group())"
   ]
  },
  {
   "cell_type": "code",
   "execution_count": 6,
   "metadata": {},
   "outputs": [
    {
     "data": {
      "text/plain": [
       "<re.Match object; span=(0, 3), match='The'>"
      ]
     },
     "execution_count": 6,
     "metadata": {},
     "output_type": "execute_result"
    }
   ],
   "source": [
    "pattern.search(string)"
   ]
  },
  {
   "cell_type": "code",
   "execution_count": 7,
   "metadata": {},
   "outputs": [
    {
     "data": {
      "text/plain": [
       "['coconut', ' durian', ' papaya', ' lychee']"
      ]
     },
     "execution_count": 7,
     "metadata": {},
     "output_type": "execute_result"
    }
   ],
   "source": [
    "# split text based on pattern\n",
    "\n",
    "string = \"coconut, durian, papaya; lychee\"\n",
    "pattern = re.compile(\"[,;]\")\n",
    "texts = re.split(pattern, string)\n",
    "texts"
   ]
  },
  {
   "cell_type": "code",
   "execution_count": 8,
   "metadata": {},
   "outputs": [
    {
     "name": "stdout",
     "output_type": "stream",
     "text": [
      "216.8.94.196\n"
     ]
    }
   ],
   "source": [
    "# remove leading 0s in an IP\n",
    "ip = \"216.08.094.196\"\n",
    "pattern = '\\.[0]*'\n",
    "string = re.sub(pattern, '.', ip)\n",
    "print(string)"
   ]
  },
  {
   "cell_type": "markdown",
   "metadata": {},
   "source": [
    "A raw string, denoted by an `r` prefix before the string literal, is a way to define strings that treat backslashes `\\` as **literal characters** rather than escape characters."
   ]
  },
  {
   "cell_type": "code",
   "execution_count": 9,
   "metadata": {},
   "outputs": [
    {
     "data": {
      "text/plain": [
       "'\"'"
      ]
     },
     "execution_count": 9,
     "metadata": {},
     "output_type": "execute_result"
    }
   ],
   "source": [
    "\"\\\"\""
   ]
  },
  {
   "cell_type": "code",
   "execution_count": 10,
   "metadata": {},
   "outputs": [
    {
     "name": "stdout",
     "output_type": "stream",
     "text": [
      "['123-12-1234']\n",
      "['123-12-1234']\n"
     ]
    }
   ],
   "source": [
    "# with raw string\n",
    "pattern = r\"\\d{3}-\\d{2}-\\d{4}\"\n",
    "print(re.findall(pattern, \"123-12-1234\"))\n",
    "\n",
    "# without raw string\n",
    "pattern = \"\\\\d{3}-\\\\d{2}-\\\\d{4}\"\n",
    "print(re.findall(pattern, \"123-12-1234\"))"
   ]
  },
  {
   "cell_type": "code",
   "execution_count": 11,
   "metadata": {},
   "outputs": [
    {
     "data": {
      "text/plain": [
       "['C:', 'Users', 'John', 'Documents', 'file.txt']"
      ]
     },
     "execution_count": 11,
     "metadata": {},
     "output_type": "execute_result"
    }
   ],
   "source": [
    "# speacial case\n",
    "pattern = r\"\\\\\"\n",
    "file_path = r\"C:\\Users\\John\\Documents\\file.txt\"\n",
    "\n",
    "re.split(pattern, file_path)"
   ]
  },
  {
   "cell_type": "markdown",
   "metadata": {},
   "source": [
    "## 2. Metacharacters & Character classes"
   ]
  },
  {
   "cell_type": "markdown",
   "metadata": {},
   "source": [
    "Metacharacters are special characters with predefined meanings that are used to construct complex search patterns. These metacharacters provide a way to specify more than just literal text matches in regular expressions.\n",
    "\n",
    "1. `.` (Dot): Matches any character except a newline character. For example, `a.b` matches \"axb,\" \"a2b,\" but not \"a\\nb.\"\n",
    "\n",
    "2. `*` (Asterisk): Matches zero or more occurrences of the preceding character or group. For example, `ab*c` matches \"ac,\" \"abc,\" \"abbc,\" and so on.\n",
    "\n",
    "3. `+` (Plus): Matches one or more occurrences of the preceding character or group. For example, `ab+c` matches \"abc,\" \"abbc,\" but not \"ac.\"\n",
    "\n",
    "4. `?` (Question Mark): Matches zero or one occurrence of the preceding character or group. For example, `ab?c` matches \"ac\" and \"abc\" but not \"abbc.\"\n",
    "\n",
    "5. `|` (Vertical Bar): Acts as an OR operator and allows you to match either of two patterns. For example, `cat|dog` matches \"cat\" or \"dog.\"\n",
    "\n",
    "6. `[]` (Square Brackets): Defines a character set. For example, `[aeiou]` matches any vowel, and `[0-9]` matches any digit.\n",
    "\n",
    "7. `[^]` (Caret within Square Brackets): Defines a negated character set, matching any character not listed. For example, `[^0-9]` matches any non-digit character.\n",
    "\n",
    "8. `()` (Parentheses): Creates a capturing group to capture a subpattern. For example, `(abc)+` matches \"abc,\" \"abcabc,\" and captures \"abc\" as a group.\n",
    "\n",
    "9. `(?...)`: Defines a non-capturing group or sets options within the group. For example, `(?:abc)+` is a non-capturing group.\n",
    "\n",
    "10. `*?`, `+?`, `??`: These are non-greedy quantifiers. They match as little text as possible. For example, `a*?b` matches \"ab\" in \"aab,\" not the entire \"aab.\"\n",
    "\n",
    "11. `^` (Caret, outside square brackets): Matches the start of a string. For example, `^abc` matches \"abc\" at the beginning of a string.\n",
    "\n",
    "12. `$` (Dollar Sign): Matches the end of a string. For example, `abc$` matches \"abc\" at the end of a string."
   ]
  },
  {
   "cell_type": "markdown",
   "metadata": {},
   "source": [
    "- The **square brackets ([])** character class define a character class, allowing you to match any one character from a set. For example, `[aeiou]` matches any vowel."
   ]
  },
  {
   "cell_type": "code",
   "execution_count": 12,
   "metadata": {},
   "outputs": [
    {
     "name": "stdout",
     "output_type": "stream",
     "text": [
      "Vowels: ['e', 'u', 'i', 'o', 'o', 'u', 'o', 'e', 'e', 'a', 'o']\n"
     ]
    }
   ],
   "source": [
    "pattern = \"[aeiou]\"\n",
    "string = \"The quick brown fox jumps over the lazy dog.\"\n",
    "vowels = re.findall(pattern, string)\n",
    "print(f\"Vowels: {vowels}\")"
   ]
  },
  {
   "cell_type": "code",
   "execution_count": 13,
   "metadata": {},
   "outputs": [
    {
     "name": "stdout",
     "output_type": "stream",
     "text": [
      "+79131234567\n"
     ]
    }
   ],
   "source": [
    "# Matching a range of character\n",
    "string = \"Call me by this number +79131234567\"\n",
    "pattern = \"[+0-9]\"\n",
    "matches = re.findall(pattern, string)\n",
    "\n",
    "if matches:\n",
    "    print(\"\".join(matches))"
   ]
  },
  {
   "cell_type": "code",
   "execution_count": 14,
   "metadata": {},
   "outputs": [],
   "source": [
    "# EXERCISE\n",
    "# Use re library to count number of vowels and number of consonants in this string\n",
    "string = \"The quick brown fox jumps over the lazy dog.\""
   ]
  },
  {
   "cell_type": "markdown",
   "metadata": {},
   "source": [
    "- **Anchors**: Anchors like `^` (start of a line) and `$` (end of a line) are used to specify where in the text a match should occur."
   ]
  },
  {
   "cell_type": "code",
   "execution_count": 15,
   "metadata": {},
   "outputs": [
    {
     "name": "stdout",
     "output_type": "stream",
     "text": [
      "'my_variable' is VALID.\n",
      "'123invalid' is INVALID.\n",
      "'_underscore' is VALID.\n",
      "'name_with$pecial_chars' is INVALID.\n",
      "'This is my variable my_var. It is valid.' is INVALID.\n"
     ]
    }
   ],
   "source": [
    "def is_valid_variable_name(variable_name):\n",
    "    # Define the regular expression pattern\n",
    "    pattern = re.compile(\"^[a-zA-Z_][a-zA-Z0-9_]*$\")\n",
    "\n",
    "    # Use re.match() to check if the entire string matches the pattern\n",
    "    match = re.match(pattern, variable_name)\n",
    "\n",
    "    return match is not None\n",
    "\n",
    "# Test the function with some variable names\n",
    "variable_names = [\n",
    "    \"my_variable\",\n",
    "    \"123invalid\",\n",
    "    \"_underscore\",\n",
    "    \"name_with$pecial_chars\",\n",
    "    \"This is my variable my_var. It is valid.\"\n",
    "]\n",
    "\n",
    "for name in variable_names:\n",
    "    if is_valid_variable_name(name):\n",
    "        print(f\"'{name}' is VALID.\")\n",
    "    else:\n",
    "        print(f\"'{name}' is INVALID.\")\n"
   ]
  },
  {
   "cell_type": "markdown",
   "metadata": {},
   "source": [
    "- Some useful predefined sets of characters\n",
    "    - `\\d`: Matches any **decimal digit**; this is equivalent to the class `[0-9]`.\n",
    "    - `\\D`: Matches any **non-digit** character; this is equivalent to the class `[^0-9]`.\n",
    "    - `\\s`: Matches any **whitespace** character; this is equivalent to the class `[ \\t\\n\\r\\f\\v]`.\n",
    "    - `\\S`: Matches any **non-whitespace** character; this is equivalent to the class `[^ \\t\\n\\r\\f\\v]`.\n",
    "    - `\\w`: Matches any **alphanumeric** character; this is equivalent to the class `[a-zA-Z0-9_]`.\n",
    "    - `\\W`: Matches any **non-alphanumeric** character; this is equivalent to the class `[^a-zA-Z0-9_]`."
   ]
  },
  {
   "cell_type": "markdown",
   "metadata": {},
   "source": [
    "- **Flags**: Flags, such as `re.IGNORECASE`, can be used to modify the behavior of the regular expression matching. For example, `re.IGNORECASE` makes the matching case-insensitive."
   ]
  },
  {
   "cell_type": "code",
   "execution_count": 16,
   "metadata": {},
   "outputs": [
    {
     "name": "stdout",
     "output_type": "stream",
     "text": [
      "Without IGNORECASE flag:\n",
      "[]\n",
      "\n",
      "With IGNORECASE flag:\n",
      "['Fox']\n"
     ]
    }
   ],
   "source": [
    "# Sample text containing words in different case variations\n",
    "text = \"The quick brown Fox jumped over the LAZY Dog.\"\n",
    "\n",
    "# Regular expression pattern to match \"fox\" in a case-insensitive manner\n",
    "pattern = r'fox'\n",
    "\n",
    "# Use re.findall() without the flag\n",
    "matches_without_flag = re.findall(pattern, text)\n",
    "print(\"Without IGNORECASE flag:\")\n",
    "print(matches_without_flag)\n",
    "\n",
    "# Use re.findall() with the IGNORECASE flag\n",
    "matches_with_flag = re.findall(pattern, text, flags=re.IGNORECASE)\n",
    "print(\"\\nWith IGNORECASE flag:\")\n",
    "print(matches_with_flag)\n"
   ]
  },
  {
   "cell_type": "code",
   "execution_count": 17,
   "metadata": {},
   "outputs": [
    {
     "name": "stdout",
     "output_type": "stream",
     "text": [
      "['27/09/2023', '28/09/2023']\n"
     ]
    }
   ],
   "source": [
    "# CODE DEMO\n",
    "# Find date format DD/MM/YYYY\n",
    "\n",
    "string = \"Yesterday was 27/09/2023. Today's date is 28/09/2023. Tmorrow is 29-09-2023\"\n",
    "pattern = r\"\\d{2}/\\d{2}/\\d{4}\"\n",
    "matches = re.findall(pattern, string)\n",
    "\n",
    "print(matches if matches else \"No date found.\")"
   ]
  },
  {
   "cell_type": "code",
   "execution_count": null,
   "metadata": {},
   "outputs": [],
   "source": [
    "# EXERCISE\n",
    "# Find all dates in this text YYYY-MM-DD\n",
    "\n",
    "string = \"In the year 2023, we made plans to visit the beautiful countryside on 2023-05-15. We enjoyed the picturesque landscapes, and on 2023-05-20, we had a delightful picnic by the river. Our trip concluded on 2023-05-25, leaving us with cherished memories of our time together.\"\n",
    "\n",
    "pattern = None # YOUR CODE\n",
    "matches = re.findall(pattern, string)\n",
    "\n",
    "print(matches if matches else \"No date found.\")"
   ]
  },
  {
   "cell_type": "code",
   "execution_count": null,
   "metadata": {},
   "outputs": [
    {
     "data": {
      "text/plain": [
       "\"I had an amazing dining experience at the Sin Lun Chinese restaurant! The ambiance was delightful, the service was impeccable, and the food was absolutely delicious. I couldn't get enough of their mouthwatering dumplings and flavorful Sichuan chicken. It's safe to say that Sin Lun has become my go-to spot for authentic Chinese cuisine.\""
      ]
     },
     "execution_count": 38,
     "metadata": {},
     "output_type": "execute_result"
    }
   ],
   "source": [
    "# CODE DEMO\n",
    "# Remove hashtags\n",
    "string = \"I had an amazing dining experience at the Sin Lun Chinese restaurant! The ambiance was delightful, the service was impeccable, and the food was absolutely delicious. I couldn't get enough of their mouthwatering dumplings and flavorful Sichuan chicken. It's safe to say that Sin Lun has become my go-to spot for authentic Chinese cuisine. #SinLun #DeliciousEats #ChineseCuisine #TopNotchService #foodieHeaven2023 #🍜\"\n",
    "\n",
    "emoji_pattern = re.compile(r\"#[\\w\"\n",
    "    u\"\\U0001F600-\\U0001F64F\"  # emoticons\n",
    "    u\"\\U0001F300-\\U0001F5FF\"  # symbols & pictographs\n",
    "    u\"\\U0001F680-\\U0001F6FF\"  # transport & map symbols\n",
    "    u\"\\U0001F1E0-\\U0001F1FF\"  # flags (iOS)\n",
    "    u\"\\U00002702-\\U000027B0\"\n",
    "    u\"\\U000024C2-\\U0001F251\"\"]+\", flags=re.UNICODE)\n",
    "result = emoji_pattern.sub('', string)\n",
    "result.strip()"
   ]
  },
  {
   "cell_type": "code",
   "execution_count": null,
   "metadata": {},
   "outputs": [],
   "source": [
    "# EXERCISE\n",
    "# Write a regex pattern to match Russian phone numbers\n",
    "# Format \"+7 (XXX) XXX-XXXX\"\n",
    "# Sample Input: \"Contact us at +7 (913) 123-7890.\"\n",
    "# Expected Output: \"+7 (913) 123-7890\"\n",
    "\n",
    "string = \"Planning a trip to Russia? Don't forget to book your accommodations! You can reach our customer support team at +7 (123) 456-7890 for assistance with reservations. If you have any questions about our services, feel free to give us a call at +7 (987) 654-3210. Our friendly staff is available around the clock to ensure your stay is comfortable. For special offers and promotions, dial +7 (111) 222-3333. We look forward to welcoming you to our beautiful country! Your adventure begins with us at +7 (555) 123-4567.\"\n",
    "\n",
    "pattern = None #YOUR CODE\n",
    "matches = re.findall(pattern, string)\n",
    "print(matches if matches else \"No telephone numbers found.\")"
   ]
  },
  {
   "cell_type": "code",
   "execution_count": null,
   "metadata": {},
   "outputs": [
    {
     "data": {
      "text/plain": [
       "['cat ', 'cat.']"
      ]
     },
     "execution_count": 55,
     "metadata": {},
     "output_type": "execute_result"
    }
   ],
   "source": [
    "string = \"cat the category are a cat.\"\n",
    "pattern = r\"cat[\\W]\"\n",
    "re.findall(pattern, string)"
   ]
  },
  {
   "cell_type": "markdown",
   "metadata": {},
   "source": [
    "# REFERENCES\n",
    "\n",
    "1. [Python Docs](https://docs.python.org/3/howto/regex.html#regex-howto)\n",
    "2. [Kaggle](https://www.kaggle.com/code/albeffe/regex-exercises-solutions)"
   ]
  },
  {
   "cell_type": "markdown",
   "metadata": {},
   "source": []
  }
 ],
 "metadata": {
  "kernelspec": {
   "display_name": "Python 3",
   "language": "python",
   "name": "python3"
  },
  "language_info": {
   "codemirror_mode": {
    "name": "ipython",
    "version": 3
   },
   "file_extension": ".py",
   "mimetype": "text/x-python",
   "name": "python",
   "nbconvert_exporter": "python",
   "pygments_lexer": "ipython3",
   "version": "3.9.6"
  },
  "orig_nbformat": 4
 },
 "nbformat": 4,
 "nbformat_minor": 2
}
