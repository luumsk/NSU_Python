{
 "cells": [
  {
   "cell_type": "markdown",
   "metadata": {},
   "source": [
    "# Assignment 04\n",
    "\n",
    "Date: 19.10.2023"
   ]
  },
  {
   "cell_type": "markdown",
   "metadata": {},
   "source": [
    "Read the requirements carefully and do the following tasks.\n",
    "\n",
    "REQUIREMENTS:\n",
    "- The purpose of this exercise is to review the knowlegde and to test you understanding of Pandas, so it's is **required to use Pandas and/or Numpy** to solve all tasks, without importing a third-party libraries.\n",
    "- Only use `for` loop when the question indicate you can use it.\n",
    "- The submission must be a notebook with a name follows this format `Assigment04_[your_name].ipynb`, for example, `Assignment04_Khue.ipynb`, a screenshot is not accepted.\n",
    "- You can use this notebook to submit or create a new one."
   ]
  },
  {
   "cell_type": "markdown",
   "metadata": {},
   "source": [
    "1. Load data from a CSV file `../data/billionnairs.csv`"
   ]
  },
  {
   "cell_type": "code",
   "execution_count": 1,
   "metadata": {},
   "outputs": [],
   "source": [
    "import pandas as pd\n",
    "df = pd.read_csv(\"/Users/khueluu/Desktop/NSU/Teaching/Python/NSU_Python/data/billionairs.csv\")"
   ]
  },
  {
   "cell_type": "markdown",
   "metadata": {},
   "source": [
    "2. Print how many rows, how many columns in the data"
   ]
  },
  {
   "cell_type": "code",
   "execution_count": 2,
   "metadata": {},
   "outputs": [
    {
     "data": {
      "text/plain": [
       "(2640, 35)"
      ]
     },
     "execution_count": 2,
     "metadata": {},
     "output_type": "execute_result"
    }
   ],
   "source": [
    "df.shape"
   ]
  },
  {
   "cell_type": "markdown",
   "metadata": {},
   "source": [
    "3. Print infomation of data using `.info()`"
   ]
  },
  {
   "cell_type": "code",
   "execution_count": 3,
   "metadata": {},
   "outputs": [
    {
     "name": "stdout",
     "output_type": "stream",
     "text": [
      "<class 'pandas.core.frame.DataFrame'>\n",
      "RangeIndex: 2640 entries, 0 to 2639\n",
      "Data columns (total 35 columns):\n",
      " #   Column                                      Non-Null Count  Dtype  \n",
      "---  ------                                      --------------  -----  \n",
      " 0   rank                                        2640 non-null   int64  \n",
      " 1   finalWorth                                  2640 non-null   int64  \n",
      " 2   category                                    2640 non-null   object \n",
      " 3   personName                                  2640 non-null   object \n",
      " 4   age                                         2575 non-null   float64\n",
      " 5   country                                     2602 non-null   object \n",
      " 6   city                                        2568 non-null   object \n",
      " 7   source                                      2640 non-null   object \n",
      " 8   industries                                  2640 non-null   object \n",
      " 9   countryOfCitizenship                        2640 non-null   object \n",
      " 10  organization                                325 non-null    object \n",
      " 11  selfMade                                    2640 non-null   bool   \n",
      " 12  status                                      2640 non-null   object \n",
      " 13  gender                                      2640 non-null   object \n",
      " 14  birthDate                                   2564 non-null   object \n",
      " 15  lastName                                    2640 non-null   object \n",
      " 16  firstName                                   2637 non-null   object \n",
      " 17  title                                       339 non-null    object \n",
      " 18  date                                        2640 non-null   object \n",
      " 19  state                                       753 non-null    object \n",
      " 20  residenceStateRegion                        747 non-null    object \n",
      " 21  birthYear                                   2563 non-null   float64\n",
      " 22  birthMonth                                  2564 non-null   float64\n",
      " 23  birthDay                                    2564 non-null   float64\n",
      " 24  cpi_country                                 2456 non-null   float64\n",
      " 25  cpi_change_country                          2456 non-null   float64\n",
      " 26  gdp_country                                 2476 non-null   object \n",
      " 27  gross_tertiary_education_enrollment         2458 non-null   float64\n",
      " 28  gross_primary_education_enrollment_country  2459 non-null   float64\n",
      " 29  life_expectancy_country                     2458 non-null   float64\n",
      " 30  tax_revenue_country_country                 2457 non-null   float64\n",
      " 31  total_tax_rate_country                      2458 non-null   float64\n",
      " 32  population_country                          2476 non-null   float64\n",
      " 33  latitude_country                            2476 non-null   float64\n",
      " 34  longitude_country                           2476 non-null   float64\n",
      "dtypes: bool(1), float64(14), int64(2), object(18)\n",
      "memory usage: 704.0+ KB\n"
     ]
    }
   ],
   "source": [
    "df.info()"
   ]
  },
  {
   "cell_type": "markdown",
   "metadata": {},
   "source": [
    "4. How many missing values (in each column and in total)?"
   ]
  },
  {
   "cell_type": "code",
   "execution_count": 4,
   "metadata": {},
   "outputs": [
    {
     "data": {
      "text/plain": [
       "rank                                             0\n",
       "finalWorth                                       0\n",
       "category                                         0\n",
       "personName                                       0\n",
       "age                                             65\n",
       "country                                         38\n",
       "city                                            72\n",
       "source                                           0\n",
       "industries                                       0\n",
       "countryOfCitizenship                             0\n",
       "organization                                  2315\n",
       "selfMade                                         0\n",
       "status                                           0\n",
       "gender                                           0\n",
       "birthDate                                       76\n",
       "lastName                                         0\n",
       "firstName                                        3\n",
       "title                                         2301\n",
       "date                                             0\n",
       "state                                         1887\n",
       "residenceStateRegion                          1893\n",
       "birthYear                                       77\n",
       "birthMonth                                      76\n",
       "birthDay                                        76\n",
       "cpi_country                                    184\n",
       "cpi_change_country                             184\n",
       "gdp_country                                    164\n",
       "gross_tertiary_education_enrollment            182\n",
       "gross_primary_education_enrollment_country     181\n",
       "life_expectancy_country                        182\n",
       "tax_revenue_country_country                    183\n",
       "total_tax_rate_country                         182\n",
       "population_country                             164\n",
       "latitude_country                               164\n",
       "longitude_country                              164\n",
       "dtype: int64"
      ]
     },
     "execution_count": 4,
     "metadata": {},
     "output_type": "execute_result"
    }
   ],
   "source": [
    "df.isna().sum()"
   ]
  },
  {
   "cell_type": "code",
   "execution_count": 5,
   "metadata": {},
   "outputs": [
    {
     "data": {
      "text/plain": [
       "10813"
      ]
     },
     "execution_count": 5,
     "metadata": {},
     "output_type": "execute_result"
    }
   ],
   "source": [
    "df.isna().sum().sum()"
   ]
  },
  {
   "cell_type": "markdown",
   "metadata": {},
   "source": [
    "5. Calculate the percentage of missing data? If there is no missing data, ignore this question."
   ]
  },
  {
   "cell_type": "code",
   "execution_count": 6,
   "metadata": {},
   "outputs": [
    {
     "data": {
      "text/plain": [
       "organization                                  87.689394\n",
       "title                                         87.159091\n",
       "residenceStateRegion                          71.704545\n",
       "state                                         71.477273\n",
       "cpi_change_country                             6.969697\n",
       "cpi_country                                    6.969697\n",
       "tax_revenue_country_country                    6.931818\n",
       "total_tax_rate_country                         6.893939\n",
       "life_expectancy_country                        6.893939\n",
       "gross_tertiary_education_enrollment            6.893939\n",
       "gross_primary_education_enrollment_country     6.856061\n",
       "latitude_country                               6.212121\n",
       "population_country                             6.212121\n",
       "gdp_country                                    6.212121\n",
       "longitude_country                              6.212121\n",
       "birthYear                                      2.916667\n",
       "birthDate                                      2.878788\n",
       "birthMonth                                     2.878788\n",
       "birthDay                                       2.878788\n",
       "city                                           2.727273\n",
       "age                                            2.462121\n",
       "country                                        1.439394\n",
       "firstName                                      0.113636\n",
       "lastName                                       0.000000\n",
       "source                                         0.000000\n",
       "category                                       0.000000\n",
       "personName                                     0.000000\n",
       "selfMade                                       0.000000\n",
       "industries                                     0.000000\n",
       "countryOfCitizenship                           0.000000\n",
       "status                                         0.000000\n",
       "gender                                         0.000000\n",
       "date                                           0.000000\n",
       "finalWorth                                     0.000000\n",
       "rank                                           0.000000\n",
       "dtype: float64"
      ]
     },
     "execution_count": 6,
     "metadata": {},
     "output_type": "execute_result"
    }
   ],
   "source": [
    "(df.isna().sum() / df.shape[0] * 100).sort_values(ascending=False)"
   ]
  },
  {
   "cell_type": "code",
   "execution_count": 7,
   "metadata": {},
   "outputs": [
    {
     "data": {
      "text/plain": [
       "11.702380952380953"
      ]
     },
     "execution_count": 7,
     "metadata": {},
     "output_type": "execute_result"
    }
   ],
   "source": [
    "df.isna().sum().sum() / df.size * 100"
   ]
  },
  {
   "cell_type": "markdown",
   "metadata": {},
   "source": [
    "6. Fill missing data with the string \"Unknown\" for columns `organization` and `title`. "
   ]
  },
  {
   "cell_type": "code",
   "execution_count": 8,
   "metadata": {},
   "outputs": [
    {
     "name": "stdout",
     "output_type": "stream",
     "text": [
      "Before organization: 2315\n",
      "Before title: 2301\n",
      "After organization: 0\n",
      "After title: 0\n"
     ]
    }
   ],
   "source": [
    "print(\"Before organization:\", df[\"organization\"].isna().sum())\n",
    "print(\"Before title:\", df[\"title\"].isna().sum())\n",
    "\n",
    "df[\"organization\"].fillna(\"Unknown\", inplace=True)\n",
    "df[\"title\"].fillna(\"Unknown\", inplace=True)\n",
    "\n",
    "print(\"After organization:\", df[\"organization\"].isna().sum())\n",
    "print(\"After title:\", df[\"title\"].isna().sum())"
   ]
  },
  {
   "cell_type": "markdown",
   "metadata": {},
   "source": [
    "7. Replace all variants of China in the column `country` to become string `China` (`P.R.C` also means China)"
   ]
  },
  {
   "cell_type": "code",
   "execution_count": 9,
   "metadata": {},
   "outputs": [
    {
     "data": {
      "text/plain": [
       "array(['France', 'United States', 'Mexico', 'India', 'Spain', 'China',\n",
       "       'Canada', 'Germany', 'Switzerland', 'Belgium', 'Hong Kong',\n",
       "       'Austria', 'Japan', 'United Kingdom', 'Australia', 'Indonesia',\n",
       "       'United Arab Emirates', 'Russia', 'Chile', 'Monaco', 'RF',\n",
       "       'Czech Republic', 'Sweden', nan, 'Thailand', 'Uzbekistan',\n",
       "       'Singapore', 'Nigeria', 'Israel', 'Italy', 'South Africa',\n",
       "       'Brazil', 'Malaysia', 'China ', 'South Korea', 'New Zealand',\n",
       "       'Philippines', 'Taiwan', 'Norway', 'Egypt', 'Denmark',\n",
       "       'Eswatini (Swaziland)', 'Colombia', 'Netherlands', 'Poland',\n",
       "       'Bahamas', 'Ukraine', 'Cayman Islands', 'Greece', 'Turkey',\n",
       "       'Argentina', 'Georgia', 'Portugal', 'Kazakhstan', 'Algeria',\n",
       "       'Vietnam', 'Latvia', 'Finland', 'Bermuda', 'Luxembourg',\n",
       "       'British Virgin Islands', 'Cambodia', 'Lebanon', 'Oman', 'Ireland',\n",
       "       'Cyprus', 'Guernsey', 'Liechtenstein', 'P.R.C',\n",
       "       'Turks and Caicos Islands', 'Romania', 'Qatar', 'Uruguay', 'Nepal',\n",
       "       'Slovakia', 'Morocco', 'Hungary', 'Tanzania', 'Bahrain', 'Peru',\n",
       "       'Andorra', 'Armenia'], dtype=object)"
      ]
     },
     "execution_count": 9,
     "metadata": {},
     "output_type": "execute_result"
    }
   ],
   "source": [
    "df[\"country\"].unique()"
   ]
  },
  {
   "cell_type": "code",
   "execution_count": 10,
   "metadata": {},
   "outputs": [
    {
     "name": "stdout",
     "output_type": "stream",
     "text": [
      "Before: 510\n",
      "After: 523\n"
     ]
    }
   ],
   "source": [
    "print(\"Before:\", df[df[\"country\"]==\"China\"].shape[0])\n",
    "df[\"country\"] = df[\"country\"].str.strip()\n",
    "df[\"country\"].replace({\"P.R.C\": \"China\"}, inplace=True)\n",
    "print(\"After:\", df[df[\"country\"]==\"China\"].shape[0])"
   ]
  },
  {
   "cell_type": "markdown",
   "metadata": {},
   "source": [
    "8. How many billionaires resides in the country `China`? (read the data description to know which column stores this info)"
   ]
  },
  {
   "cell_type": "code",
   "execution_count": 11,
   "metadata": {},
   "outputs": [
    {
     "data": {
      "text/plain": [
       "523"
      ]
     },
     "execution_count": 11,
     "metadata": {},
     "output_type": "execute_result"
    }
   ],
   "source": [
    "df[df[\"country\"]==\"China\"].shape[0]"
   ]
  },
  {
   "cell_type": "markdown",
   "metadata": {},
   "source": [
    "9. How many billionaires have `China` citizenship? (read the data description to know which column stores this info)"
   ]
  },
  {
   "cell_type": "code",
   "execution_count": 12,
   "metadata": {},
   "outputs": [
    {
     "data": {
      "text/plain": [
       "array(['France', 'United States', 'Mexico', 'India', 'Spain', 'China',\n",
       "       'Canada', 'Germany', 'Italy', 'Hong Kong', 'Austria', 'Japan',\n",
       "       'Switzerland', 'Australia', 'Indonesia', 'Russia', 'Chile',\n",
       "       'United Kingdom', 'Israel', 'Brazil', 'Czech Republic',\n",
       "       'Singapore', 'Sweden', 'Thailand', 'Netherlands', 'Nigeria',\n",
       "       'Cyprus', 'Malaysia', 'United Arab Emirates', 'South Africa',\n",
       "       'New Zealand', 'Philippines', 'Monaco', 'Belgium', 'South Korea',\n",
       "       'Taiwan', 'Norway', 'Egypt', 'Denmark', 'Ireland',\n",
       "       'Eswatini (Swaziland)', 'Colombia', 'Poland', 'Ukraine', 'Greece',\n",
       "       'Turkey', 'Argentina', 'Georgia', 'Portugal', 'Kazakhstan',\n",
       "       'Algeria', 'Venezuela', 'Vietnam', 'Finland', 'Belize', 'Lebanon',\n",
       "       'Oman', 'Iceland', 'Guernsey', 'Liechtenstein', 'Bulgaria',\n",
       "       'Romania', 'Zimbabwe', 'Qatar', 'Nepal', 'Slovakia', 'Morocco',\n",
       "       'Hungary', 'Tanzania', 'Peru', 'Barbados', 'Macau', 'Estonia',\n",
       "       'St. Kitts and Nevis', 'Armenia', 'Bangladesh', 'Panama'],\n",
       "      dtype=object)"
      ]
     },
     "execution_count": 12,
     "metadata": {},
     "output_type": "execute_result"
    }
   ],
   "source": [
    "df[\"countryOfCitizenship\"].unique()"
   ]
  },
  {
   "cell_type": "code",
   "execution_count": 13,
   "metadata": {},
   "outputs": [
    {
     "data": {
      "text/plain": [
       "491"
      ]
     },
     "execution_count": 13,
     "metadata": {},
     "output_type": "execute_result"
    }
   ],
   "source": [
    "df[df[\"countryOfCitizenship\"]==\"China\"].shape[0]"
   ]
  },
  {
   "cell_type": "markdown",
   "metadata": {},
   "source": [
    "10. What are the category of billionaires that have citizenship of `Australia` ?"
   ]
  },
  {
   "cell_type": "code",
   "execution_count": 31,
   "metadata": {},
   "outputs": [
    {
     "data": {
      "text/plain": [
       "array(['Metals & Mining', 'Real Estate', 'Manufacturing', 'Technology',\n",
       "       'Finance & Investments', 'Diversified', 'Automotive', 'Logistics',\n",
       "       'Food & Beverage', 'Fashion & Retail', 'Energy', 'Telecom'],\n",
       "      dtype=object)"
      ]
     },
     "execution_count": 31,
     "metadata": {},
     "output_type": "execute_result"
    }
   ],
   "source": [
    "df.loc[df[\"countryOfCitizenship\"]==\"Australia\",\"category\"].unique()"
   ]
  },
  {
   "cell_type": "markdown",
   "metadata": {},
   "source": [
    "11. How many billionaires under 25 years old?"
   ]
  },
  {
   "cell_type": "code",
   "execution_count": 15,
   "metadata": {},
   "outputs": [
    {
     "data": {
      "text/plain": [
       "5"
      ]
     },
     "execution_count": 15,
     "metadata": {},
     "output_type": "execute_result"
    }
   ],
   "source": [
    "df[df[\"age\"]<25].shape[0]"
   ]
  },
  {
   "cell_type": "markdown",
   "metadata": {},
   "source": [
    "12. Which country/countries that has billionaires over 100 years old?"
   ]
  },
  {
   "cell_type": "code",
   "execution_count": 32,
   "metadata": {},
   "outputs": [
    {
     "data": {
      "text/plain": [
       "array(['United States'], dtype=object)"
      ]
     },
     "execution_count": 32,
     "metadata": {},
     "output_type": "execute_result"
    }
   ],
   "source": [
    "df.loc[df[\"age\"]>100, \"country\"].unique()"
   ]
  },
  {
   "cell_type": "markdown",
   "metadata": {},
   "source": [
    "13. What is the mean final net worth of all female billionaires?"
   ]
  },
  {
   "cell_type": "code",
   "execution_count": 33,
   "metadata": {},
   "outputs": [
    {
     "data": {
      "text/plain": [
       "4570.326409495549"
      ]
     },
     "execution_count": 33,
     "metadata": {},
     "output_type": "execute_result"
    }
   ],
   "source": [
    "df.loc[df[\"gender\"]==\"F\", \"finalWorth\"].mean()"
   ]
  },
  {
   "cell_type": "markdown",
   "metadata": {},
   "source": [
    "14. What is the mean final net worth of all male billionaires?"
   ]
  },
  {
   "cell_type": "code",
   "execution_count": 19,
   "metadata": {},
   "outputs": [
    {
     "data": {
      "text/plain": [
       "4631.61094224924"
      ]
     },
     "execution_count": 19,
     "metadata": {},
     "output_type": "execute_result"
    }
   ],
   "source": [
    "df.loc[df[\"gender\"]==\"M\", \"finalWorth\"].mean()"
   ]
  },
  {
   "cell_type": "code",
   "execution_count": 45,
   "metadata": {},
   "outputs": [
    {
     "data": {
      "text/html": [
       "<div>\n",
       "<style scoped>\n",
       "    .dataframe tbody tr th:only-of-type {\n",
       "        vertical-align: middle;\n",
       "    }\n",
       "\n",
       "    .dataframe tbody tr th {\n",
       "        vertical-align: top;\n",
       "    }\n",
       "\n",
       "    .dataframe thead th {\n",
       "        text-align: right;\n",
       "    }\n",
       "</style>\n",
       "<table border=\"1\" class=\"dataframe\">\n",
       "  <thead>\n",
       "    <tr style=\"text-align: right;\">\n",
       "      <th></th>\n",
       "      <th>finalWorth</th>\n",
       "    </tr>\n",
       "    <tr>\n",
       "      <th>gender</th>\n",
       "      <th></th>\n",
       "    </tr>\n",
       "  </thead>\n",
       "  <tbody>\n",
       "    <tr>\n",
       "      <th>F</th>\n",
       "      <td>4570.326409</td>\n",
       "    </tr>\n",
       "    <tr>\n",
       "      <th>M</th>\n",
       "      <td>4631.610942</td>\n",
       "    </tr>\n",
       "  </tbody>\n",
       "</table>\n",
       "</div>"
      ],
      "text/plain": [
       "         finalWorth\n",
       "gender             \n",
       "F       4570.326409\n",
       "M       4631.610942"
      ]
     },
     "execution_count": 45,
     "metadata": {},
     "output_type": "execute_result"
    }
   ],
   "source": [
    "# Cleaner solution fro 13 and 14\n",
    "df.groupby(\"gender\").agg({\"finalWorth\": \"mean\"})"
   ]
  },
  {
   "cell_type": "markdown",
   "metadata": {},
   "source": [
    "15. What is the average age of billionaires each industry? Round to 2 digit. (You can use `for` loop)"
   ]
  },
  {
   "cell_type": "code",
   "execution_count": 46,
   "metadata": {},
   "outputs": [
    {
     "data": {
      "text/html": [
       "<div>\n",
       "<style scoped>\n",
       "    .dataframe tbody tr th:only-of-type {\n",
       "        vertical-align: middle;\n",
       "    }\n",
       "\n",
       "    .dataframe tbody tr th {\n",
       "        vertical-align: top;\n",
       "    }\n",
       "\n",
       "    .dataframe thead th {\n",
       "        text-align: right;\n",
       "    }\n",
       "</style>\n",
       "<table border=\"1\" class=\"dataframe\">\n",
       "  <thead>\n",
       "    <tr style=\"text-align: right;\">\n",
       "      <th></th>\n",
       "      <th>age</th>\n",
       "    </tr>\n",
       "    <tr>\n",
       "      <th>category</th>\n",
       "      <th></th>\n",
       "    </tr>\n",
       "  </thead>\n",
       "  <tbody>\n",
       "    <tr>\n",
       "      <th>Automotive</th>\n",
       "      <td>66.14</td>\n",
       "    </tr>\n",
       "    <tr>\n",
       "      <th>Construction &amp; Engineering</th>\n",
       "      <td>64.59</td>\n",
       "    </tr>\n",
       "    <tr>\n",
       "      <th>Diversified</th>\n",
       "      <td>68.70</td>\n",
       "    </tr>\n",
       "    <tr>\n",
       "      <th>Energy</th>\n",
       "      <td>67.82</td>\n",
       "    </tr>\n",
       "    <tr>\n",
       "      <th>Fashion &amp; Retail</th>\n",
       "      <td>66.78</td>\n",
       "    </tr>\n",
       "    <tr>\n",
       "      <th>Finance &amp; Investments</th>\n",
       "      <td>65.47</td>\n",
       "    </tr>\n",
       "    <tr>\n",
       "      <th>Food &amp; Beverage</th>\n",
       "      <td>66.64</td>\n",
       "    </tr>\n",
       "    <tr>\n",
       "      <th>Gambling &amp; Casinos</th>\n",
       "      <td>68.52</td>\n",
       "    </tr>\n",
       "    <tr>\n",
       "      <th>Healthcare</th>\n",
       "      <td>64.68</td>\n",
       "    </tr>\n",
       "    <tr>\n",
       "      <th>Logistics</th>\n",
       "      <td>68.18</td>\n",
       "    </tr>\n",
       "    <tr>\n",
       "      <th>Manufacturing</th>\n",
       "      <td>64.66</td>\n",
       "    </tr>\n",
       "    <tr>\n",
       "      <th>Media &amp; Entertainment</th>\n",
       "      <td>64.80</td>\n",
       "    </tr>\n",
       "    <tr>\n",
       "      <th>Metals &amp; Mining</th>\n",
       "      <td>61.81</td>\n",
       "    </tr>\n",
       "    <tr>\n",
       "      <th>Real Estate</th>\n",
       "      <td>68.12</td>\n",
       "    </tr>\n",
       "    <tr>\n",
       "      <th>Service</th>\n",
       "      <td>67.77</td>\n",
       "    </tr>\n",
       "    <tr>\n",
       "      <th>Sports</th>\n",
       "      <td>69.03</td>\n",
       "    </tr>\n",
       "    <tr>\n",
       "      <th>Technology</th>\n",
       "      <td>57.32</td>\n",
       "    </tr>\n",
       "    <tr>\n",
       "      <th>Telecom</th>\n",
       "      <td>66.68</td>\n",
       "    </tr>\n",
       "  </tbody>\n",
       "</table>\n",
       "</div>"
      ],
      "text/plain": [
       "                              age\n",
       "category                         \n",
       "Automotive                  66.14\n",
       "Construction & Engineering  64.59\n",
       "Diversified                 68.70\n",
       "Energy                      67.82\n",
       "Fashion & Retail            66.78\n",
       "Finance & Investments       65.47\n",
       "Food & Beverage             66.64\n",
       "Gambling & Casinos          68.52\n",
       "Healthcare                  64.68\n",
       "Logistics                   68.18\n",
       "Manufacturing               64.66\n",
       "Media & Entertainment       64.80\n",
       "Metals & Mining             61.81\n",
       "Real Estate                 68.12\n",
       "Service                     67.77\n",
       "Sports                      69.03\n",
       "Technology                  57.32\n",
       "Telecom                     66.68"
      ]
     },
     "execution_count": 46,
     "metadata": {},
     "output_type": "execute_result"
    }
   ],
   "source": [
    "# Using groupby\n",
    "df.groupby(\"category\").agg({\"age\": \"mean\"}).round(2)"
   ]
  },
  {
   "cell_type": "code",
   "execution_count": 47,
   "metadata": {},
   "outputs": [
    {
     "name": "stdout",
     "output_type": "stream",
     "text": [
      "Fashion & Retail 66.78\n",
      "Automotive 66.14\n",
      "Technology 57.32\n",
      "Finance & Investments 65.47\n",
      "Media & Entertainment 64.8\n",
      "Telecom 66.68\n",
      "Diversified 68.7\n",
      "Food & Beverage 66.64\n",
      "Logistics 68.18\n",
      "Gambling & Casinos 68.52\n",
      "Manufacturing 64.66\n",
      "Real Estate 68.12\n",
      "Metals & Mining 61.81\n",
      "Energy 67.82\n",
      "Healthcare 64.68\n",
      "Service 67.77\n",
      "Construction & Engineering 64.59\n",
      "Sports 69.03\n"
     ]
    }
   ],
   "source": [
    "# Not using groupby\n",
    "categories = df[\"category\"].unique()\n",
    "for cat in categories:\n",
    "    print(cat, df.loc[df[\"category\"]==cat, \"age\"].mean().round(2))"
   ]
  },
  {
   "cell_type": "markdown",
   "metadata": {},
   "source": [
    "16. Percentage of final net worth of billionaires reside in United States?"
   ]
  },
  {
   "cell_type": "code",
   "execution_count": 48,
   "metadata": {},
   "outputs": [
    {
     "data": {
      "text/plain": [
       "37.48"
      ]
     },
     "execution_count": 48,
     "metadata": {},
     "output_type": "execute_result"
    }
   ],
   "source": [
    "(df.loc[df[\"country\"]==\"United States\", \"finalWorth\"].sum() / df[\"finalWorth\"].sum() * 100).round(2)"
   ]
  },
  {
   "cell_type": "markdown",
   "metadata": {},
   "source": [
    "17. How many rows of data are collected on this month (October 2023)?"
   ]
  },
  {
   "cell_type": "code",
   "execution_count": 23,
   "metadata": {},
   "outputs": [
    {
     "name": "stdout",
     "output_type": "stream",
     "text": [
      "object\n"
     ]
    },
    {
     "data": {
      "text/plain": [
       "139"
      ]
     },
     "execution_count": 23,
     "metadata": {},
     "output_type": "execute_result"
    }
   ],
   "source": [
    "# Solution 1: User date string\n",
    "# - Pro: simple and quick\n",
    "# - Con: might miss date string of different format, for example, \"14 Oct 2023\"\n",
    "# => Use this method if you know that date strings have consistent format.\n",
    "print(df[\"date\"].dtype)\n",
    "df[df[\"date\"].str.contains(\"10/2023\")].shape[0]"
   ]
  },
  {
   "cell_type": "code",
   "execution_count": 24,
   "metadata": {},
   "outputs": [
    {
     "name": "stdout",
     "output_type": "stream",
     "text": [
      "There are 3 date strings that have different lengths.\n"
     ]
    }
   ],
   "source": [
    "# Check consistency of date string\n",
    "# This is not the best way to check consistency of date string\n",
    "# but work in this case\n",
    "import numpy as np\n",
    "\n",
    "different_date_string = df[df[\"date\"].str.len() != len(df.at[0,\"date\"])]\n",
    "print(f\"There are {different_date_string.shape[0]} date strings that have different lengths.\")"
   ]
  },
  {
   "cell_type": "code",
   "execution_count": 25,
   "metadata": {},
   "outputs": [
    {
     "name": "stdout",
     "output_type": "stream",
     "text": [
      "Normal format: 23/07/2023\n",
      "Different format before:\n",
      "450    21/07/2023 22:08\n",
      "523    17/04/2023 01:46\n",
      "775    05/02/2023 02:45\n",
      "Name: date, dtype: object\n",
      "Different format after:\n",
      "450    21/07/2023\n",
      "523    17/04/2023\n",
      "775    05/02/2023\n",
      "Name: date, dtype: object\n"
     ]
    }
   ],
   "source": [
    "# Update date strings to be consistent\n",
    "indices = different_date_string.index\n",
    "print(\"Normal format:\", df.loc[0, \"date\"])\n",
    "print(f\"Different format before:\\n{df.loc[indices, 'date']}\")\n",
    "\n",
    "normal_length = len(df.loc[0, \"date\"])\n",
    "df[\"date\"] = df[\"date\"].str[:normal_length]\n",
    "print(f\"Different format after:\\n{df.loc[indices, 'date']}\")"
   ]
  },
  {
   "cell_type": "code",
   "execution_count": 51,
   "metadata": {},
   "outputs": [
    {
     "data": {
      "text/plain": [
       "139"
      ]
     },
     "execution_count": 51,
     "metadata": {},
     "output_type": "execute_result"
    }
   ],
   "source": [
    "# Solution 2: Convert to datetime object\n",
    "# - Pro: complete\n",
    "# - Con: complex\n",
    "format = \"%d/%m/%Y\"\n",
    "df[\"date\"] = pd.to_datetime(df[\"date\"], format=format)\n",
    "df[(df[\"date\"].dt.month == 10) & (df[\"date\"].dt.year == 2023)].shape[0]"
   ]
  },
  {
   "cell_type": "code",
   "execution_count": 64,
   "metadata": {},
   "outputs": [
    {
     "data": {
      "text/plain": [
       "139"
      ]
     },
     "execution_count": 64,
     "metadata": {},
     "output_type": "execute_result"
    }
   ],
   "source": [
    "start = pd.to_datetime(\"01/10/2023\", dayfirst=True)\n",
    "end = pd.to_datetime(\"31/10/2023\", dayfirst=True)\n",
    "df.loc[(df[\"date\"]>= start) & (df[\"date\"] <= end)].shape[0]"
   ]
  }
 ],
 "metadata": {
  "kernelspec": {
   "display_name": ".venv",
   "language": "python",
   "name": "python3"
  },
  "language_info": {
   "codemirror_mode": {
    "name": "ipython",
    "version": 3
   },
   "file_extension": ".py",
   "mimetype": "text/x-python",
   "name": "python",
   "nbconvert_exporter": "python",
   "pygments_lexer": "ipython3",
   "version": "3.9.6"
  }
 },
 "nbformat": 4,
 "nbformat_minor": 2
}
