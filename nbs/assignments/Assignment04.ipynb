{
 "cells": [
  {
   "cell_type": "markdown",
   "metadata": {},
   "source": [
    "# Assignment 04\n",
    "\n",
    "Date: 19.10.2023"
   ]
  },
  {
   "cell_type": "markdown",
   "metadata": {},
   "source": [
    "Read the requirements carefully and do the following tasks.\n",
    "\n",
    "REQUIREMENTS:\n",
    "- The purpose of this exercise is to review the knowlegde and to test you understanding of Pandas, so it's is **required to use Pandas and/or Numpy** to solve all tasks, without importing a third-party libraries.\n",
    "- Only use `for` loop when the question indicate you can use it.\n",
    "- The submission must be a notebook with a name follows this format `Assigment04_[your_name].ipynb`, for example, `Assignment04_Khue.ipynb`, a screenshot is not accepted.\n",
    "- You can use this notebook to submit or create a new one."
   ]
  },
  {
   "cell_type": "markdown",
   "metadata": {},
   "source": [
    "1. Load data from a CSV file `../data/billionnairs.csv`"
   ]
  },
  {
   "cell_type": "code",
   "execution_count": null,
   "metadata": {},
   "outputs": [],
   "source": []
  },
  {
   "cell_type": "markdown",
   "metadata": {},
   "source": [
    "2. Print how many rows, how many columns in the data"
   ]
  },
  {
   "cell_type": "code",
   "execution_count": null,
   "metadata": {},
   "outputs": [
    {
     "data": {
      "text/plain": [
       "(2640, 35)"
      ]
     },
     "metadata": {},
     "output_type": "display_data"
    }
   ],
   "source": []
  },
  {
   "cell_type": "markdown",
   "metadata": {},
   "source": [
    "3. Print infomation of data using `.info()`"
   ]
  },
  {
   "cell_type": "code",
   "execution_count": null,
   "metadata": {},
   "outputs": [
    {
     "name": "stdout",
     "output_type": "stream",
     "text": [
      "<class 'pandas.core.frame.DataFrame'>\n",
      "RangeIndex: 2640 entries, 0 to 2639\n",
      "Data columns (total 35 columns):\n",
      " #   Column                                      Non-Null Count  Dtype  \n",
      "---  ------                                      --------------  -----  \n",
      " 0   rank                                        2640 non-null   int64  \n",
      " 1   finalWorth                                  2640 non-null   int64  \n",
      " 2   category                                    2640 non-null   object \n",
      " 3   personName                                  2640 non-null   object \n",
      " 4   age                                         2575 non-null   float64\n",
      " 5   country                                     2602 non-null   object \n",
      " 6   city                                        2568 non-null   object \n",
      " 7   source                                      2640 non-null   object \n",
      " 8   industries                                  2640 non-null   object \n",
      " 9   countryOfCitizenship                        2640 non-null   object \n",
      " 10  organization                                325 non-null    object \n",
      " 11  selfMade                                    2640 non-null   bool   \n",
      " 12  status                                      2640 non-null   object \n",
      " 13  gender                                      2640 non-null   object \n",
      " 14  birthDate                                   2564 non-null   object \n",
      " 15  lastName                                    2640 non-null   object \n",
      " 16  firstName                                   2637 non-null   object \n",
      " 17  title                                       339 non-null    object \n",
      " 18  date                                        2640 non-null   object \n",
      " 19  state                                       753 non-null    object \n",
      " 20  residenceStateRegion                        747 non-null    object \n",
      " 21  birthYear                                   2563 non-null   float64\n",
      " 22  birthMonth                                  2564 non-null   float64\n",
      " 23  birthDay                                    2564 non-null   float64\n",
      " 24  cpi_country                                 2456 non-null   float64\n",
      " 25  cpi_change_country                          2456 non-null   float64\n",
      " 26  gdp_country                                 2476 non-null   object \n",
      " 27  gross_tertiary_education_enrollment         2458 non-null   float64\n",
      " 28  gross_primary_education_enrollment_country  2459 non-null   float64\n",
      " 29  life_expectancy_country                     2458 non-null   float64\n",
      " 30  tax_revenue_country_country                 2457 non-null   float64\n",
      " 31  total_tax_rate_country                      2458 non-null   float64\n",
      " 32  population_country                          2476 non-null   float64\n",
      " 33  latitude_country                            2476 non-null   float64\n",
      " 34  longitude_country                           2476 non-null   float64\n",
      "dtypes: bool(1), float64(14), int64(2), object(18)\n",
      "memory usage: 704.0+ KB\n"
     ]
    }
   ],
   "source": []
  },
  {
   "cell_type": "markdown",
   "metadata": {},
   "source": [
    "4. How many missing values (in each column and in total)?"
   ]
  },
  {
   "cell_type": "code",
   "execution_count": null,
   "metadata": {},
   "outputs": [
    {
     "data": {
      "text/plain": [
       "<bound method DataFrame.sum of        rank  finalWorth  category  personName    age  country   city  source  \\\n",
       "0     False       False     False       False  False    False  False   False   \n",
       "1     False       False     False       False  False    False  False   False   \n",
       "2     False       False     False       False  False    False  False   False   \n",
       "3     False       False     False       False  False    False  False   False   \n",
       "4     False       False     False       False  False    False  False   False   \n",
       "...     ...         ...       ...         ...    ...      ...    ...     ...   \n",
       "2635  False       False     False       False  False    False  False   False   \n",
       "2636  False       False     False       False  False    False  False   False   \n",
       "2637  False       False     False       False  False    False  False   False   \n",
       "2638  False       False     False       False  False    False  False   False   \n",
       "2639  False       False     False       False  False    False  False   False   \n",
       "\n",
       "      industries  countryOfCitizenship  ...  cpi_change_country  gdp_country  \\\n",
       "0          False                 False  ...               False        False   \n",
       "1          False                 False  ...               False        False   \n",
       "2          False                 False  ...               False        False   \n",
       "3          False                 False  ...               False        False   \n",
       "4          False                 False  ...               False        False   \n",
       "...          ...                   ...  ...                 ...          ...   \n",
       "2635       False                 False  ...               False        False   \n",
       "2636       False                 False  ...               False        False   \n",
       "2637       False                 False  ...               False        False   \n",
       "2638       False                 False  ...               False        False   \n",
       "2639       False                 False  ...               False        False   \n",
       "\n",
       "      gross_tertiary_education_enrollment  \\\n",
       "0                                   False   \n",
       "1                                   False   \n",
       "2                                   False   \n",
       "3                                   False   \n",
       "4                                   False   \n",
       "...                                   ...   \n",
       "2635                                False   \n",
       "2636                                False   \n",
       "2637                                False   \n",
       "2638                                False   \n",
       "2639                                False   \n",
       "\n",
       "      gross_primary_education_enrollment_country  life_expectancy_country  \\\n",
       "0                                          False                    False   \n",
       "1                                          False                    False   \n",
       "2                                          False                    False   \n",
       "3                                          False                    False   \n",
       "4                                          False                    False   \n",
       "...                                          ...                      ...   \n",
       "2635                                       False                    False   \n",
       "2636                                       False                    False   \n",
       "2637                                       False                    False   \n",
       "2638                                       False                    False   \n",
       "2639                                       False                    False   \n",
       "\n",
       "      tax_revenue_country_country  total_tax_rate_country  population_country  \\\n",
       "0                           False                   False               False   \n",
       "1                           False                   False               False   \n",
       "2                           False                   False               False   \n",
       "3                           False                   False               False   \n",
       "4                           False                   False               False   \n",
       "...                           ...                     ...                 ...   \n",
       "2635                        False                   False               False   \n",
       "2636                        False                   False               False   \n",
       "2637                        False                   False               False   \n",
       "2638                        False                   False               False   \n",
       "2639                        False                   False               False   \n",
       "\n",
       "      latitude_country  longitude_country  \n",
       "0                False              False  \n",
       "1                False              False  \n",
       "2                False              False  \n",
       "3                False              False  \n",
       "4                False              False  \n",
       "...                ...                ...  \n",
       "2635             False              False  \n",
       "2636             False              False  \n",
       "2637             False              False  \n",
       "2638             False              False  \n",
       "2639             False              False  \n",
       "\n",
       "[2640 rows x 35 columns]>"
      ]
     },
     "metadata": {},
     "output_type": "display_data"
    }
   ],
   "source": []
  },
  {
   "cell_type": "code",
   "execution_count": null,
   "metadata": {},
   "outputs": [
    {
     "data": {
      "text/plain": [
       "rank                                             0\n",
       "finalWorth                                       0\n",
       "category                                         0\n",
       "personName                                       0\n",
       "age                                             65\n",
       "country                                         38\n",
       "city                                            72\n",
       "source                                           0\n",
       "industries                                       0\n",
       "countryOfCitizenship                             0\n",
       "organization                                  2315\n",
       "selfMade                                         0\n",
       "status                                           0\n",
       "gender                                           0\n",
       "birthDate                                       76\n",
       "lastName                                         0\n",
       "firstName                                        3\n",
       "title                                         2301\n",
       "date                                             0\n",
       "state                                         1887\n",
       "residenceStateRegion                          1893\n",
       "birthYear                                       77\n",
       "birthMonth                                      76\n",
       "birthDay                                        76\n",
       "cpi_country                                    184\n",
       "cpi_change_country                             184\n",
       "gdp_country                                    164\n",
       "gross_tertiary_education_enrollment            182\n",
       "gross_primary_education_enrollment_country     181\n",
       "life_expectancy_country                        182\n",
       "tax_revenue_country_country                    183\n",
       "total_tax_rate_country                         182\n",
       "population_country                             164\n",
       "latitude_country                               164\n",
       "longitude_country                              164\n",
       "dtype: int64"
      ]
     },
     "metadata": {},
     "output_type": "display_data"
    }
   ],
   "source": []
  },
  {
   "cell_type": "markdown",
   "metadata": {},
   "source": [
    "5. Calculate the percentage of missing data? If there is no missing data, ignore this question."
   ]
  },
  {
   "cell_type": "code",
   "execution_count": null,
   "metadata": {},
   "outputs": [
    {
     "data": {
      "text/plain": [
       "rank                                          0.000000\n",
       "finalWorth                                    0.000000\n",
       "category                                      0.000000\n",
       "personName                                    0.000000\n",
       "age                                           0.070346\n",
       "country                                       0.041126\n",
       "city                                          0.077922\n",
       "source                                        0.000000\n",
       "industries                                    0.000000\n",
       "countryOfCitizenship                          0.000000\n",
       "organization                                  2.505411\n",
       "selfMade                                      0.000000\n",
       "status                                        0.000000\n",
       "gender                                        0.000000\n",
       "birthDate                                     0.082251\n",
       "lastName                                      0.000000\n",
       "firstName                                     0.003247\n",
       "title                                         2.490260\n",
       "date                                          0.000000\n",
       "state                                         2.042208\n",
       "residenceStateRegion                          2.048701\n",
       "birthYear                                     0.083333\n",
       "birthMonth                                    0.082251\n",
       "birthDay                                      0.082251\n",
       "cpi_country                                   0.199134\n",
       "cpi_change_country                            0.199134\n",
       "gdp_country                                   0.177489\n",
       "gross_tertiary_education_enrollment           0.196970\n",
       "gross_primary_education_enrollment_country    0.195887\n",
       "life_expectancy_country                       0.196970\n",
       "tax_revenue_country_country                   0.198052\n",
       "total_tax_rate_country                        0.196970\n",
       "population_country                            0.177489\n",
       "latitude_country                              0.177489\n",
       "longitude_country                             0.177489\n",
       "dtype: float64"
      ]
     },
     "metadata": {},
     "output_type": "display_data"
    }
   ],
   "source": []
  },
  {
   "cell_type": "markdown",
   "metadata": {},
   "source": [
    "6. Fill missing data with the string \"Unknown\" for columns `organization` and `title`. "
   ]
  },
  {
   "cell_type": "code",
   "execution_count": null,
   "metadata": {},
   "outputs": [
    {
     "data": {
      "text/plain": [
       "organization    2315\n",
       "title           2301\n",
       "dtype: int64"
      ]
     },
     "metadata": {},
     "output_type": "display_data"
    }
   ],
   "source": []
  },
  {
   "cell_type": "markdown",
   "metadata": {},
   "source": [
    "7. Replace all variants of China in the column `country` to become string `China` (`P.R.C` also means China)"
   ]
  },
  {
   "cell_type": "code",
   "execution_count": null,
   "metadata": {},
   "outputs": [],
   "source": []
  },
  {
   "cell_type": "markdown",
   "metadata": {},
   "source": [
    "8. How many billionaires resides in the country `China`? (read the data description to know which column stores this info)"
   ]
  },
  {
   "cell_type": "code",
   "execution_count": null,
   "metadata": {},
   "outputs": [],
   "source": []
  },
  {
   "cell_type": "markdown",
   "metadata": {},
   "source": [
    "9. How many billionaires have `China` citizenship? (read the data description to know which column stores this info)"
   ]
  },
  {
   "cell_type": "code",
   "execution_count": null,
   "metadata": {},
   "outputs": [
    {
     "data": {
      "text/plain": [
       "491"
      ]
     },
     "metadata": {},
     "output_type": "display_data"
    }
   ],
   "source": []
  },
  {
   "cell_type": "markdown",
   "metadata": {},
   "source": [
    "10. What are the category of billionaires that have citizenship of `Australia` ?"
   ]
  },
  {
   "cell_type": "code",
   "execution_count": null,
   "metadata": {},
   "outputs": [
    {
     "data": {
      "text/plain": [
       "array(['Metals & Mining', 'Real Estate', 'Manufacturing', 'Technology',\n",
       "       'Finance & Investments', 'Diversified', 'Automotive', 'Logistics',\n",
       "       'Food & Beverage', 'Fashion & Retail', 'Energy', 'Telecom'],\n",
       "      dtype=object)"
      ]
     },
     "metadata": {},
     "output_type": "display_data"
    }
   ],
   "source": []
  },
  {
   "cell_type": "markdown",
   "metadata": {},
   "source": [
    "11. How many billionaires under 25 years old?"
   ]
  },
  {
   "cell_type": "code",
   "execution_count": null,
   "metadata": {},
   "outputs": [
    {
     "data": {
      "text/html": [
       "<div>\n",
       "<style scoped>\n",
       "    .dataframe tbody tr th:only-of-type {\n",
       "        vertical-align: middle;\n",
       "    }\n",
       "\n",
       "    .dataframe tbody tr th {\n",
       "        vertical-align: top;\n",
       "    }\n",
       "\n",
       "    .dataframe thead th {\n",
       "        text-align: right;\n",
       "    }\n",
       "</style>\n",
       "<table border=\"1\" class=\"dataframe\">\n",
       "  <thead>\n",
       "    <tr style=\"text-align: right;\">\n",
       "      <th></th>\n",
       "      <th>rank</th>\n",
       "      <th>finalWorth</th>\n",
       "      <th>category</th>\n",
       "      <th>personName</th>\n",
       "      <th>age</th>\n",
       "      <th>country</th>\n",
       "      <th>city</th>\n",
       "      <th>source</th>\n",
       "      <th>industries</th>\n",
       "      <th>countryOfCitizenship</th>\n",
       "      <th>...</th>\n",
       "      <th>cpi_change_country</th>\n",
       "      <th>gdp_country</th>\n",
       "      <th>gross_tertiary_education_enrollment</th>\n",
       "      <th>gross_primary_education_enrollment_country</th>\n",
       "      <th>life_expectancy_country</th>\n",
       "      <th>tax_revenue_country_country</th>\n",
       "      <th>total_tax_rate_country</th>\n",
       "      <th>population_country</th>\n",
       "      <th>latitude_country</th>\n",
       "      <th>longitude_country</th>\n",
       "    </tr>\n",
       "  </thead>\n",
       "  <tbody>\n",
       "    <tr>\n",
       "      <th>823</th>\n",
       "      <td>818</td>\n",
       "      <td>3500</td>\n",
       "      <td>Fashion &amp; Retail</td>\n",
       "      <td>Clemente Del Vecchio</td>\n",
       "      <td>18.0</td>\n",
       "      <td>China</td>\n",
       "      <td>Milan</td>\n",
       "      <td>Eyeglases</td>\n",
       "      <td>Fashion &amp; Retail</td>\n",
       "      <td>Italy</td>\n",
       "      <td>...</td>\n",
       "      <td>0.6</td>\n",
       "      <td>$2,001,244,392,042</td>\n",
       "      <td>61.9</td>\n",
       "      <td>101.9</td>\n",
       "      <td>82.9</td>\n",
       "      <td>24.3</td>\n",
       "      <td>59.1</td>\n",
       "      <td>60297396.0</td>\n",
       "      <td>41.87194</td>\n",
       "      <td>12.56738</td>\n",
       "    </tr>\n",
       "    <tr>\n",
       "      <th>825</th>\n",
       "      <td>818</td>\n",
       "      <td>3500</td>\n",
       "      <td>Fashion &amp; Retail</td>\n",
       "      <td>Luca Del Vecchio</td>\n",
       "      <td>21.0</td>\n",
       "      <td>China</td>\n",
       "      <td>Milan</td>\n",
       "      <td>Eyeglasses</td>\n",
       "      <td>Fashion &amp; Retail</td>\n",
       "      <td>Italy</td>\n",
       "      <td>...</td>\n",
       "      <td>0.6</td>\n",
       "      <td>$2,001,244,392,042</td>\n",
       "      <td>61.9</td>\n",
       "      <td>101.9</td>\n",
       "      <td>82.9</td>\n",
       "      <td>24.3</td>\n",
       "      <td>59.1</td>\n",
       "      <td>60297396.0</td>\n",
       "      <td>41.87194</td>\n",
       "      <td>12.56738</td>\n",
       "    </tr>\n",
       "    <tr>\n",
       "      <th>1334</th>\n",
       "      <td>1312</td>\n",
       "      <td>2300</td>\n",
       "      <td>Fashion &amp; Retail</td>\n",
       "      <td>Kevin David Lehmann</td>\n",
       "      <td>20.0</td>\n",
       "      <td>China</td>\n",
       "      <td>NaN</td>\n",
       "      <td>Drugstores</td>\n",
       "      <td>Fashion &amp; Retail</td>\n",
       "      <td>Germany</td>\n",
       "      <td>...</td>\n",
       "      <td>NaN</td>\n",
       "      <td>NaN</td>\n",
       "      <td>NaN</td>\n",
       "      <td>NaN</td>\n",
       "      <td>NaN</td>\n",
       "      <td>NaN</td>\n",
       "      <td>NaN</td>\n",
       "      <td>NaN</td>\n",
       "      <td>NaN</td>\n",
       "      <td>NaN</td>\n",
       "    </tr>\n",
       "    <tr>\n",
       "      <th>1754</th>\n",
       "      <td>1725</td>\n",
       "      <td>1700</td>\n",
       "      <td>Media &amp; Entertainment</td>\n",
       "      <td>Kim Jung-min</td>\n",
       "      <td>21.0</td>\n",
       "      <td>China</td>\n",
       "      <td>NaN</td>\n",
       "      <td>Online gaming</td>\n",
       "      <td>Media &amp; Entertainment</td>\n",
       "      <td>South Korea</td>\n",
       "      <td>...</td>\n",
       "      <td>NaN</td>\n",
       "      <td>NaN</td>\n",
       "      <td>NaN</td>\n",
       "      <td>NaN</td>\n",
       "      <td>NaN</td>\n",
       "      <td>NaN</td>\n",
       "      <td>NaN</td>\n",
       "      <td>NaN</td>\n",
       "      <td>NaN</td>\n",
       "      <td>NaN</td>\n",
       "    </tr>\n",
       "    <tr>\n",
       "      <th>1755</th>\n",
       "      <td>1725</td>\n",
       "      <td>1700</td>\n",
       "      <td>Media &amp; Entertainment</td>\n",
       "      <td>Kim Jung-youn</td>\n",
       "      <td>19.0</td>\n",
       "      <td>China</td>\n",
       "      <td>NaN</td>\n",
       "      <td>Online gaming</td>\n",
       "      <td>Media &amp; Entertainment</td>\n",
       "      <td>South Korea</td>\n",
       "      <td>...</td>\n",
       "      <td>NaN</td>\n",
       "      <td>NaN</td>\n",
       "      <td>NaN</td>\n",
       "      <td>NaN</td>\n",
       "      <td>NaN</td>\n",
       "      <td>NaN</td>\n",
       "      <td>NaN</td>\n",
       "      <td>NaN</td>\n",
       "      <td>NaN</td>\n",
       "      <td>NaN</td>\n",
       "    </tr>\n",
       "  </tbody>\n",
       "</table>\n",
       "<p>5 rows × 35 columns</p>\n",
       "</div>"
      ],
      "text/plain": [
       "      rank  finalWorth               category            personName   age  \\\n",
       "823    818        3500       Fashion & Retail  Clemente Del Vecchio  18.0   \n",
       "825    818        3500       Fashion & Retail      Luca Del Vecchio  21.0   \n",
       "1334  1312        2300       Fashion & Retail   Kevin David Lehmann  20.0   \n",
       "1754  1725        1700  Media & Entertainment          Kim Jung-min  21.0   \n",
       "1755  1725        1700  Media & Entertainment         Kim Jung-youn  19.0   \n",
       "\n",
       "     country   city         source             industries  \\\n",
       "823    China  Milan      Eyeglases       Fashion & Retail   \n",
       "825    China  Milan     Eyeglasses       Fashion & Retail   \n",
       "1334   China    NaN     Drugstores       Fashion & Retail   \n",
       "1754   China    NaN  Online gaming  Media & Entertainment   \n",
       "1755   China    NaN  Online gaming  Media & Entertainment   \n",
       "\n",
       "     countryOfCitizenship  ... cpi_change_country          gdp_country  \\\n",
       "823                 Italy  ...                0.6  $2,001,244,392,042    \n",
       "825                 Italy  ...                0.6  $2,001,244,392,042    \n",
       "1334              Germany  ...                NaN                  NaN   \n",
       "1754          South Korea  ...                NaN                  NaN   \n",
       "1755          South Korea  ...                NaN                  NaN   \n",
       "\n",
       "     gross_tertiary_education_enrollment  \\\n",
       "823                                 61.9   \n",
       "825                                 61.9   \n",
       "1334                                 NaN   \n",
       "1754                                 NaN   \n",
       "1755                                 NaN   \n",
       "\n",
       "     gross_primary_education_enrollment_country life_expectancy_country  \\\n",
       "823                                       101.9                    82.9   \n",
       "825                                       101.9                    82.9   \n",
       "1334                                        NaN                     NaN   \n",
       "1754                                        NaN                     NaN   \n",
       "1755                                        NaN                     NaN   \n",
       "\n",
       "     tax_revenue_country_country total_tax_rate_country population_country  \\\n",
       "823                         24.3                   59.1         60297396.0   \n",
       "825                         24.3                   59.1         60297396.0   \n",
       "1334                         NaN                    NaN                NaN   \n",
       "1754                         NaN                    NaN                NaN   \n",
       "1755                         NaN                    NaN                NaN   \n",
       "\n",
       "     latitude_country longitude_country  \n",
       "823          41.87194          12.56738  \n",
       "825          41.87194          12.56738  \n",
       "1334              NaN               NaN  \n",
       "1754              NaN               NaN  \n",
       "1755              NaN               NaN  \n",
       "\n",
       "[5 rows x 35 columns]"
      ]
     },
     "metadata": {},
     "output_type": "display_data"
    }
   ],
   "source": []
  },
  {
   "cell_type": "markdown",
   "metadata": {},
   "source": [
    "12. Which country/countries that has billionaires over 100 years old?"
   ]
  },
  {
   "cell_type": "code",
   "execution_count": null,
   "metadata": {},
   "outputs": [
    {
     "data": {
      "text/plain": [
       "array(['China'], dtype=object)"
      ]
     },
     "metadata": {},
     "output_type": "display_data"
    }
   ],
   "source": []
  },
  {
   "cell_type": "markdown",
   "metadata": {},
   "source": [
    "13. What is the mean final net worth of all female billionaires?"
   ]
  },
  {
   "cell_type": "code",
   "execution_count": null,
   "metadata": {},
   "outputs": [
    {
     "data": {
      "text/plain": [
       "4570.326409495549"
      ]
     },
     "metadata": {},
     "output_type": "display_data"
    }
   ],
   "source": []
  },
  {
   "cell_type": "markdown",
   "metadata": {},
   "source": [
    "14. What is the mean final net worth of all male billionaires?"
   ]
  },
  {
   "cell_type": "code",
   "execution_count": null,
   "metadata": {},
   "outputs": [
    {
     "data": {
      "text/plain": [
       "4631.61094224924"
      ]
     },
     "metadata": {},
     "output_type": "display_data"
    }
   ],
   "source": []
  },
  {
   "cell_type": "markdown",
   "metadata": {},
   "source": [
    "15. What is the average age of billionaires each industry? Round to 2 digit. (You can use `for` loop)"
   ]
  },
  {
   "cell_type": "code",
   "execution_count": null,
   "metadata": {},
   "outputs": [
    {
     "name": "stdout",
     "output_type": "stream",
     "text": [
      "Fashion & Retail: 66.78 years old.\n",
      "Automotive: 66.14 years old.\n",
      "Technology: 57.32 years old.\n",
      "Finance & Investments: 65.47 years old.\n",
      "Media & Entertainment: 64.80 years old.\n",
      "Telecom: 66.68 years old.\n",
      "Diversified: 68.70 years old.\n",
      "Food & Beverage: 66.64 years old.\n",
      "Logistics: 68.18 years old.\n",
      "Gambling & Casinos: 68.52 years old.\n",
      "Manufacturing: 64.66 years old.\n",
      "Real Estate: 68.12 years old.\n",
      "Metals & Mining: 61.81 years old.\n",
      "Energy: 67.82 years old.\n",
      "Healthcare: 64.68 years old.\n",
      "Service: 67.77 years old.\n",
      "Construction & Engineering: 64.59 years old.\n",
      "Sports: 69.03 years old.\n"
     ]
    }
   ],
   "source": []
  },
  {
   "cell_type": "markdown",
   "metadata": {},
   "source": [
    "16. Percentage of final net worth of billionaires reside in United States?"
   ]
  },
  {
   "cell_type": "code",
   "execution_count": null,
   "metadata": {},
   "outputs": [],
   "source": []
  },
  {
   "cell_type": "markdown",
   "metadata": {},
   "source": [
    "17. How many rows of data are collected on this month (October 2023)?"
   ]
  },
  {
   "cell_type": "code",
   "execution_count": null,
   "metadata": {},
   "outputs": [],
   "source": []
  }
 ],
 "metadata": {
  "language_info": {
   "name": "python"
  }
 },
 "nbformat": 4,
 "nbformat_minor": 2
}
