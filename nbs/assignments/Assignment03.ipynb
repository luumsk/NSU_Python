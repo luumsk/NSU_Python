{
 "cells": [
  {
   "cell_type": "markdown",
   "metadata": {},
   "source": [
    "# Assignment 3\n",
    "\n",
    "Date: 12.10.2023"
   ]
  },
  {
   "cell_type": "markdown",
   "metadata": {},
   "source": [
    "## Q1.\n",
    "\n",
    "- Create binary image as a Numpy array with values as in `img/smile12.png`\n",
    "- Reverse the colors of the image (black -> white, white -> black)."
   ]
  },
  {
   "cell_type": "code",
   "execution_count": null,
   "metadata": {},
   "outputs": [],
   "source": []
  },
  {
   "cell_type": "markdown",
   "metadata": {},
   "source": [
    "## Q2.\n",
    "\n",
    "A **confusion matrix** is a common tool in machine learning and statistics to evaluate the performance of a classification model. It provides a summary of the predicted and actual classification results, which helps in assessing the model's accuracy, precision, recall, and other metrics.\n",
    "\n",
    "A confusion matrix is typically a square matrix that shows four types of classification outcomes:\n",
    "\n",
    "- True Positive (TP): The model correctly predicted a positive class instance as positive.\n",
    "- True Negative (TN): The model correctly predicted a negative class instance as negative.\n",
    "- False Positive (FP): The model incorrectly predicted a negative class instance as positive (Type I error).\n",
    "- False Negative (FN): The model incorrectly predicted a positive class instance as negative (Type II error).\n",
    "\n",
    "| Target | Prediction | Outcome        |\n",
    "| ------ | -----------| ---------------|\n",
    "| 1      | 1          | True Positive  |\n",
    "| 0      | 0          | True Negative  |\n",
    "| 0      | 1          | False Positive |\n",
    "| 1      | 0          | False Negative |\n",
    "\n",
    "See example of Confusion Matrix at `img/cm.png`\n",
    "\n",
    "Give 2 Numpy arrays: `target` and `prediction` below, do the following tasks:\n",
    "\n",
    "- Count number of `True Positive`, `True Negative`, `False Positive`, `False Negative`\n",
    "- Print the confusion matrix as a 2x2 Numpy array."
   ]
  },
  {
   "cell_type": "code",
   "execution_count": null,
   "metadata": {},
   "outputs": [],
   "source": []
  }
 ],
 "metadata": {
  "kernelspec": {
   "display_name": ".venv",
   "language": "python",
   "name": "python3"
  },
  "language_info": {
   "name": "python",
   "version": "3.9.6"
  }
 },
 "nbformat": 4,
 "nbformat_minor": 2
}
