{
 "cells": [
  {
   "cell_type": "markdown",
   "metadata": {},
   "source": [
    "# Practice"
   ]
  },
  {
   "cell_type": "markdown",
   "metadata": {},
   "source": [
    "#### 2.1. Description\n",
    "The file `data/jobs.csv` contains salary trends in the field of data in the period 2021 - 2023, including these fields:\n",
    "\n",
    "- `work_year`: the year when the salary data was collected.\n",
    "- `experience_level`: EN (Entry-Level), EX (Experienced), MI (Mid-Level), SE (Senior).\n",
    "- `employment_type`: FT (Full-Time), CT (Contractor), FL (Freelancer), PT (Part-Time).\n",
    "- `job_title`: \"Applied Scientist\", \"Data Quality Analyst\", etc.\n",
    "- `salary`: The salary figures in their respective currency formats.\n",
    "- `salary_currency`: The currency code representing the salary.\n",
    "- `salary_in_usd`: The converted salary figures in USD.\n",
    "- `company_location`: The location of the companies, specified as country codes (e.g., \"US\" for the United States and \"NG\" for Nigeria).\n",
    "- `company_size`: \"L\" (Large), \"M\" (Medium), and \"S\" (Small).\n",
    "\n",
    "#### 2.2. Requirements\n",
    "\n",
    "Your task is to validate the quality of data, analyse data, and visualize the findings:\n",
    "\n",
    "- **Validate quality** Check the quality of the data. I intentionally add some unclean factors. I'll leave you figure them out yourselves.\n",
    "\n",
    "- **Analyze data**\n",
    "    - Suggest at least 10 analysis questions of what you want to find in the dataset, use Numpy/Pandas to get these information from the data to answer your questions. You can get some ideas from questions of the analysis of `billionairs` dataset.\n",
    "    - Answering these questions by using the data:\n",
    "        1. If I am an Mid-Level level Data Scientist looking for a full-time job, in term of salary in USD, which are the top 3 countries I should aim for? You can refer to [this link](https://www.ncbi.nlm.nih.gov/books/NBK7249/) to map country abbreviation to country names.\n",
    "        2. After consideration, I want to challenge myself in 1st ranked country among those you suggested in question 1. In term of salary in USD, which size of company I should aim for?\n",
    "        3. What is the highest and lowest salary I can expect for this job, with my level, of this company size, in this country?\n",
    "\n",
    "- **Visualization**\n",
    "    - In your analysis, plot at least 1 histogram, 1 pie chart, and 1 bar chart. You can plot more graphs to demonstrate your findings.\n",
    "\n",
    "Format of submisison: jupyter notebook, a screenshot is not accepted."
   ]
  },
  {
   "cell_type": "code",
   "execution_count": null,
   "metadata": {},
   "outputs": [],
   "source": []
  }
 ],
 "metadata": {
  "kernelspec": {
   "display_name": ".venv",
   "language": "python",
   "name": "python3"
  },
  "language_info": {
   "codemirror_mode": {
    "name": "ipython",
    "version": 3
   },
   "file_extension": ".py",
   "mimetype": "text/x-python",
   "name": "python",
   "nbconvert_exporter": "python",
   "pygments_lexer": "ipython3",
   "version": "3.9.6"
  }
 },
 "nbformat": 4,
 "nbformat_minor": 2
}
