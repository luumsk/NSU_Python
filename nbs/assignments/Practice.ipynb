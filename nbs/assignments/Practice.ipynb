{
 "cells": [
  {
   "cell_type": "markdown",
   "metadata": {},
   "source": [
    "# Practice"
   ]
  },
  {
   "cell_type": "markdown",
   "metadata": {},
   "source": [
    "#### 2.1. Description\n",
    "The file `data/jobs.csv` contains salary trends in the field of data in the period 2021 - 2023, including these fields:\n",
    "\n",
    "- `work_year`: the year when the salary data was collected.\n",
    "- `experience_level`: EN (Entry-Level), EX (Experienced), MI (Mid-Level), SE (Senior).\n",
    "- `employment_type`: FT (Full-Time), CT (Contractor), FL (Freelancer), PT (Part-Time).\n",
    "- `job_title`: \"Applied Scientist\", \"Data Quality Analyst\", etc.\n",
    "- `salary`: The salary figures in their respective currency formats.\n",
    "- `salary_currency`: The currency code representing the salary.\n",
    "- `salary_in_usd`: The converted salary figures in USD.\n",
    "- `company_location`: The location of the companies, specified as country codes (e.g., \"US\" for the United States and \"NG\" for Nigeria).\n",
    "- `company_size`: \"L\" (Large), \"M\" (Medium), and \"S\" (Small).\n",
    "\n",
    "#### 2.2. Requirements\n",
    "\n",
    "Your task is to validate the quality of data, analyse data, and visualize the findings:\n",
    "\n",
    "- **Validate quality** Check the quality of the data. I intentionally add some unclean factors. I'll leave you figure them out yourselves.\n",
    "\n",
    "- **Analyze data**\n",
    "    - Suggest at least 10 analysis questions of what you want to find in the dataset, use Numpy/Pandas to get these information from the data to answer your questions. You can get some ideas from questions of the analysis of `billionairs` dataset.\n",
    "    - Answering these questions by using the data:\n",
    "        1. If I am an Mid-Level level Data Scientist looking for a full-time job, in term of salary in USD, which are the top 3 countries I should aim for? You can refer to [this link](https://www.ncbi.nlm.nih.gov/books/NBK7249/) to map country abbreviation to country names.\n",
    "        2. After consideration, I want to challenge myself in 1st ranked country among those you suggested in question 1. In term of salary in USD, which size of company I should aim for?\n",
    "        3. What is the highest and lowest salary I can expect for this job, with my level, of this company size, in this country?\n",
    "\n",
    "- **Visualization**\n",
    "    - In your analysis, plot at least 1 histogram, 1 pie chart, and 1 bar chart. You can plot more graphs to demonstrate your findings.\n",
    "\n",
    "Format of submisison: jupyter notebook, a screenshot is not accepted."
   ]
  },
  {
   "cell_type": "code",
   "execution_count": 1,
   "metadata": {},
   "outputs": [],
   "source": [
    "import pandas as pd\n",
    "import numpy as np"
   ]
  },
  {
   "cell_type": "markdown",
   "metadata": {},
   "source": [
    "### 1. Load data"
   ]
  },
  {
   "cell_type": "code",
   "execution_count": 2,
   "metadata": {},
   "outputs": [
    {
     "data": {
      "text/plain": [
       "(3573, 9)"
      ]
     },
     "execution_count": 2,
     "metadata": {},
     "output_type": "execute_result"
    }
   ],
   "source": [
    "df = pd.read_csv(\"../../data/jobs.csv\")\n",
    "df.shape"
   ]
  },
  {
   "cell_type": "code",
   "execution_count": 3,
   "metadata": {},
   "outputs": [
    {
     "data": {
      "text/html": [
       "<div>\n",
       "<style scoped>\n",
       "    .dataframe tbody tr th:only-of-type {\n",
       "        vertical-align: middle;\n",
       "    }\n",
       "\n",
       "    .dataframe tbody tr th {\n",
       "        vertical-align: top;\n",
       "    }\n",
       "\n",
       "    .dataframe thead th {\n",
       "        text-align: right;\n",
       "    }\n",
       "</style>\n",
       "<table border=\"1\" class=\"dataframe\">\n",
       "  <thead>\n",
       "    <tr style=\"text-align: right;\">\n",
       "      <th></th>\n",
       "      <th>work_year</th>\n",
       "      <th>experience_level</th>\n",
       "      <th>employment_type</th>\n",
       "      <th>job_title</th>\n",
       "      <th>salary</th>\n",
       "      <th>salary_currency</th>\n",
       "      <th>salary_in_usd</th>\n",
       "      <th>company_location</th>\n",
       "      <th>company_size</th>\n",
       "    </tr>\n",
       "  </thead>\n",
       "  <tbody>\n",
       "    <tr>\n",
       "      <th>0</th>\n",
       "      <td>2023</td>\n",
       "      <td>EN</td>\n",
       "      <td>FT</td>\n",
       "      <td>Applied Scientist</td>\n",
       "      <td>213660</td>\n",
       "      <td>USD</td>\n",
       "      <td>213660</td>\n",
       "      <td>US</td>\n",
       "      <td>L</td>\n",
       "    </tr>\n",
       "    <tr>\n",
       "      <th>1</th>\n",
       "      <td>2023</td>\n",
       "      <td>EN</td>\n",
       "      <td>FT</td>\n",
       "      <td>Applied Scientist</td>\n",
       "      <td>130760</td>\n",
       "      <td>USD</td>\n",
       "      <td>130760</td>\n",
       "      <td>US</td>\n",
       "      <td>L</td>\n",
       "    </tr>\n",
       "    <tr>\n",
       "      <th>2</th>\n",
       "      <td>2023</td>\n",
       "      <td>EN</td>\n",
       "      <td>FT</td>\n",
       "      <td>Applied Scientist</td>\n",
       "      <td>204620</td>\n",
       "      <td>USD</td>\n",
       "      <td>204620</td>\n",
       "      <td>US</td>\n",
       "      <td>L</td>\n",
       "    </tr>\n",
       "    <tr>\n",
       "      <th>3</th>\n",
       "      <td>2023</td>\n",
       "      <td>EN</td>\n",
       "      <td>FT</td>\n",
       "      <td>Applied Scientist</td>\n",
       "      <td>110680</td>\n",
       "      <td>USD</td>\n",
       "      <td>110680</td>\n",
       "      <td>US</td>\n",
       "      <td>L</td>\n",
       "    </tr>\n",
       "    <tr>\n",
       "      <th>4</th>\n",
       "      <td>2023</td>\n",
       "      <td>EN</td>\n",
       "      <td>FT</td>\n",
       "      <td>Machine Learning Engineer</td>\n",
       "      <td>163196</td>\n",
       "      <td>USD</td>\n",
       "      <td>163196</td>\n",
       "      <td>US</td>\n",
       "      <td>M</td>\n",
       "    </tr>\n",
       "  </tbody>\n",
       "</table>\n",
       "</div>"
      ],
      "text/plain": [
       "   work_year experience_level employment_type                  job_title  \\\n",
       "0       2023               EN              FT          Applied Scientist   \n",
       "1       2023               EN              FT          Applied Scientist   \n",
       "2       2023               EN              FT          Applied Scientist   \n",
       "3       2023               EN              FT          Applied Scientist   \n",
       "4       2023               EN              FT  Machine Learning Engineer   \n",
       "\n",
       "   salary salary_currency  salary_in_usd company_location company_size  \n",
       "0  213660             USD         213660               US            L  \n",
       "1  130760             USD         130760               US            L  \n",
       "2  204620             USD         204620               US            L  \n",
       "3  110680             USD         110680               US            L  \n",
       "4  163196             USD         163196               US            M  "
      ]
     },
     "execution_count": 3,
     "metadata": {},
     "output_type": "execute_result"
    }
   ],
   "source": [
    "df.head()"
   ]
  },
  {
   "cell_type": "markdown",
   "metadata": {},
   "source": [
    "### 2. Data validation"
   ]
  },
  {
   "cell_type": "markdown",
   "metadata": {},
   "source": [
    "- Check missing values"
   ]
  },
  {
   "cell_type": "code",
   "execution_count": 4,
   "metadata": {},
   "outputs": [
    {
     "data": {
      "text/plain": [
       "work_year           0\n",
       "experience_level    0\n",
       "employment_type     0\n",
       "job_title           0\n",
       "salary              0\n",
       "salary_currency     0\n",
       "salary_in_usd       0\n",
       "company_location    0\n",
       "company_size        0\n",
       "dtype: int64"
      ]
     },
     "execution_count": 4,
     "metadata": {},
     "output_type": "execute_result"
    }
   ],
   "source": [
    "df.isna().sum()"
   ]
  },
  {
   "cell_type": "markdown",
   "metadata": {},
   "source": [
    "- Check duplicated data"
   ]
  },
  {
   "cell_type": "code",
   "execution_count": 5,
   "metadata": {},
   "outputs": [
    {
     "name": "stdout",
     "output_type": "stream",
     "text": [
      "(1350, 9)\n"
     ]
    },
    {
     "data": {
      "text/html": [
       "<div>\n",
       "<style scoped>\n",
       "    .dataframe tbody tr th:only-of-type {\n",
       "        vertical-align: middle;\n",
       "    }\n",
       "\n",
       "    .dataframe tbody tr th {\n",
       "        vertical-align: top;\n",
       "    }\n",
       "\n",
       "    .dataframe thead th {\n",
       "        text-align: right;\n",
       "    }\n",
       "</style>\n",
       "<table border=\"1\" class=\"dataframe\">\n",
       "  <thead>\n",
       "    <tr style=\"text-align: right;\">\n",
       "      <th></th>\n",
       "      <th>work_year</th>\n",
       "      <th>experience_level</th>\n",
       "      <th>employment_type</th>\n",
       "      <th>job_title</th>\n",
       "      <th>salary</th>\n",
       "      <th>salary_currency</th>\n",
       "      <th>salary_in_usd</th>\n",
       "      <th>company_location</th>\n",
       "      <th>company_size</th>\n",
       "    </tr>\n",
       "  </thead>\n",
       "  <tbody>\n",
       "    <tr>\n",
       "      <th>12</th>\n",
       "      <td>2023</td>\n",
       "      <td>EN</td>\n",
       "      <td>FT</td>\n",
       "      <td>Data Analyst</td>\n",
       "      <td>75000</td>\n",
       "      <td>USD</td>\n",
       "      <td>75000</td>\n",
       "      <td>US</td>\n",
       "      <td>M</td>\n",
       "    </tr>\n",
       "    <tr>\n",
       "      <th>14</th>\n",
       "      <td>2023</td>\n",
       "      <td>EN</td>\n",
       "      <td>FT</td>\n",
       "      <td>Data Engineer</td>\n",
       "      <td>85000</td>\n",
       "      <td>USD</td>\n",
       "      <td>85000</td>\n",
       "      <td>US</td>\n",
       "      <td>M</td>\n",
       "    </tr>\n",
       "    <tr>\n",
       "      <th>15</th>\n",
       "      <td>2023</td>\n",
       "      <td>EN</td>\n",
       "      <td>FT</td>\n",
       "      <td>Data Engineer</td>\n",
       "      <td>65000</td>\n",
       "      <td>USD</td>\n",
       "      <td>65000</td>\n",
       "      <td>US</td>\n",
       "      <td>M</td>\n",
       "    </tr>\n",
       "    <tr>\n",
       "      <th>20</th>\n",
       "      <td>2023</td>\n",
       "      <td>EN</td>\n",
       "      <td>FT</td>\n",
       "      <td>Data Engineer</td>\n",
       "      <td>85000</td>\n",
       "      <td>USD</td>\n",
       "      <td>85000</td>\n",
       "      <td>US</td>\n",
       "      <td>M</td>\n",
       "    </tr>\n",
       "    <tr>\n",
       "      <th>21</th>\n",
       "      <td>2023</td>\n",
       "      <td>EN</td>\n",
       "      <td>FT</td>\n",
       "      <td>Data Engineer</td>\n",
       "      <td>65000</td>\n",
       "      <td>USD</td>\n",
       "      <td>65000</td>\n",
       "      <td>US</td>\n",
       "      <td>M</td>\n",
       "    </tr>\n",
       "  </tbody>\n",
       "</table>\n",
       "</div>"
      ],
      "text/plain": [
       "    work_year experience_level employment_type      job_title  salary  \\\n",
       "12       2023               EN              FT   Data Analyst   75000   \n",
       "14       2023               EN              FT  Data Engineer   85000   \n",
       "15       2023               EN              FT  Data Engineer   65000   \n",
       "20       2023               EN              FT  Data Engineer   85000   \n",
       "21       2023               EN              FT  Data Engineer   65000   \n",
       "\n",
       "   salary_currency  salary_in_usd company_location company_size  \n",
       "12             USD          75000               US            M  \n",
       "14             USD          85000               US            M  \n",
       "15             USD          65000               US            M  \n",
       "20             USD          85000               US            M  \n",
       "21             USD          65000               US            M  "
      ]
     },
     "execution_count": 5,
     "metadata": {},
     "output_type": "execute_result"
    }
   ],
   "source": [
    "duplicated = df[df.duplicated()]\n",
    "\n",
    "print(duplicated.shape)\n",
    "duplicated.head()"
   ]
  },
  {
   "cell_type": "markdown",
   "metadata": {},
   "source": [
    "- Check consistency of categorical data (textual data)"
   ]
  },
  {
   "cell_type": "code",
   "execution_count": 6,
   "metadata": {},
   "outputs": [
    {
     "name": "stdout",
     "output_type": "stream",
     "text": [
      "<class 'pandas.core.frame.DataFrame'>\n",
      "RangeIndex: 3573 entries, 0 to 3572\n",
      "Data columns (total 9 columns):\n",
      " #   Column            Non-Null Count  Dtype \n",
      "---  ------            --------------  ----- \n",
      " 0   work_year         3573 non-null   int64 \n",
      " 1   experience_level  3573 non-null   object\n",
      " 2   employment_type   3573 non-null   object\n",
      " 3   job_title         3573 non-null   object\n",
      " 4   salary            3573 non-null   int64 \n",
      " 5   salary_currency   3573 non-null   object\n",
      " 6   salary_in_usd     3573 non-null   int64 \n",
      " 7   company_location  3573 non-null   object\n",
      " 8   company_size      3573 non-null   object\n",
      "dtypes: int64(3), object(6)\n",
      "memory usage: 251.4+ KB\n"
     ]
    }
   ],
   "source": [
    "df.info()"
   ]
  },
  {
   "cell_type": "code",
   "execution_count": 7,
   "metadata": {},
   "outputs": [
    {
     "data": {
      "text/plain": [
       "Index(['experience_level', 'employment_type', 'job_title', 'salary_currency',\n",
       "       'company_location', 'company_size'],\n",
       "      dtype='object')"
      ]
     },
     "execution_count": 7,
     "metadata": {},
     "output_type": "execute_result"
    }
   ],
   "source": [
    "# Get all categorical columns\n",
    "\n",
    "# Solution 1:\n",
    "categorical_columns = [\n",
    "    \"experience_level\",\n",
    "    \"employment_type\",\n",
    "    \"job_title\",\n",
    "    \"salary_currency\",\n",
    "    \"company_location\",\n",
    "    \"company_size\"\n",
    "]\n",
    "\n",
    "# Solution 2:\n",
    "categorical_cols = df.select_dtypes(include=\"object\").columns\n",
    "categorical_cols"
   ]
  },
  {
   "cell_type": "code",
   "execution_count": 8,
   "metadata": {},
   "outputs": [
    {
     "name": "stdout",
     "output_type": "stream",
     "text": [
      "experience_level\n",
      "['EN' 'EX' 'MI' 'SE']\n",
      "\n",
      "employment_type\n",
      "['FT' 'PT' 'CT' 'FL']\n",
      "\n",
      "job_title\n",
      "['Applied Scientist' 'Machine Learning Engineer' 'Research Scientist'\n",
      " 'Data Engineer' 'Data Analyst' 'Data Scientist' 'BI Data Engineer'\n",
      " 'Research Engineer' 'Business Data Analyst'\n",
      " 'Applied Machine Learning Scientist' 'AI Developer'\n",
      " 'Computer Vision Engineer' 'BI Developer' 'Deep Learning Engineer'\n",
      " 'Head of Data' 'Analytics Engineer' 'Data Architect'\n",
      " 'Director of Data Science' 'Head of Data Science'\n",
      " 'Data Analytics Manager' 'ML Engineer'\n",
      " 'Applied Machine Learning Engineer' 'Applied Data Scientist'\n",
      " 'ETL Engineer' 'Big Data Engineer' 'Data Specialist' 'Lead Data Analyst'\n",
      " 'Data Manager' 'Machine Learning Scientist' 'MLOps Engineer'\n",
      " 'Financial Data Analyst' 'Data Science Manager' 'Data Science Consultant'\n",
      " 'Machine Learning Infrastructure Engineer' 'Insight Analyst'\n",
      " 'AI Scientist' 'Data Infrastructure Engineer' 'Data Science Lead'\n",
      " 'Product Data Analyst' 'Machine Learning Research Engineer'\n",
      " 'Principal Data Scientist' 'Data Modeler'\n",
      " 'Business Intelligence Engineer' 'Data Strategist' 'Data DevOps Engineer'\n",
      " 'Data Quality Analyst' 'Cloud Database Engineer'\n",
      " 'Data Operations Engineer' 'Deep Learning Researcher' 'BI Analyst'\n",
      " 'Data Analytics Specialist' 'BI Data Analyst'\n",
      " 'Machine Learning Software Engineer' 'Big Data Architect'\n",
      " 'Computer Vision Software Engineer' 'Data Lead' 'Data Science Engineer'\n",
      " 'NLP Engineer' 'Data Analytics Consultant' 'Machine Learning Developer'\n",
      " 'Lead Data Engineer' 'Head of Machine Learning'\n",
      " 'Machine Learning Researcher' 'Data Analytics Engineer'\n",
      " 'Lead Data Scientist' 'ETL Developer' 'Principal Data Analyst'\n",
      " 'Manager Data Management' 'Principal Machine Learning Engineer'\n",
      " 'Data Science Tech Lead' 'Data Operations Analyst'\n",
      " 'Marketing Data Analyst' 'Principal Data Architect'\n",
      " 'Machine Learning Manager' 'Lead Machine Learning Engineer'\n",
      " 'Data Scientist Lead' 'Data Analytics Lead' 'Power BI Developer'\n",
      " '3D Computer Vision Researcher' 'Cloud Data Architect'\n",
      " 'Principal Data Engineer' 'Cloud Data Engineer' 'Staff Data Scientist'\n",
      " 'Finance Data Analyst' 'Staff Data Analyst']\n",
      "\n",
      "salary_currency\n",
      "['USD' 'INR' 'CAD' 'EUR' 'PLN' 'BRL' 'GBP' 'HUF']\n",
      "\n",
      "company_location\n",
      "['US' 'IN' 'CA' 'ES' 'DE' 'BR' 'GB' 'GR' 'FR' 'PT']\n",
      "\n",
      "company_size\n",
      "['L' 'M' 'S' 'medium']\n",
      "\n"
     ]
    }
   ],
   "source": [
    "# Check unique values of all categorical columns\n",
    "for col in categorical_cols:\n",
    "    # Remove trailing spaces\n",
    "    df[col] = df[col].str.strip()\n",
    "\n",
    "    # Print unique values\n",
    "    print(col)\n",
    "    print(df[col].unique(), end=\"\\n\\n\")\n",
    "          "
   ]
  },
  {
   "cell_type": "code",
   "execution_count": 9,
   "metadata": {},
   "outputs": [
    {
     "name": "stdout",
     "output_type": "stream",
     "text": [
      "Before 32\n",
      "After 0\n"
     ]
    }
   ],
   "source": [
    "# Convert \"ML Engineer\" to \"Machine Learning Engineer\"\n",
    "print(\"Before\", df.loc[df[\"job_title\"] == \"ML Engineer\"].shape[0])\n",
    "df[\"job_title\"].replace(to_replace={\"ML Engineer\": \"Machine Learning Engineer\"}, inplace=True)\n",
    "print(\"After\", df.loc[df[\"job_title\"] == \"ML Engineer\"].shape[0])"
   ]
  },
  {
   "cell_type": "code",
   "execution_count": 10,
   "metadata": {},
   "outputs": [
    {
     "name": "stdout",
     "output_type": "stream",
     "text": [
      "Before 7\n",
      "Before 0\n"
     ]
    }
   ],
   "source": [
    "# Convert \"medium\" to \"M\"\n",
    "print(\"Before\", df.loc[df[\"company_size\"] == \"medium\"].shape[0])\n",
    "df[\"company_size\"].replace(to_replace={\"medium\": \"M\"}, inplace=True)\n",
    "print(\"Before\", df.loc[df[\"company_size\"] == \"medium\"].shape[0])"
   ]
  },
  {
   "cell_type": "markdown",
   "metadata": {},
   "source": [
    "If I am an Mid-Level level Data Scientist looking for a full-time job, in term of salary in USD, which are the top 3 countries I should aim for?"
   ]
  },
  {
   "cell_type": "code",
   "execution_count": 11,
   "metadata": {},
   "outputs": [
    {
     "data": {
      "text/plain": [
       "(138, 9)"
      ]
     },
     "execution_count": 11,
     "metadata": {},
     "output_type": "execute_result"
    }
   ],
   "source": [
    "cond1 = df[\"experience_level\"] == \"MI\"\n",
    "cond2 = df[\"job_title\"] == \"Data Scientist\"\n",
    "cond3 = df[\"employment_type\"] == \"FT\"\n",
    "df1 = df[cond1 & cond2 & cond3]\n",
    "df1.shape"
   ]
  },
  {
   "cell_type": "code",
   "execution_count": 12,
   "metadata": {},
   "outputs": [
    {
     "data": {
      "text/html": [
       "<div>\n",
       "<style scoped>\n",
       "    .dataframe tbody tr th:only-of-type {\n",
       "        vertical-align: middle;\n",
       "    }\n",
       "\n",
       "    .dataframe tbody tr th {\n",
       "        vertical-align: top;\n",
       "    }\n",
       "\n",
       "    .dataframe thead th {\n",
       "        text-align: right;\n",
       "    }\n",
       "</style>\n",
       "<table border=\"1\" class=\"dataframe\">\n",
       "  <thead>\n",
       "    <tr style=\"text-align: right;\">\n",
       "      <th></th>\n",
       "      <th>work_year</th>\n",
       "      <th>experience_level</th>\n",
       "      <th>employment_type</th>\n",
       "      <th>job_title</th>\n",
       "      <th>salary</th>\n",
       "      <th>salary_currency</th>\n",
       "      <th>salary_in_usd</th>\n",
       "      <th>company_location</th>\n",
       "      <th>company_size</th>\n",
       "    </tr>\n",
       "  </thead>\n",
       "  <tbody>\n",
       "    <tr>\n",
       "      <th>190</th>\n",
       "      <td>2023</td>\n",
       "      <td>MI</td>\n",
       "      <td>FT</td>\n",
       "      <td>Data Scientist</td>\n",
       "      <td>55000</td>\n",
       "      <td>GBP</td>\n",
       "      <td>66837</td>\n",
       "      <td>GB</td>\n",
       "      <td>M</td>\n",
       "    </tr>\n",
       "    <tr>\n",
       "      <th>191</th>\n",
       "      <td>2023</td>\n",
       "      <td>MI</td>\n",
       "      <td>FT</td>\n",
       "      <td>Data Scientist</td>\n",
       "      <td>45000</td>\n",
       "      <td>GBP</td>\n",
       "      <td>54685</td>\n",
       "      <td>GB</td>\n",
       "      <td>M</td>\n",
       "    </tr>\n",
       "    <tr>\n",
       "      <th>203</th>\n",
       "      <td>2023</td>\n",
       "      <td>MI</td>\n",
       "      <td>FT</td>\n",
       "      <td>Data Scientist</td>\n",
       "      <td>93918</td>\n",
       "      <td>USD</td>\n",
       "      <td>93918</td>\n",
       "      <td>US</td>\n",
       "      <td>M</td>\n",
       "    </tr>\n",
       "    <tr>\n",
       "      <th>204</th>\n",
       "      <td>2023</td>\n",
       "      <td>MI</td>\n",
       "      <td>FT</td>\n",
       "      <td>Data Scientist</td>\n",
       "      <td>51962</td>\n",
       "      <td>USD</td>\n",
       "      <td>51962</td>\n",
       "      <td>US</td>\n",
       "      <td>M</td>\n",
       "    </tr>\n",
       "    <tr>\n",
       "      <th>212</th>\n",
       "      <td>2023</td>\n",
       "      <td>MI</td>\n",
       "      <td>FT</td>\n",
       "      <td>Data Scientist</td>\n",
       "      <td>180000</td>\n",
       "      <td>USD</td>\n",
       "      <td>180000</td>\n",
       "      <td>US</td>\n",
       "      <td>M</td>\n",
       "    </tr>\n",
       "  </tbody>\n",
       "</table>\n",
       "</div>"
      ],
      "text/plain": [
       "     work_year experience_level employment_type       job_title  salary  \\\n",
       "190       2023               MI              FT  Data Scientist   55000   \n",
       "191       2023               MI              FT  Data Scientist   45000   \n",
       "203       2023               MI              FT  Data Scientist   93918   \n",
       "204       2023               MI              FT  Data Scientist   51962   \n",
       "212       2023               MI              FT  Data Scientist  180000   \n",
       "\n",
       "    salary_currency  salary_in_usd company_location company_size  \n",
       "190             GBP          66837               GB            M  \n",
       "191             GBP          54685               GB            M  \n",
       "203             USD          93918               US            M  \n",
       "204             USD          51962               US            M  \n",
       "212             USD         180000               US            M  "
      ]
     },
     "execution_count": 12,
     "metadata": {},
     "output_type": "execute_result"
    }
   ],
   "source": [
    "df1.head()"
   ]
  },
  {
   "cell_type": "code",
   "execution_count": 13,
   "metadata": {},
   "outputs": [
    {
     "data": {
      "text/plain": [
       "company_location\n",
       "US    124756.076923\n",
       "GB     81957.360000\n",
       "CA     71685.500000\n",
       "Name: salary_in_usd, dtype: float64"
      ]
     },
     "execution_count": 13,
     "metadata": {},
     "output_type": "execute_result"
    }
   ],
   "source": [
    "gb1 = df1.groupby(\"company_location\")[\"salary_in_usd\"].mean().sort_values(ascending=False)\n",
    "gb1[:3]"
   ]
  },
  {
   "cell_type": "code",
   "execution_count": 14,
   "metadata": {},
   "outputs": [
    {
     "name": "stdout",
     "output_type": "stream",
     "text": [
      "I should aim for companies in US\n"
     ]
    }
   ],
   "source": [
    "print(f\"I should aim for companies in {gb1.index[0]}\")"
   ]
  },
  {
   "cell_type": "markdown",
   "metadata": {},
   "source": [
    "After consideration, I want to challenge myself in 1st ranked country among those you suggested in question 1. In term of salary in USD, which size of company I should aim for?"
   ]
  },
  {
   "cell_type": "code",
   "execution_count": 15,
   "metadata": {},
   "outputs": [
    {
     "data": {
      "text/plain": [
       "(78, 9)"
      ]
     },
     "execution_count": 15,
     "metadata": {},
     "output_type": "execute_result"
    }
   ],
   "source": [
    "cond4 = df1[\"company_location\"] == gb1.index[0]\n",
    "df2 = df1[cond4]\n",
    "df2.shape"
   ]
  },
  {
   "cell_type": "code",
   "execution_count": 16,
   "metadata": {},
   "outputs": [
    {
     "data": {
      "text/html": [
       "<div>\n",
       "<style scoped>\n",
       "    .dataframe tbody tr th:only-of-type {\n",
       "        vertical-align: middle;\n",
       "    }\n",
       "\n",
       "    .dataframe tbody tr th {\n",
       "        vertical-align: top;\n",
       "    }\n",
       "\n",
       "    .dataframe thead th {\n",
       "        text-align: right;\n",
       "    }\n",
       "</style>\n",
       "<table border=\"1\" class=\"dataframe\">\n",
       "  <thead>\n",
       "    <tr style=\"text-align: right;\">\n",
       "      <th></th>\n",
       "      <th>work_year</th>\n",
       "      <th>experience_level</th>\n",
       "      <th>employment_type</th>\n",
       "      <th>job_title</th>\n",
       "      <th>salary</th>\n",
       "      <th>salary_currency</th>\n",
       "      <th>salary_in_usd</th>\n",
       "      <th>company_location</th>\n",
       "      <th>company_size</th>\n",
       "    </tr>\n",
       "  </thead>\n",
       "  <tbody>\n",
       "    <tr>\n",
       "      <th>203</th>\n",
       "      <td>2023</td>\n",
       "      <td>MI</td>\n",
       "      <td>FT</td>\n",
       "      <td>Data Scientist</td>\n",
       "      <td>93918</td>\n",
       "      <td>USD</td>\n",
       "      <td>93918</td>\n",
       "      <td>US</td>\n",
       "      <td>M</td>\n",
       "    </tr>\n",
       "    <tr>\n",
       "      <th>204</th>\n",
       "      <td>2023</td>\n",
       "      <td>MI</td>\n",
       "      <td>FT</td>\n",
       "      <td>Data Scientist</td>\n",
       "      <td>51962</td>\n",
       "      <td>USD</td>\n",
       "      <td>51962</td>\n",
       "      <td>US</td>\n",
       "      <td>M</td>\n",
       "    </tr>\n",
       "    <tr>\n",
       "      <th>212</th>\n",
       "      <td>2023</td>\n",
       "      <td>MI</td>\n",
       "      <td>FT</td>\n",
       "      <td>Data Scientist</td>\n",
       "      <td>180000</td>\n",
       "      <td>USD</td>\n",
       "      <td>180000</td>\n",
       "      <td>US</td>\n",
       "      <td>M</td>\n",
       "    </tr>\n",
       "    <tr>\n",
       "      <th>213</th>\n",
       "      <td>2023</td>\n",
       "      <td>MI</td>\n",
       "      <td>FT</td>\n",
       "      <td>Data Scientist</td>\n",
       "      <td>140000</td>\n",
       "      <td>USD</td>\n",
       "      <td>140000</td>\n",
       "      <td>US</td>\n",
       "      <td>M</td>\n",
       "    </tr>\n",
       "    <tr>\n",
       "      <th>273</th>\n",
       "      <td>2023</td>\n",
       "      <td>MI</td>\n",
       "      <td>FT</td>\n",
       "      <td>Data Scientist</td>\n",
       "      <td>145000</td>\n",
       "      <td>USD</td>\n",
       "      <td>145000</td>\n",
       "      <td>US</td>\n",
       "      <td>M</td>\n",
       "    </tr>\n",
       "  </tbody>\n",
       "</table>\n",
       "</div>"
      ],
      "text/plain": [
       "     work_year experience_level employment_type       job_title  salary  \\\n",
       "203       2023               MI              FT  Data Scientist   93918   \n",
       "204       2023               MI              FT  Data Scientist   51962   \n",
       "212       2023               MI              FT  Data Scientist  180000   \n",
       "213       2023               MI              FT  Data Scientist  140000   \n",
       "273       2023               MI              FT  Data Scientist  145000   \n",
       "\n",
       "    salary_currency  salary_in_usd company_location company_size  \n",
       "203             USD          93918               US            M  \n",
       "204             USD          51962               US            M  \n",
       "212             USD         180000               US            M  \n",
       "213             USD         140000               US            M  \n",
       "273             USD         145000               US            M  "
      ]
     },
     "execution_count": 16,
     "metadata": {},
     "output_type": "execute_result"
    }
   ],
   "source": [
    "df2.head()"
   ]
  },
  {
   "cell_type": "code",
   "execution_count": 17,
   "metadata": {},
   "outputs": [
    {
     "data": {
      "text/plain": [
       "company_size\n",
       "M    129823.145161\n",
       "L    125000.000000\n",
       "S     45484.750000\n",
       "Name: salary_in_usd, dtype: float64"
      ]
     },
     "execution_count": 17,
     "metadata": {},
     "output_type": "execute_result"
    }
   ],
   "source": [
    "gb2 = df2.groupby(\"company_size\")[\"salary_in_usd\"].mean().sort_values(ascending=False)\n",
    "gb2"
   ]
  },
  {
   "cell_type": "code",
   "execution_count": 18,
   "metadata": {},
   "outputs": [
    {
     "name": "stdout",
     "output_type": "stream",
     "text": [
      "I should aim for companies of size M\n"
     ]
    }
   ],
   "source": [
    "print(f\"I should aim for companies of size {gb2.index[0]}\")"
   ]
  },
  {
   "cell_type": "markdown",
   "metadata": {},
   "source": [
    "What is the highest and lowest salary I can expect for this job, with my level, of this company size, in this country?"
   ]
  },
  {
   "cell_type": "code",
   "execution_count": 19,
   "metadata": {},
   "outputs": [
    {
     "data": {
      "text/plain": [
       "(62, 9)"
      ]
     },
     "execution_count": 19,
     "metadata": {},
     "output_type": "execute_result"
    }
   ],
   "source": [
    "cond5 = df2[\"company_size\"] == \"M\"\n",
    "df3 = df2[cond5]\n",
    "df3.shape"
   ]
  },
  {
   "cell_type": "code",
   "execution_count": 20,
   "metadata": {},
   "outputs": [
    {
     "data": {
      "text/html": [
       "<div>\n",
       "<style scoped>\n",
       "    .dataframe tbody tr th:only-of-type {\n",
       "        vertical-align: middle;\n",
       "    }\n",
       "\n",
       "    .dataframe tbody tr th {\n",
       "        vertical-align: top;\n",
       "    }\n",
       "\n",
       "    .dataframe thead th {\n",
       "        text-align: right;\n",
       "    }\n",
       "</style>\n",
       "<table border=\"1\" class=\"dataframe\">\n",
       "  <thead>\n",
       "    <tr style=\"text-align: right;\">\n",
       "      <th></th>\n",
       "      <th>work_year</th>\n",
       "      <th>experience_level</th>\n",
       "      <th>employment_type</th>\n",
       "      <th>job_title</th>\n",
       "      <th>salary</th>\n",
       "      <th>salary_currency</th>\n",
       "      <th>salary_in_usd</th>\n",
       "      <th>company_location</th>\n",
       "      <th>company_size</th>\n",
       "    </tr>\n",
       "  </thead>\n",
       "  <tbody>\n",
       "    <tr>\n",
       "      <th>203</th>\n",
       "      <td>2023</td>\n",
       "      <td>MI</td>\n",
       "      <td>FT</td>\n",
       "      <td>Data Scientist</td>\n",
       "      <td>93918</td>\n",
       "      <td>USD</td>\n",
       "      <td>93918</td>\n",
       "      <td>US</td>\n",
       "      <td>M</td>\n",
       "    </tr>\n",
       "    <tr>\n",
       "      <th>204</th>\n",
       "      <td>2023</td>\n",
       "      <td>MI</td>\n",
       "      <td>FT</td>\n",
       "      <td>Data Scientist</td>\n",
       "      <td>51962</td>\n",
       "      <td>USD</td>\n",
       "      <td>51962</td>\n",
       "      <td>US</td>\n",
       "      <td>M</td>\n",
       "    </tr>\n",
       "    <tr>\n",
       "      <th>212</th>\n",
       "      <td>2023</td>\n",
       "      <td>MI</td>\n",
       "      <td>FT</td>\n",
       "      <td>Data Scientist</td>\n",
       "      <td>180000</td>\n",
       "      <td>USD</td>\n",
       "      <td>180000</td>\n",
       "      <td>US</td>\n",
       "      <td>M</td>\n",
       "    </tr>\n",
       "    <tr>\n",
       "      <th>213</th>\n",
       "      <td>2023</td>\n",
       "      <td>MI</td>\n",
       "      <td>FT</td>\n",
       "      <td>Data Scientist</td>\n",
       "      <td>140000</td>\n",
       "      <td>USD</td>\n",
       "      <td>140000</td>\n",
       "      <td>US</td>\n",
       "      <td>M</td>\n",
       "    </tr>\n",
       "    <tr>\n",
       "      <th>273</th>\n",
       "      <td>2023</td>\n",
       "      <td>MI</td>\n",
       "      <td>FT</td>\n",
       "      <td>Data Scientist</td>\n",
       "      <td>145000</td>\n",
       "      <td>USD</td>\n",
       "      <td>145000</td>\n",
       "      <td>US</td>\n",
       "      <td>M</td>\n",
       "    </tr>\n",
       "  </tbody>\n",
       "</table>\n",
       "</div>"
      ],
      "text/plain": [
       "     work_year experience_level employment_type       job_title  salary  \\\n",
       "203       2023               MI              FT  Data Scientist   93918   \n",
       "204       2023               MI              FT  Data Scientist   51962   \n",
       "212       2023               MI              FT  Data Scientist  180000   \n",
       "213       2023               MI              FT  Data Scientist  140000   \n",
       "273       2023               MI              FT  Data Scientist  145000   \n",
       "\n",
       "    salary_currency  salary_in_usd company_location company_size  \n",
       "203             USD          93918               US            M  \n",
       "204             USD          51962               US            M  \n",
       "212             USD         180000               US            M  \n",
       "213             USD         140000               US            M  \n",
       "273             USD         145000               US            M  "
      ]
     },
     "execution_count": 20,
     "metadata": {},
     "output_type": "execute_result"
    }
   ],
   "source": [
    "df3.head()"
   ]
  },
  {
   "cell_type": "code",
   "execution_count": 21,
   "metadata": {},
   "outputs": [
    {
     "name": "stdout",
     "output_type": "stream",
     "text": [
      "The min salary for my job is $31,795.\n",
      "The max salary for my job is $225,000.\n"
     ]
    }
   ],
   "source": [
    "min_salary = df3[\"salary_in_usd\"].min()\n",
    "max_salary = df3[\"salary_in_usd\"].max()\n",
    "print(f\"The min salary for my job is ${min_salary:,.0f}.\\nThe max salary for my job is ${max_salary:,.0f}.\")"
   ]
  },
  {
   "cell_type": "markdown",
   "metadata": {},
   "source": [
    "- Relation between experience_level and salary_in_usd?"
   ]
  },
  {
   "cell_type": "code",
   "execution_count": 22,
   "metadata": {},
   "outputs": [
    {
     "data": {
      "text/plain": [
       "<Axes: xlabel='experience_level', ylabel='salary_in_usd'>"
      ]
     },
     "execution_count": 22,
     "metadata": {},
     "output_type": "execute_result"
    },
    {
     "data": {
      "image/png": "[encoded data removed]",
      "text/plain": [
       "<Figure size 200x400 with 1 Axes>"
      ]
     },
     "metadata": {},
     "output_type": "display_data"
    }
   ],
   "source": [
    "df.plot(kind=\"scatter\", x=\"experience_level\", y=\"salary_in_usd\", figsize=(2,4))"
   ]
  },
  {
   "cell_type": "code",
   "execution_count": 23,
   "metadata": {},
   "outputs": [
    {
     "data": {
      "text/plain": [
       "<Axes: xlabel='experience_level', ylabel='salary_in_usd'>"
      ]
     },
     "execution_count": 23,
     "metadata": {},
     "output_type": "execute_result"
    },
    {
     "data": {
      "image/png": "[encoded data removed]",
      "text/plain": [
       "<Figure size 200x400 with 1 Axes>"
      ]
     },
     "metadata": {},
     "output_type": "display_data"
    }
   ],
   "source": [
    "temp = df.replace({\n",
    "    \"EN\": 1,\n",
    "    \"EX\": 2,\n",
    "    \"MI\": 3,\n",
    "    \"SE\": 4,\n",
    "})\n",
    "temp.plot(kind=\"scatter\", x=\"experience_level\", y=\"salary_in_usd\", figsize=(2,4))"
   ]
  },
  {
   "cell_type": "markdown",
   "metadata": {},
   "source": [
    "- What job_title earn the most?"
   ]
  },
  {
   "cell_type": "code",
   "execution_count": 24,
   "metadata": {},
   "outputs": [
    {
     "data": {
      "text/plain": [
       "<Axes: xlabel='job_title'>"
      ]
     },
     "execution_count": 24,
     "metadata": {},
     "output_type": "execute_result"
    },
    {
     "data": {
      "image/png": "[encoded data removed]",
      "text/plain": [
       "<Figure size 640x480 with 1 Axes>"
      ]
     },
     "metadata": {},
     "output_type": "display_data"
    }
   ],
   "source": [
    "sorted_by_mean_salary = df.groupby(\"job_title\").agg({\"salary_in_usd\": \"mean\"}).sort_values(by=\"salary_in_usd\", ascending=False)\n",
    "\n",
    "sorted_by_mean_salary[:10].plot(kind=\"bar\")"
   ]
  },
  {
   "cell_type": "markdown",
   "metadata": {},
   "source": [
    "- What job_title are the most popular?"
   ]
  },
  {
   "cell_type": "code",
   "execution_count": 25,
   "metadata": {},
   "outputs": [
    {
     "data": {
      "text/plain": [
       "0    Data Engineer\n",
       "Name: job_title, dtype: object"
      ]
     },
     "execution_count": 25,
     "metadata": {},
     "output_type": "execute_result"
    }
   ],
   "source": [
    "df[\"job_title\"].mode()"
   ]
  },
  {
   "cell_type": "code",
   "execution_count": 26,
   "metadata": {},
   "outputs": [
    {
     "data": {
      "text/plain": [
       "job_title\n",
       "Data Engineer                1019\n",
       "Data Scientist                802\n",
       "Data Analyst                  602\n",
       "Machine Learning Engineer     296\n",
       "Analytics Engineer            102\n",
       "                             ... \n",
       "Manager Data Management         1\n",
       "Data DevOps Engineer            1\n",
       "Deep Learning Researcher        1\n",
       "Head of Machine Learning        1\n",
       "Staff Data Analyst              1\n",
       "Name: count, Length: 84, dtype: int64"
      ]
     },
     "execution_count": 26,
     "metadata": {},
     "output_type": "execute_result"
    }
   ],
   "source": [
    "df[\"job_title\"].value_counts()"
   ]
  },
  {
   "cell_type": "markdown",
   "metadata": {},
   "source": [
    "- Most common experience_level for Data Science Tech Lead jobs?"
   ]
  },
  {
   "cell_type": "code",
   "execution_count": 27,
   "metadata": {},
   "outputs": [
    {
     "data": {
      "text/plain": [
       "experience_level\n",
       "SE    1\n",
       "Name: count, dtype: int64"
      ]
     },
     "execution_count": 27,
     "metadata": {},
     "output_type": "execute_result"
    }
   ],
   "source": [
    "df[df[\"job_title\"]==\"Data Science Tech Lead\"][\"experience_level\"].value_counts()"
   ]
  },
  {
   "cell_type": "markdown",
   "metadata": {},
   "source": [
    "- What are the experience level of top 10 most earned jobs?"
   ]
  },
  {
   "cell_type": "code",
   "execution_count": 28,
   "metadata": {},
   "outputs": [
    {
     "data": {
      "text/plain": [
       "Index(['Data Analytics Lead', 'Data Science Tech Lead', 'Cloud Data Architect',\n",
       "       'Machine Learning Software Engineer', 'Data Lead', 'AI Developer',\n",
       "       'Head of Data', 'Director of Data Science', 'Marketing Data Analyst',\n",
       "       'Principal Data Scientist'],\n",
       "      dtype='object', name='job_title')"
      ]
     },
     "execution_count": 28,
     "metadata": {},
     "output_type": "execute_result"
    }
   ],
   "source": [
    "titles = sorted_by_mean_salary.index[:10]\n",
    "titles"
   ]
  },
  {
   "cell_type": "code",
   "execution_count": 29,
   "metadata": {},
   "outputs": [
    {
     "data": {
      "text/plain": [
       "experience_level\n",
       "SE    26\n",
       "EX    13\n",
       "EN     3\n",
       "MI     2\n",
       "Name: count, dtype: int64"
      ]
     },
     "execution_count": 29,
     "metadata": {},
     "output_type": "execute_result"
    }
   ],
   "source": [
    "df[df[\"job_title\"].isin(titles)][\"experience_level\"].value_counts()"
   ]
  },
  {
   "cell_type": "markdown",
   "metadata": {},
   "source": [
    "- What entry level jobs of top 10 most earned?"
   ]
  },
  {
   "cell_type": "code",
   "execution_count": 30,
   "metadata": {},
   "outputs": [
    {
     "data": {
      "text/html": [
       "<div>\n",
       "<style scoped>\n",
       "    .dataframe tbody tr th:only-of-type {\n",
       "        vertical-align: middle;\n",
       "    }\n",
       "\n",
       "    .dataframe tbody tr th {\n",
       "        vertical-align: top;\n",
       "    }\n",
       "\n",
       "    .dataframe thead th {\n",
       "        text-align: right;\n",
       "    }\n",
       "</style>\n",
       "<table border=\"1\" class=\"dataframe\">\n",
       "  <thead>\n",
       "    <tr style=\"text-align: right;\">\n",
       "      <th></th>\n",
       "      <th>work_year</th>\n",
       "      <th>experience_level</th>\n",
       "      <th>employment_type</th>\n",
       "      <th>job_title</th>\n",
       "      <th>salary</th>\n",
       "      <th>salary_currency</th>\n",
       "      <th>salary_in_usd</th>\n",
       "      <th>company_location</th>\n",
       "      <th>company_size</th>\n",
       "    </tr>\n",
       "  </thead>\n",
       "  <tbody>\n",
       "    <tr>\n",
       "      <th>59</th>\n",
       "      <td>2023</td>\n",
       "      <td>EN</td>\n",
       "      <td>FT</td>\n",
       "      <td>AI Developer</td>\n",
       "      <td>200000</td>\n",
       "      <td>EUR</td>\n",
       "      <td>214618</td>\n",
       "      <td>DE</td>\n",
       "      <td>L</td>\n",
       "    </tr>\n",
       "    <tr>\n",
       "      <th>69</th>\n",
       "      <td>2023</td>\n",
       "      <td>EN</td>\n",
       "      <td>FT</td>\n",
       "      <td>AI Developer</td>\n",
       "      <td>60000</td>\n",
       "      <td>EUR</td>\n",
       "      <td>64385</td>\n",
       "      <td>DE</td>\n",
       "      <td>M</td>\n",
       "    </tr>\n",
       "    <tr>\n",
       "      <th>1740</th>\n",
       "      <td>2022</td>\n",
       "      <td>EN</td>\n",
       "      <td>FT</td>\n",
       "      <td>AI Developer</td>\n",
       "      <td>300000</td>\n",
       "      <td>USD</td>\n",
       "      <td>300000</td>\n",
       "      <td>IN</td>\n",
       "      <td>L</td>\n",
       "    </tr>\n",
       "  </tbody>\n",
       "</table>\n",
       "</div>"
      ],
      "text/plain": [
       "      work_year experience_level employment_type     job_title  salary  \\\n",
       "59         2023               EN              FT  AI Developer  200000   \n",
       "69         2023               EN              FT  AI Developer   60000   \n",
       "1740       2022               EN              FT  AI Developer  300000   \n",
       "\n",
       "     salary_currency  salary_in_usd company_location company_size  \n",
       "59               EUR         214618               DE            L  \n",
       "69               EUR          64385               DE            M  \n",
       "1740             USD         300000               IN            L  "
      ]
     },
     "execution_count": 30,
     "metadata": {},
     "output_type": "execute_result"
    }
   ],
   "source": [
    "df[(df[\"experience_level\"]==\"EN\") & (df[\"job_title\"].isin(titles))]"
   ]
  },
  {
   "cell_type": "markdown",
   "metadata": {},
   "source": [
    "- Group categorical values"
   ]
  },
  {
   "cell_type": "code",
   "execution_count": 31,
   "metadata": {},
   "outputs": [
    {
     "data": {
      "text/plain": [
       "array(['Applied Scientist', 'Machine Learning Engineer',\n",
       "       'Research Scientist', 'Data Engineer', 'Data Analyst',\n",
       "       'Data Scientist', 'BI Data Engineer', 'Research Engineer',\n",
       "       'Business Data Analyst', 'Applied Machine Learning Scientist',\n",
       "       'AI Developer', 'Computer Vision Engineer', 'BI Developer',\n",
       "       'Deep Learning Engineer', 'Head of Data', 'Analytics Engineer',\n",
       "       'Data Architect', 'Director of Data Science',\n",
       "       'Head of Data Science', 'Data Analytics Manager',\n",
       "       'Applied Machine Learning Engineer', 'Applied Data Scientist',\n",
       "       'ETL Engineer', 'Big Data Engineer', 'Data Specialist',\n",
       "       'Lead Data Analyst', 'Data Manager', 'Machine Learning Scientist',\n",
       "       'MLOps Engineer', 'Financial Data Analyst', 'Data Science Manager',\n",
       "       'Data Science Consultant',\n",
       "       'Machine Learning Infrastructure Engineer', 'Insight Analyst',\n",
       "       'AI Scientist', 'Data Infrastructure Engineer',\n",
       "       'Data Science Lead', 'Product Data Analyst',\n",
       "       'Machine Learning Research Engineer', 'Principal Data Scientist',\n",
       "       'Data Modeler', 'Business Intelligence Engineer',\n",
       "       'Data Strategist', 'Data DevOps Engineer', 'Data Quality Analyst',\n",
       "       'Cloud Database Engineer', 'Data Operations Engineer',\n",
       "       'Deep Learning Researcher', 'BI Analyst',\n",
       "       'Data Analytics Specialist', 'BI Data Analyst',\n",
       "       'Machine Learning Software Engineer', 'Big Data Architect',\n",
       "       'Computer Vision Software Engineer', 'Data Lead',\n",
       "       'Data Science Engineer', 'NLP Engineer',\n",
       "       'Data Analytics Consultant', 'Machine Learning Developer',\n",
       "       'Lead Data Engineer', 'Head of Machine Learning',\n",
       "       'Machine Learning Researcher', 'Data Analytics Engineer',\n",
       "       'Lead Data Scientist', 'ETL Developer', 'Principal Data Analyst',\n",
       "       'Manager Data Management', 'Principal Machine Learning Engineer',\n",
       "       'Data Science Tech Lead', 'Data Operations Analyst',\n",
       "       'Marketing Data Analyst', 'Principal Data Architect',\n",
       "       'Machine Learning Manager', 'Lead Machine Learning Engineer',\n",
       "       'Data Scientist Lead', 'Data Analytics Lead', 'Power BI Developer',\n",
       "       '3D Computer Vision Researcher', 'Cloud Data Architect',\n",
       "       'Principal Data Engineer', 'Cloud Data Engineer',\n",
       "       'Staff Data Scientist', 'Finance Data Analyst',\n",
       "       'Staff Data Analyst'], dtype=object)"
      ]
     },
     "execution_count": 31,
     "metadata": {},
     "output_type": "execute_result"
    }
   ],
   "source": [
    "df[\"job_title\"].unique()"
   ]
  },
  {
   "cell_type": "code",
   "execution_count": 32,
   "metadata": {},
   "outputs": [],
   "source": [
    "is_engineer = df[\"job_title\"].str.contains(\"Engineer\")\n",
    "is_analysis = df[\"job_title\"].str.contains(\"Analyst\")\n",
    "engineer_idx = df[is_engineer].index\n",
    "analysis_idx = df[is_analysis].index\n",
    "others_idx = df[(~is_engineer) & (~is_analysis)].index"
   ]
  },
  {
   "cell_type": "code",
   "execution_count": 33,
   "metadata": {},
   "outputs": [],
   "source": [
    "df.loc[is_engineer, \"job_title\"] = \"Engineer\"\n",
    "df.loc[is_analysis, \"job_title\"] = \"Analyst\"\n",
    "df.loc[others_idx, \"job_title\"] = \"Others\""
   ]
  },
  {
   "cell_type": "code",
   "execution_count": 34,
   "metadata": {},
   "outputs": [
    {
     "data": {
      "text/plain": [
       "array(['Others', 'Engineer', 'Analyst'], dtype=object)"
      ]
     },
     "execution_count": 34,
     "metadata": {},
     "output_type": "execute_result"
    }
   ],
   "source": [
    "df[\"job_title\"].unique()"
   ]
  },
  {
   "cell_type": "code",
   "execution_count": 35,
   "metadata": {},
   "outputs": [
    {
     "data": {
      "text/plain": [
       "<Axes: ylabel='count'>"
      ]
     },
     "execution_count": 35,
     "metadata": {},
     "output_type": "execute_result"
    },
    {
     "data": {
      "image/png": "[encoded data removed]",
      "text/plain": [
       "<Figure size 640x480 with 1 Axes>"
      ]
     },
     "metadata": {},
     "output_type": "display_data"
    }
   ],
   "source": [
    "df[\"job_title\"].value_counts().plot(kind=\"pie\")"
   ]
  },
  {
   "cell_type": "code",
   "execution_count": null,
   "metadata": {},
   "outputs": [],
   "source": []
  }
 ],
 "metadata": {
  "kernelspec": {
   "display_name": ".venv",
   "language": "python",
   "name": "python3"
  },
  "language_info": {
   "codemirror_mode": {
    "name": "ipython",
    "version": 3
   },
   "file_extension": ".py",
   "mimetype": "text/x-python",
   "name": "python",
   "nbconvert_exporter": "python",
   "pygments_lexer": "ipython3",
   "version": "3.9.6"
  }
 },
 "nbformat": 4,
 "nbformat_minor": 2
}
