{
 "cells": [
  {
   "cell_type": "markdown",
   "metadata": {},
   "source": [
    "# Numpy"
   ]
  },
  {
   "cell_type": "markdown",
   "metadata": {},
   "source": [
    "**NumPy** is a popular Python library for numerical and scientific computing, and it provides a powerful data structure called a NumPy array (also known as `ndarray`) for efficiently working with large datasets of homogeneous data types, such as numbers (integers or floats). "
   ]
  },
  {
   "cell_type": "code",
   "execution_count": null,
   "metadata": {},
   "outputs": [],
   "source": [
    "import numpy as np"
   ]
  },
  {
   "cell_type": "markdown",
   "metadata": {},
   "source": [
    "## 1. Introduction of Numpy array"
   ]
  },
  {
   "cell_type": "markdown",
   "metadata": {},
   "source": [
    "### 1.1. What is an array?"
   ]
  },
  {
   "cell_type": "markdown",
   "metadata": {},
   "source": [
    "### 1.2. Why Numpy array?"
   ]
  },
  {
   "cell_type": "markdown",
   "metadata": {},
   "source": [
    "NumPy arrays and Python lists are both used to store collections of data, but they have significant differences in terms of functionality and performance.\n",
    "\n",
    "**NumPy Array:**\n",
    "\n",
    "1. **Homogeneous Data Type:** NumPy arrays are designed to work with homogeneous data types, which means all elements in the array are of the same data type (e.g., integers, floats). This leads to more efficient memory usage and better performance.\n",
    "\n",
    "2. **Vectorized Operations:** NumPy provides a wide range of mathematical and logical functions that can be applied element-wise to entire arrays, allowing for efficient and concise code for numerical computations. This is known as vectorization.\n",
    "\n",
    "3. **Performance:** NumPy operations are implemented in C and are highly optimized, making them significantly faster than equivalent operations on Python lists, especially for large datasets.\n",
    "\n",
    "4. **Memory Efficiency:** NumPy arrays are more memory-efficient than Python lists because they don't need to store type information for each element.\n",
    "\n",
    "5. **Multidimensional Arrays:** NumPy supports multidimensional arrays (e.g., matrices), making it well-suited for mathematical and scientific applications.\n",
    "\n",
    "6. **Broadcasting:** NumPy allows you to perform operations on arrays of different shapes through broadcasting, which simplifies many array operations.\n",
    "\n",
    "**Python List:**\n",
    "\n",
    "1. **Heterogeneous Data Type:** Python lists can contain elements of different data types, which provides flexibility but can lead to performance issues for numerical computations.\n",
    "\n",
    "2. **No Built-in Mathematical Operations:** Python lists don't offer built-in mathematical or array operations. You need to loop through lists to perform operations on individual elements, which can be slower and less concise.\n",
    "\n",
    "3. **Performance:** Python lists are generally slower than NumPy arrays, especially for large datasets and numerical operations.\n",
    "\n",
    "4. **Memory Overhead:** Python lists have higher memory overhead due to the need to store type information for each element.\n",
    "\n",
    "5. **Single-Dimensional:** Lists in Python are primarily single-dimensional. To work with multidimensional data, you'd need to use nested lists, which can become complex to manage.\n",
    "\n",
    "**Why Use NumPy Arrays:**\n",
    "\n",
    "NumPy arrays are preferred for several reasons:\n",
    "\n",
    "1. **Performance:** NumPy operations are highly optimized and execute much faster than equivalent Python list operations, making it the go-to choice for numerical computations and data manipulation.\n",
    "\n",
    "2. **Memory Efficiency:** NumPy arrays are more memory-efficient, especially for large datasets, due to their homogeneous data type and reduced type information overhead.\n",
    "\n",
    "3. **Ease of Use:** NumPy provides a rich set of functions for array manipulation, statistical analysis, and linear algebra, making it easier to work with data.\n",
    "\n",
    "4. **Compatibility:** NumPy arrays can be seamlessly integrated with other libraries and tools commonly used in scientific computing and data analysis, such as SciPy, pandas, and scikit-learn."
   ]
  },
  {
   "cell_type": "code",
   "execution_count": null,
   "metadata": {},
   "outputs": [],
   "source": [
    "import numpy as np"
   ]
  },
  {
   "cell_type": "code",
   "execution_count": null,
   "metadata": {},
   "outputs": [],
   "source": [
    "# my_arr = np.arange(1_000_000)\n",
    "# my_list = list(range(1_000_000))\n",
    "\n",
    "# print(\"Numpy Array:\")\n",
    "# %timeit my_arr2 = my_arr * 2\n",
    "\n",
    "# print(\"List:\")\n",
    "# %timeit my_list2 = [x * 2 for x in my_list]"
   ]
  },
  {
   "cell_type": "markdown",
   "metadata": {},
   "source": [
    "### 1.3. Array creation"
   ]
  },
  {
   "cell_type": "markdown",
   "metadata": {},
   "source": [
    "- Basic creation"
   ]
  },
  {
   "cell_type": "code",
   "execution_count": null,
   "metadata": {},
   "outputs": [],
   "source": [
    "my_array = np.array((1,2,3,4))\n",
    "\n",
    "print(my_array)\n",
    "print(len(my_array))\n",
    "print(my_array[0], my_array[-1])\n",
    "print(my_array.dtype)"
   ]
  },
  {
   "cell_type": "markdown",
   "metadata": {},
   "source": [
    "- Create an array with `dtype` specified"
   ]
  },
  {
   "cell_type": "code",
   "execution_count": null,
   "metadata": {},
   "outputs": [],
   "source": [
    "my_array = np.array((1,2,3,4), dtype=np.int8)\n",
    "\n",
    "print(my_array)\n",
    "print(my_array.dtype)"
   ]
  },
  {
   "cell_type": "code",
   "execution_count": null,
   "metadata": {},
   "outputs": [],
   "source": [
    "my_array = np.array((1,2,3,4)).astype(np.int8)\n",
    "\n",
    "print(my_array)\n",
    "print(my_array.dtype)"
   ]
  },
  {
   "cell_type": "code",
   "execution_count": null,
   "metadata": {},
   "outputs": [],
   "source": [
    "# What if there are different types of data?\n",
    "my_array = np.array((1,2,3,\"4\"))\n",
    "\n",
    "print(my_array)\n",
    "print(my_array.dtype)"
   ]
  },
  {
   "cell_type": "markdown",
   "metadata": {},
   "source": [
    "- Create arrays and fill with values"
   ]
  },
  {
   "cell_type": "code",
   "execution_count": null,
   "metadata": {},
   "outputs": [],
   "source": [
    "# Fill with zeros\n",
    "my_array = np.zeros((2,3))\n",
    "print(\"my_array\")\n",
    "print(my_array)\n",
    "print(my_array.dtype)\n",
    "print(len(my_array))\n",
    "print(\"\")\n",
    "\n",
    "print(\"my_array2\")\n",
    "my_array2 = np.zeros_like(my_array).astype(np.int8)\n",
    "print(my_array2)\n",
    "print(my_array2.dtype)\n",
    "print(len(my_array2))"
   ]
  },
  {
   "cell_type": "code",
   "execution_count": null,
   "metadata": {},
   "outputs": [],
   "source": [
    "# Create a length-10 integer array filled with zeros/ones\n",
    "my_array = np.zeros((2,3))\n",
    "print(\"my_array\")\n",
    "print(my_array)\n",
    "print(my_array.dtype)\n",
    "print(len(my_array))\n",
    "print(\"\")\n",
    "\n",
    "print(\"my_array2\")\n",
    "my_array2 = np.zeros_like(my_array).astype(np.int8)\n",
    "print(my_array2)\n",
    "print(my_array2.dtype)\n",
    "print(len(my_array2))"
   ]
  },
  {
   "cell_type": "code",
   "execution_count": null,
   "metadata": {},
   "outputs": [],
   "source": [
    "# Fill with ones\n",
    "my_array = np.ones((2,3), dtype=np.int8)\n",
    "print(\"my_array\")\n",
    "print(my_array)\n",
    "print(my_array.dtype)\n",
    "print(len(my_array))\n",
    "print(\"\")\n",
    "\n",
    "print(\"my_array2\")\n",
    "my_array2 = np.ones_like(my_array)\n",
    "print(my_array2)\n",
    "print(my_array2.dtype)\n",
    "print(len(my_array2))"
   ]
  },
  {
   "cell_type": "code",
   "execution_count": null,
   "metadata": {},
   "outputs": [],
   "source": [
    "# Fill with custom values\n",
    "my_array = np.full(shape=(3,5), fill_value=3.14, dtype=np.float16)\n",
    "print(\"my_array\")\n",
    "print(my_array)\n",
    "print(my_array.dtype)\n",
    "print(\"\")\n",
    "\n",
    "my_array2 = np.full_like(my_array, fill_value=1.43, dtype=np.float32)\n",
    "\n",
    "print(my_array2)\n",
    "print(my_array2.dtype)"
   ]
  },
  {
   "cell_type": "markdown",
   "metadata": {},
   "source": [
    "- Create arrays from a sequence"
   ]
  },
  {
   "cell_type": "code",
   "execution_count": null,
   "metadata": {},
   "outputs": [],
   "source": [
    "# Create an array filled with a linear sequence\n",
    "# starting at 6, ending at 49, stepping by 2\n",
    "# (this is similar to the built-in range() function)\n",
    "np.arange(start=6, stop=49, step=2)"
   ]
  },
  {
   "cell_type": "code",
   "execution_count": null,
   "metadata": {},
   "outputs": [],
   "source": [
    "# Create an array of five values evenly spaced between 0 and 1\n",
    "np.linspace(start=0, stop=1, num=5)"
   ]
  },
  {
   "cell_type": "markdown",
   "metadata": {},
   "source": [
    "- Create arrays and fill with random values"
   ]
  },
  {
   "cell_type": "code",
   "execution_count": null,
   "metadata": {},
   "outputs": [],
   "source": [
    "# Create a 5x5 array of uniformly distributed random values between 0 and 1\n",
    "np.random.random(size=(5,5))"
   ]
  },
  {
   "cell_type": "code",
   "execution_count": null,
   "metadata": {},
   "outputs": [],
   "source": [
    "# Create a 3x3 array of normally distributed random values\n",
    "# with mean 0 and standard deviation 1\n",
    "\n",
    "np.random.normal(loc=0.0, scale=1.0, size=(3,3))"
   ]
  },
  {
   "cell_type": "markdown",
   "metadata": {},
   "source": [
    "## 2. Attributes of arrays"
   ]
  },
  {
   "cell_type": "markdown",
   "metadata": {},
   "source": [
    "### 2.1. Size, shape, memory consumption, and data types of arrays"
   ]
  },
  {
   "cell_type": "markdown",
   "metadata": {},
   "source": [
    "- The `shape` attribute is a tuple that describes the dimensions of the array. For a 1D array, it's a tuple with a single element representing the number of elements. For a 2D array, it's a tuple with two elements representing the number of rows and columns, and so on.\n",
    "- The `dtype` attribute specifies the data type of the elements in the array, such as int64, float32, etc.\n",
    "- The `ndim` attribute indicates the number of dimensions (axes) in the array.\n",
    "- The `size` attribute represents the total number of elements in the array.\n",
    "- The `itemsize` attribute specifies the size (in bytes) of each element in the array.\n",
    "- The `nbytes` attribute returns the total number of bytes used by the array's data."
   ]
  },
  {
   "cell_type": "code",
   "execution_count": null,
   "metadata": {},
   "outputs": [],
   "source": [
    "my_array = np.array(\n",
    "    [\n",
    "        [[1,2], [2,3], [3,4]],\n",
    "        [[4,5], [5,6], [6,7]]\n",
    "    ],\n",
    "    dtype=np.int8\n",
    ")\n",
    "print(f\"Shape of array: {my_array.shape}\")\n",
    "print(f\"Type of elements: {my_array.dtype}\")\n",
    "print(f\"Number of dimentions: {my_array.ndim}\")\n",
    "print(f\"Number of elements: {my_array.size}\") \n",
    "print(f\"Item's size: {my_array.itemsize}\")\n",
    "print(f\"Total number of bytes used by my_array: {my_array.nbytes}\")"
   ]
  },
  {
   "cell_type": "markdown",
   "metadata": {},
   "source": [
    "### 2.2. Indexing & Slicing"
   ]
  },
  {
   "cell_type": "markdown",
   "metadata": {},
   "source": [
    "- 1D array: similar to List indexing and slicing"
   ]
  },
  {
   "cell_type": "code",
   "execution_count": null,
   "metadata": {},
   "outputs": [],
   "source": [
    "my_array = np.array([5,6,7,8])\n",
    "print(my_array[2])\n",
    "print(my_array[-1])\n",
    "print(my_array[:3])\n",
    "print(my_array[1:])\n",
    "print(my_array[::2])"
   ]
  },
  {
   "cell_type": "markdown",
   "metadata": {},
   "source": [
    "- 2D array: using a comma-separated tuple of indices"
   ]
  },
  {
   "cell_type": "code",
   "execution_count": null,
   "metadata": {},
   "outputs": [],
   "source": [
    "my_array = np.array(\n",
    "    [\n",
    "# column 0  1  2  3\n",
    "        [3, 5, 2, 4], # row 0\n",
    "        [7, 6, 8, 8], # row 1\n",
    "        [1, 6, 7, 99] # row 2\n",
    "    ]\n",
    ")\n",
    "\n",
    "print(my_array.shape)\n",
    "print(my_array[0,0])\n",
    "print(my_array[-1,-1])"
   ]
  },
  {
   "cell_type": "code",
   "execution_count": null,
   "metadata": {},
   "outputs": [],
   "source": [
    "my_array = np.array(\n",
    "    [\n",
    "    # cl 0  1  2  3\n",
    "        [3, 5, 2, 4], # row 0\n",
    "        [7, 6, 8, 8], # row 1\n",
    "        [1, 6, 7, 99] # row 2\n",
    "    ]\n",
    ")\n",
    "\n",
    "# Get values from the first 2 rows last column\n",
    "print(my_array[:2, -1])\n",
    "\n",
    "# Get values of every even rows and odd column\n",
    "print(my_array[::2, 1::2])"
   ]
  },
  {
   "cell_type": "markdown",
   "metadata": {},
   "source": [
    "- Modify values using index notation"
   ]
  },
  {
   "cell_type": "code",
   "execution_count": null,
   "metadata": {},
   "outputs": [],
   "source": [
    "my_array = np.array(\n",
    "    [\n",
    "        [3, 5, 2, 4],\n",
    "        [7, 6, 8, 8],\n",
    "        [1, 6, 7, 99]\n",
    "    ]\n",
    ")\n",
    "my_array[0,0] = 100\n",
    "\n",
    "print(my_array)"
   ]
  },
  {
   "cell_type": "markdown",
   "metadata": {},
   "source": [
    "**NOTE**\n",
    "\n",
    "Numpy array slicing returns **views** rather than **copies** of the array data. In lists, slices will be copies. "
   ]
  },
  {
   "cell_type": "code",
   "execution_count": null,
   "metadata": {},
   "outputs": [],
   "source": [
    "my_list = [1,2,3]\n",
    "copied_list = my_list[:]\n",
    "copied_list[0] = 8 # only affect copied_list\n",
    "print(f\"my_list: {my_list}\")\n",
    "print(f\"copied_list: {copied_list}\")"
   ]
  },
  {
   "cell_type": "code",
   "execution_count": null,
   "metadata": {},
   "outputs": [],
   "source": [
    "my_array = np.array([1,2,3])\n",
    "viewed_array = my_array[:] # slicing\n",
    "my_array[0] = 8 # update viewed_array as well\n",
    "\n",
    "print(f\"my_array: {my_array}\")\n",
    "print(f\"viewed_array: {viewed_array}\")"
   ]
  },
  {
   "cell_type": "code",
   "execution_count": null,
   "metadata": {},
   "outputs": [],
   "source": [
    "my_array = np.array([1,2,3])\n",
    "viewed_array = my_array[:] # slicing\n",
    "viewed_array[0] = 99 # update my_array as well\n",
    "\n",
    "print(f\"my_array: {my_array}\")\n",
    "print(f\"viewed_array: {viewed_array}\")"
   ]
  },
  {
   "cell_type": "markdown",
   "metadata": {},
   "source": [
    "To copy a Numpy array, use method `copy()`"
   ]
  },
  {
   "cell_type": "code",
   "execution_count": null,
   "metadata": {},
   "outputs": [],
   "source": [
    "my_array = np.array([1,2,3,4,5,6])\n",
    "copied_array = my_array.copy() # copy\n",
    "copied_array[0] = 8 # only affect copied_array\n",
    "\n",
    "print(f\"my_array: {my_array}\")\n",
    "print(f\"copied_array: {copied_array}\")"
   ]
  },
  {
   "cell_type": "markdown",
   "metadata": {},
   "source": [
    "It's useful when working with large datasets, we only view and copy a small piece of data instead of copying the whole dataset."
   ]
  },
  {
   "cell_type": "markdown",
   "metadata": {},
   "source": [
    "**EXERCISE**\n",
    "\n",
    "1. Create these following matrices using Numpy arrays, be careful with the data type.\n",
    "\n",
    "a. \n",
    "```python\n",
    "[\n",
    "    [0, 0, 0, 0, 0],\n",
    "    [0, 0, 0, 0, 0],\n",
    "    [0, 0, 1, 0, 0],\n",
    "    [0, 0, 0, 0, 0],\n",
    "    [0, 0, 0, 0, 0]\n",
    "]\n",
    "```\n",
    "\n",
    "b.\n",
    "```python\n",
    "[\n",
    "    [1, 1, 1, 1, 1],\n",
    "    [0, 0, 0, 0, 0],\n",
    "    [1, 1, 1, 1, 1],\n",
    "    [0, 0, 0, 0, 0],\n",
    "    [1, 1, 1, 1, 1]\n",
    "]\n",
    "```\n",
    "\n",
    "c.\n",
    "```python\n",
    "[\n",
    "    [1, 0, 1, 0, 1],\n",
    "    [0, 0, 0, 0, 0],\n",
    "    [1, 0, 1, 0, 1],\n",
    "    [0, 0, 0, 0, 0],\n",
    "    [1, 0, 1, 0, 1]\n",
    "]\n",
    "```\n",
    "\n",
    "2. Get all number 9 from these following arrays\n",
    "\n",
    "a.\n",
    "```python\n",
    "[\n",
    "    [1., 1., 1.],\n",
    "    [1., 9., 1.],\n",
    "    [1., 1., 1.]\n",
    "]\n",
    "```\n",
    "\n",
    "b.\n",
    "```python\n",
    "[\n",
    "    [1., 1., 1., 1.],\n",
    "    [1., 1., 1., 1.],\n",
    "    [9., 9., 9., 1.],\n",
    "    [9., 9., 9., 1.]\n",
    "]\n",
    "```\n",
    "\n",
    "c.\n",
    "```python\n",
    "[\n",
    "    [1., 1., 1., 1., 1., 1.],\n",
    "    [1., 1., 1., 1., 1., 1.],\n",
    "    [1., 1., 9., 9., 1., 1.],\n",
    "    [1., 1., 9., 9., 1., 1.],\n",
    "    [1., 1., 1., 1., 1., 1.],\n",
    "    [1., 1., 1., 1., 1., 1.]\n",
    "]\n",
    "```"
   ]
  },
  {
   "cell_type": "markdown",
   "metadata": {},
   "source": [
    "## 3. Array manipulations"
   ]
  },
  {
   "cell_type": "markdown",
   "metadata": {},
   "source": [
    "### 3.1. Reshape an array"
   ]
  },
  {
   "cell_type": "code",
   "execution_count": null,
   "metadata": {},
   "outputs": [],
   "source": [
    "my_array = np.arange(1,17)\n",
    "reshaped = my_array.reshape((4,4))\n",
    "\n",
    "print(my_array)\n",
    "print(reshaped)"
   ]
  },
  {
   "cell_type": "markdown",
   "metadata": {},
   "source": [
    "### 3.2. 1D array to 2D array"
   ]
  },
  {
   "cell_type": "markdown",
   "metadata": {},
   "source": [
    "![New axis](img/numpy_reshape.png)"
   ]
  },
  {
   "cell_type": "code",
   "execution_count": null,
   "metadata": {},
   "outputs": [],
   "source": [
    "# Using reshape()\n",
    "my_1d = np.array([2,0,1,8])\n",
    "print(my_1d.shape, my_1d.ndim)\n",
    "\n",
    "my_2d_row = my_1d.reshape(1, 4) # 1 row, 4 columns\n",
    "print(my_2d_row.shape, my_2d_row.ndim)\n",
    "\n",
    "my_2d_col = my_1d.reshape(4, 1) # 4 rows, 1 column\n",
    "print(my_2d_col.shape, my_2d_col.ndim)"
   ]
  },
  {
   "cell_type": "code",
   "execution_count": null,
   "metadata": {},
   "outputs": [],
   "source": [
    "# Using np.newaxis\n",
    "my_1d = np.array([2,0,1,8])\n",
    "print(my_1d.shape, my_1d.ndim)\n",
    "\n",
    "my_2d_row = my_1d[np.newaxis, :]\n",
    "print(my_2d_row.shape, my_2d_row.ndim)\n",
    "\n",
    "my_2d_col = my_1d[:, np.newaxis]\n",
    "print(my_2d_col.shape, my_2d_col.ndim)"
   ]
  },
  {
   "cell_type": "markdown",
   "metadata": {},
   "source": [
    "### 3.3. Adding, removing, and sorting elements"
   ]
  },
  {
   "cell_type": "markdown",
   "metadata": {},
   "source": [
    "### 3.4. Reverse an array"
   ]
  },
  {
   "cell_type": "markdown",
   "metadata": {},
   "source": [
    "### 3.5. Transposing and reshape a matrix"
   ]
  },
  {
   "cell_type": "markdown",
   "metadata": {},
   "source": [
    "### 3.6. Reshape and flattening multidimentional array"
   ]
  },
  {
   "cell_type": "markdown",
   "metadata": {},
   "source": [
    "### 3.7. Numpy axes"
   ]
  },
  {
   "cell_type": "markdown",
   "metadata": {},
   "source": [
    "![Numpy axes](img/numpy-arrays-have-axes_updated_v2.png)"
   ]
  },
  {
   "cell_type": "markdown",
   "metadata": {},
   "source": [
    "It’s very important to understand what the `axis` parameter actually controls for each function."
   ]
  },
  {
   "cell_type": "markdown",
   "metadata": {},
   "source": [
    "- The `axis` in the `np.sum()` controls which axis will be collapsed."
   ]
  },
  {
   "cell_type": "code",
   "execution_count": 164,
   "metadata": {},
   "outputs": [
    {
     "name": "stdout",
     "output_type": "stream",
     "text": [
      "[[0 1 2]\n",
      " [3 4 5]]\n",
      "15\n"
     ]
    }
   ],
   "source": [
    "my_array = np.arange(0,6).reshape(2,3)\n",
    "print(my_array)\n",
    "print(np.sum(my_array))"
   ]
  },
  {
   "cell_type": "markdown",
   "metadata": {},
   "source": [
    "![numpy-axes-np-sum-axis-0](img/numpy-axes-np-sum-axis-0.png)\n",
    "![numpy-axes-np-sum-axis-1](img/numpy-axes-np-sum-axis-1.png)"
   ]
  },
  {
   "cell_type": "code",
   "execution_count": 166,
   "metadata": {},
   "outputs": [
    {
     "name": "stdout",
     "output_type": "stream",
     "text": [
      "axis=0 [3 5 7]\n",
      "axis=1 [ 3 12]\n"
     ]
    }
   ],
   "source": [
    "print(\"axis=0\", np.sum(my_array, axis=0)) # does not sum elements along the rows, but sum elements along the columns to collapse the rows\n",
    "print(\"axis=1\", np.sum(my_array, axis=1)) # does not sum elements along the columns, but sum elements along the rows to collapse the columns"
   ]
  },
  {
   "cell_type": "markdown",
   "metadata": {},
   "source": [
    "- The `axis` parameter in `np.concatenate()` controls which axis we stack the arrays."
   ]
  },
  {
   "cell_type": "code",
   "execution_count": 179,
   "metadata": {},
   "outputs": [
    {
     "name": "stdout",
     "output_type": "stream",
     "text": [
      "arr1\n",
      "[[1 1 1]\n",
      " [1 1 1]]\n",
      "arr2\n",
      "[[9 9 9]\n",
      " [9 9 9]]\n",
      "axis=0\n",
      "[[1 1 1]\n",
      " [1 1 1]\n",
      " [9 9 9]\n",
      " [9 9 9]]\n",
      "axis=1\n",
      "[[1 1 1 9 9 9]\n",
      " [1 1 1 9 9 9]]\n"
     ]
    }
   ],
   "source": [
    "arr1 = np.ones(shape=(2,3), dtype=np.int8)\n",
    "print(\"arr1\")\n",
    "print(arr1)\n",
    "\n",
    "arr2 = np.full(shape=(2,3), fill_value=9, dtype=np.int8)\n",
    "print(\"arr2\")\n",
    "print(arr2)\n",
    "\n",
    "print(\"axis=0\")\n",
    "print(np.concatenate([arr1, arr2], axis=0))\n",
    "\n",
    "print(\"axis=1\")\n",
    "print(np.concatenate([arr1, arr2], axis=1))"
   ]
  },
  {
   "cell_type": "markdown",
   "metadata": {},
   "source": [
    "![explanation_numpy-concatenate-axis-0](img/explanation_numpy-concatenate-axis-0.png)\n",
    "![explanation_numpy-concatenate-axis-1](img/explanation_numpy-concatenate-axis-1.png)"
   ]
  },
  {
   "cell_type": "markdown",
   "metadata": {},
   "source": [
    "- 1D array only has 1 axis\n",
    "![1d-array-has-one-axis](img/1d-array-has-one-axis.webp)"
   ]
  },
  {
   "cell_type": "code",
   "execution_count": 187,
   "metadata": {},
   "outputs": [
    {
     "name": "stdout",
     "output_type": "stream",
     "text": [
      "[1 1 1]\n",
      "[9 9 9]\n",
      "[1 1 1 9 9 9]\n"
     ]
    }
   ],
   "source": [
    "arr1 = np.ones(shape=(3,), dtype=np.int8)\n",
    "print(arr1)\n",
    "\n",
    "arr2 = np.full_like(arr1, fill_value=9, dtype=np.int8)\n",
    "print(arr2)\n",
    "\n",
    "print(np.concatenate([arr1, arr2], axis=0))\n",
    "#print(np.concatenate([arr1, arr2], axis=1)) # AxisError"
   ]
  },
  {
   "cell_type": "code",
   "execution_count": 188,
   "metadata": {},
   "outputs": [
    {
     "name": "stdout",
     "output_type": "stream",
     "text": [
      "[[1 1 1]\n",
      " [9 9 9]]\n"
     ]
    }
   ],
   "source": [
    "# To stack 2 1D arrays vertically\n",
    "print(np.concatenate([arr1, arr2]).reshape(2,3))"
   ]
  },
  {
   "cell_type": "markdown",
   "metadata": {},
   "source": [
    "## 4. Basic array operations"
   ]
  },
  {
   "cell_type": "markdown",
   "metadata": {},
   "source": [
    "### 4.1. "
   ]
  },
  {
   "cell_type": "markdown",
   "metadata": {},
   "source": [
    "### 4.2. Working with mathematical formulas"
   ]
  },
  {
   "cell_type": "markdown",
   "metadata": {},
   "source": [
    "## 5. Broadcasting"
   ]
  },
  {
   "cell_type": "markdown",
   "metadata": {},
   "source": [
    "## 6. Save and load Numpy objects"
   ]
  },
  {
   "cell_type": "code",
   "execution_count": null,
   "metadata": {},
   "outputs": [],
   "source": [
    "a = np.array([1,2,3, \"4\"], dtype=np.int32)\n",
    "a, a.dtype"
   ]
  },
  {
   "cell_type": "code",
   "execution_count": null,
   "metadata": {},
   "outputs": [],
   "source": [
    "type(a[0])"
   ]
  },
  {
   "cell_type": "markdown",
   "metadata": {},
   "source": [
    "### **EXCERCIE**"
   ]
  },
  {
   "cell_type": "code",
   "execution_count": null,
   "metadata": {},
   "outputs": [],
   "source": []
  },
  {
   "cell_type": "markdown",
   "metadata": {},
   "source": [
    "# REFERENCES\n",
    "\n",
    "1. [Numpy Tutorials for Beginners](https://www.kaggle.com/code/orhansertkaya/numpy-tutorial-for-beginners)\n",
    "2. [Numpy Docs](https://numpy.org/doc/stable/user/absolute_beginners.html#)\n",
    "3. [Numpy Axes Explained](https://www.sharpsightlabs.com/blog/numpy-axes-explained/)"
   ]
  },
  {
   "cell_type": "markdown",
   "metadata": {},
   "source": []
  }
 ],
 "metadata": {
  "kernelspec": {
   "display_name": "Python 3",
   "language": "python",
   "name": "python3"
  },
  "language_info": {
   "codemirror_mode": {
    "name": "ipython",
    "version": 3
   },
   "file_extension": ".py",
   "mimetype": "text/x-python",
   "name": "python",
   "nbconvert_exporter": "python",
   "pygments_lexer": "ipython3",
   "version": "3.9.6"
  }
 },
 "nbformat": 4,
 "nbformat_minor": 2
}
