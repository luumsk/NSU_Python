{
 "cells": [
  {
   "cell_type": "markdown",
   "metadata": {},
   "source": [
    "# Numpy"
   ]
  },
  {
   "cell_type": "markdown",
   "metadata": {},
   "source": [
    "**NumPy** is a popular Python library for numerical and scientific computing, and it provides a powerful data structure called a NumPy array (also known as `ndarray`) for efficiently working with large datasets of homogeneous data types, such as numbers (integers or floats). "
   ]
  },
  {
   "cell_type": "code",
   "execution_count": 85,
   "metadata": {},
   "outputs": [],
   "source": [
    "import numpy as np"
   ]
  },
  {
   "cell_type": "markdown",
   "metadata": {},
   "source": [
    "## 1. Introduction of Numpy array"
   ]
  },
  {
   "cell_type": "markdown",
   "metadata": {},
   "source": [
    "### 1.1. What is an array?"
   ]
  },
  {
   "cell_type": "markdown",
   "metadata": {},
   "source": [
    "A NumPy array (also known as ndarray) is a fundamental data structure provided by the NumPy library in Python. It is a multidimensional, homogeneous, and efficient array-like container that can store elements of the same data type. NumPy arrays are used extensively in scientific computing, data analysis, and numerical computing tasks.\n",
    "\n",
    "You should consider using NumPy arrays when:\n",
    "\n",
    "- Numerical Computations: NumPy is designed for numerical and scientific computing tasks. If you're working with numerical data, matrices, or multidimensional arrays, NumPy provides efficient tools and functions for operations like addition, subtraction, multiplication, and more.\n",
    "\n",
    "- Large Datasets: NumPy arrays are memory-efficient and can handle large datasets without consuming excessive memory.\n",
    "\n",
    "- Mathematical Operations: NumPy simplifies mathematical operations and vectorized computations. It allows you to apply mathematical functions element-wise to arrays, eliminating the need for explicit loops.\n",
    "\n",
    "- Data Analysis and Statistics: NumPy is an essential component of the data science and machine learning ecosystem in Python. Many other libraries (e.g., Pandas, SciPy, scikit-learn) rely on NumPy arrays for data manipulation and analysis.\n",
    "\n",
    "- Image and Signal Processing: NumPy is widely used for image and signal processing tasks due to its ability to handle multidimensional data.\n",
    "\n",
    "- Machine Learning: NumPy arrays are the preferred data structure for machine learning algorithms in libraries like scikit-learn and TensorFlow.\n",
    "\n",
    "- Simulation and Modeling: Scientists and engineers use NumPy for simulating physical systems, modeling data, and solving differential equations."
   ]
  },
  {
   "cell_type": "markdown",
   "metadata": {},
   "source": [
    "### 1.2. Why Numpy array?"
   ]
  },
  {
   "cell_type": "markdown",
   "metadata": {},
   "source": [
    "NumPy arrays and Python lists are both used to store collections of data, but they have significant differences in terms of functionality and performance.\n",
    "\n",
    "**NumPy Array:**\n",
    "\n",
    "1. **Homogeneous Data Type:** NumPy arrays are designed to work with homogeneous data types, which means all elements in the array are of the same data type (e.g., integers, floats). This leads to more efficient memory usage and better performance.\n",
    "\n",
    "2. **Vectorized Operations:** NumPy provides a wide range of mathematical and logical functions that can be applied element-wise to entire arrays, allowing for efficient and concise code for numerical computations. This is known as vectorization.\n",
    "\n",
    "3. **Performance:** NumPy operations are implemented in C and are highly optimized, making them significantly faster than equivalent operations on Python lists, especially for large datasets.\n",
    "\n",
    "4. **Memory Efficiency:** NumPy arrays are more memory-efficient than Python lists because they don't need to store type information for each element.\n",
    "\n",
    "5. **Multidimensional Arrays:** NumPy supports multidimensional arrays (e.g., matrices), making it well-suited for mathematical and scientific applications.\n",
    "\n",
    "6. **Broadcasting:** NumPy allows you to perform operations on arrays of different shapes through broadcasting, which simplifies many array operations.\n",
    "\n",
    "**Python List:**\n",
    "\n",
    "1. **Heterogeneous Data Type:** Python lists can contain elements of different data types, which provides flexibility but can lead to performance issues for numerical computations.\n",
    "\n",
    "2. **No Built-in Mathematical Operations:** Python lists don't offer built-in mathematical or array operations. You need to loop through lists to perform operations on individual elements, which can be slower and less concise.\n",
    "\n",
    "3. **Performance:** Python lists are generally slower than NumPy arrays, especially for large datasets and numerical operations.\n",
    "\n",
    "4. **Memory Overhead:** Python lists have higher memory overhead due to the need to store type information for each element.\n",
    "\n",
    "5. **Single-Dimensional:** Lists in Python are primarily single-dimensional. To work with multidimensional data, you'd need to use nested lists, which can become complex to manage.\n",
    "\n",
    "**Why Use NumPy Arrays:**\n",
    "\n",
    "NumPy arrays are preferred for several reasons:\n",
    "\n",
    "1. **Performance:** NumPy operations are highly optimized and execute much faster than equivalent Python list operations, making it the go-to choice for numerical computations and data manipulation.\n",
    "\n",
    "2. **Memory Efficiency:** NumPy arrays are more memory-efficient, especially for large datasets, due to their homogeneous data type and reduced type information overhead.\n",
    "\n",
    "3. **Ease of Use:** NumPy provides a rich set of functions for array manipulation, statistical analysis, and linear algebra, making it easier to work with data.\n",
    "\n",
    "4. **Compatibility:** NumPy arrays can be seamlessly integrated with other libraries and tools commonly used in scientific computing and data analysis, such as SciPy, pandas, and scikit-learn."
   ]
  },
  {
   "cell_type": "code",
   "execution_count": 86,
   "metadata": {},
   "outputs": [
    {
     "name": "stdout",
     "output_type": "stream",
     "text": [
      "Numpy Array:\n",
      "1.06 ms ± 5.65 µs per loop (mean ± std. dev. of 7 runs, 1,000 loops each)\n",
      "List:\n",
      "43.9 ms ± 469 µs per loop (mean ± std. dev. of 7 runs, 10 loops each)\n"
     ]
    }
   ],
   "source": [
    "my_arr = np.arange(1_000_000)\n",
    "my_list = list(range(1_000_000))\n",
    "\n",
    "print(\"Numpy Array:\")\n",
    "%timeit my_arr2 = my_arr * 2\n",
    "\n",
    "print(\"List:\")\n",
    "%timeit my_list2 = [x * 2 for x in my_list]"
   ]
  },
  {
   "cell_type": "markdown",
   "metadata": {},
   "source": [
    "### 1.3. Array creation"
   ]
  },
  {
   "cell_type": "markdown",
   "metadata": {},
   "source": [
    "- Basic creation"
   ]
  },
  {
   "cell_type": "code",
   "execution_count": 88,
   "metadata": {},
   "outputs": [
    {
     "name": "stdout",
     "output_type": "stream",
     "text": [
      "[1 2 3 4]\n",
      "4\n",
      "1 4\n",
      "int64\n",
      "<class 'numpy.ndarray'>\n"
     ]
    }
   ],
   "source": [
    "my_array = np.array([1,2,3,4])\n",
    "\n",
    "print(my_array)\n",
    "print(len(my_array))\n",
    "print(my_array[0], my_array[-1])\n",
    "print(my_array.dtype)\n",
    "print(type(my_array))"
   ]
  },
  {
   "cell_type": "markdown",
   "metadata": {},
   "source": [
    "- Create an array with `dtype` specified"
   ]
  },
  {
   "cell_type": "code",
   "execution_count": 91,
   "metadata": {},
   "outputs": [
    {
     "name": "stdout",
     "output_type": "stream",
     "text": [
      "[1 2 3 4]\n",
      "int8\n"
     ]
    }
   ],
   "source": [
    "my_array = np.array((1,2,3,4), dtype=\"int8\")\n",
    "\n",
    "print(my_array)\n",
    "print(my_array.dtype)"
   ]
  },
  {
   "cell_type": "code",
   "execution_count": 92,
   "metadata": {},
   "outputs": [
    {
     "name": "stdout",
     "output_type": "stream",
     "text": [
      "[1 2 3 4]\n",
      "int8\n"
     ]
    }
   ],
   "source": [
    "my_array = np.array((1,2,3,4)).astype(\"int8\")\n",
    "\n",
    "print(my_array)\n",
    "print(my_array.dtype)"
   ]
  },
  {
   "cell_type": "code",
   "execution_count": 96,
   "metadata": {},
   "outputs": [
    {
     "name": "stdout",
     "output_type": "stream",
     "text": [
      "[1 2 3 4]\n",
      "int32\n"
     ]
    }
   ],
   "source": [
    "# What if there are different types of data?\n",
    "my_array = np.array((1,2,3,\"4\"), dtype=np.int32)\n",
    "\n",
    "print(my_array)\n",
    "print(my_array.dtype)"
   ]
  },
  {
   "cell_type": "markdown",
   "metadata": {},
   "source": [
    "- Create arrays and fill with values"
   ]
  },
  {
   "cell_type": "code",
   "execution_count": 97,
   "metadata": {},
   "outputs": [
    {
     "name": "stdout",
     "output_type": "stream",
     "text": [
      "my_array\n",
      "[[0. 0. 0.]\n",
      " [0. 0. 0.]]\n",
      "float64\n",
      "2\n",
      "\n"
     ]
    }
   ],
   "source": [
    "# Fill with zeros\n",
    "my_array = np.zeros(shape=(2,3))\n",
    "print(\"my_array\")\n",
    "print(my_array)\n",
    "print(my_array.dtype)\n",
    "print(len(my_array))\n",
    "print(\"\")"
   ]
  },
  {
   "cell_type": "code",
   "execution_count": 98,
   "metadata": {},
   "outputs": [
    {
     "name": "stdout",
     "output_type": "stream",
     "text": [
      "my_array2\n",
      "[[0 0 0]\n",
      " [0 0 0]]\n",
      "int8\n",
      "2\n"
     ]
    }
   ],
   "source": [
    "print(\"my_array2\")\n",
    "my_array2 = np.zeros_like(my_array).astype(np.int8)\n",
    "print(my_array2)\n",
    "print(my_array2.dtype)\n",
    "print(len(my_array2))"
   ]
  },
  {
   "cell_type": "code",
   "execution_count": 99,
   "metadata": {},
   "outputs": [
    {
     "name": "stdout",
     "output_type": "stream",
     "text": [
      "my_array\n",
      "[[1 1 1]\n",
      " [1 1 1]]\n",
      "int8\n",
      "2\n",
      "\n",
      "my_array2\n",
      "[[1 1 1]\n",
      " [1 1 1]]\n",
      "int8\n",
      "2\n"
     ]
    }
   ],
   "source": [
    "# Fill with ones\n",
    "my_array = np.ones((2,3), dtype=np.int8)\n",
    "print(\"my_array\")\n",
    "print(my_array)\n",
    "print(my_array.dtype)\n",
    "print(len(my_array))\n",
    "print(\"\")\n",
    "\n",
    "print(\"my_array2\")\n",
    "my_array2 = np.ones_like(my_array)\n",
    "print(my_array2)\n",
    "print(my_array2.dtype)\n",
    "print(len(my_array2))"
   ]
  },
  {
   "cell_type": "code",
   "execution_count": 100,
   "metadata": {},
   "outputs": [
    {
     "name": "stdout",
     "output_type": "stream",
     "text": [
      "my_array\n",
      "[[3.14 3.14 3.14 3.14 3.14]\n",
      " [3.14 3.14 3.14 3.14 3.14]\n",
      " [3.14 3.14 3.14 3.14 3.14]]\n",
      "float16\n",
      "\n",
      "[[1.43 1.43 1.43 1.43 1.43]\n",
      " [1.43 1.43 1.43 1.43 1.43]\n",
      " [1.43 1.43 1.43 1.43 1.43]]\n",
      "float32\n"
     ]
    }
   ],
   "source": [
    "# Fill with custom values\n",
    "my_array = np.full(shape=(3,5), fill_value=3.14, dtype=np.float16)\n",
    "print(\"my_array\")\n",
    "print(my_array)\n",
    "print(my_array.dtype)\n",
    "print(\"\")\n",
    "\n",
    "my_array2 = np.full_like(my_array, fill_value=1.43, dtype=np.float32)\n",
    "\n",
    "print(my_array2)\n",
    "print(my_array2.dtype)"
   ]
  },
  {
   "cell_type": "markdown",
   "metadata": {},
   "source": [
    "- Create arrays from a sequence"
   ]
  },
  {
   "cell_type": "code",
   "execution_count": 101,
   "metadata": {},
   "outputs": [
    {
     "data": {
      "text/plain": [
       "array([ 6,  8, 10, 12, 14, 16, 18, 20, 22, 24, 26, 28, 30, 32, 34, 36, 38,\n",
       "       40, 42, 44, 46, 48])"
      ]
     },
     "execution_count": 101,
     "metadata": {},
     "output_type": "execute_result"
    }
   ],
   "source": [
    "# Create an array filled with a linear sequence\n",
    "# starting at 6, ending at 49, stepping by 2\n",
    "# (this is similar to the built-in range() function)\n",
    "np.arange(start=6, stop=49, step=2)"
   ]
  },
  {
   "cell_type": "code",
   "execution_count": 102,
   "metadata": {},
   "outputs": [
    {
     "data": {
      "text/plain": [
       "array([0.  , 0.25, 0.5 , 0.75, 1.  ])"
      ]
     },
     "execution_count": 102,
     "metadata": {},
     "output_type": "execute_result"
    }
   ],
   "source": [
    "# Create an array of five values evenly spaced between 0 and 1\n",
    "np.linspace(start=0, stop=1, num=5)"
   ]
  },
  {
   "cell_type": "markdown",
   "metadata": {},
   "source": [
    "- Create arrays and fill with random values"
   ]
  },
  {
   "cell_type": "code",
   "execution_count": 103,
   "metadata": {},
   "outputs": [
    {
     "data": {
      "text/plain": [
       "array([[0.73183713, 0.8139653 , 0.21207291, 0.80651694, 0.77979057],\n",
       "       [0.54712177, 0.70495644, 0.24489256, 0.0218631 , 0.35858115],\n",
       "       [0.13525534, 0.17141222, 0.99161547, 0.32182231, 0.39583503],\n",
       "       [0.08969257, 0.63169453, 0.20770986, 0.71691227, 0.51701203],\n",
       "       [0.36417467, 0.30816352, 0.73246189, 0.56761551, 0.65097342]])"
      ]
     },
     "execution_count": 103,
     "metadata": {},
     "output_type": "execute_result"
    }
   ],
   "source": [
    "# Create a 5x5 array of uniformly distributed random values between 0 and 1\n",
    "np.random.random(size=(5,5))"
   ]
  },
  {
   "cell_type": "code",
   "execution_count": 104,
   "metadata": {},
   "outputs": [
    {
     "data": {
      "text/plain": [
       "array([[-0.34252567,  0.57913437,  1.64112121],\n",
       "       [ 1.61419131, -1.04877886,  0.28918448],\n",
       "       [ 0.32894565, -0.07064891, -1.92771866]])"
      ]
     },
     "execution_count": 104,
     "metadata": {},
     "output_type": "execute_result"
    }
   ],
   "source": [
    "# Create a 3x3 array of normally distributed random values\n",
    "# with mean 0 and standard deviation 1\n",
    "\n",
    "np.random.normal(loc=0.0, scale=1.0, size=(3,3))"
   ]
  },
  {
   "cell_type": "markdown",
   "metadata": {},
   "source": [
    "**EXERCISE**\n",
    "\n",
    "1. Create a Numpy array from a list\n",
    "2. Create a Numpy array from a range starts at 7, stops at 100, with 3 step\n",
    "3. Create a Numpy array from a uniform random distribution of shape (6,6)\n",
    "4. Create a Numpy array from a normal distribution of mean 2.0 and standard deviation of 1.0 "
   ]
  },
  {
   "cell_type": "code",
   "execution_count": 115,
   "metadata": {},
   "outputs": [
    {
     "name": "stdout",
     "output_type": "stream",
     "text": [
      "[1 2 3]\n",
      "[ 7 10 13 16 19 22 25 28 31 34 37 40 43 46 49 52 55 58 61 64 67 70 73 76\n",
      " 79 82 85 88 91 94 97]\n",
      "[[6.33442998e-01 1.39504353e-01 5.28640981e-01 4.97978093e-01\n",
      "  1.90807257e-01 7.48433917e-01]\n",
      " [6.26532098e-01 6.12521336e-01 8.17729580e-01 3.36455500e-01\n",
      "  3.49390432e-01 8.03203012e-01]\n",
      " [7.60449206e-01 3.40066877e-01 6.28156010e-01 1.05506137e-01\n",
      "  3.75812364e-01 3.12437570e-01]\n",
      " [1.67352934e-04 1.07079338e-02 6.52533956e-01 9.96707938e-01\n",
      "  4.91491035e-01 2.29535773e-02]\n",
      " [9.27493583e-01 3.24020249e-01 6.67642065e-01 4.54384589e-01\n",
      "  2.31356961e-01 7.78630229e-01]\n",
      " [1.10739721e-02 4.63126380e-01 2.26956607e-01 4.44819842e-01\n",
      "  8.30398140e-01 8.57565378e-01]]\n",
      "[[2.04376137 1.50253193 3.13217411]\n",
      " [1.44861995 0.44516282 2.3176964 ]\n",
      " [2.74833853 3.10975882 1.4104016 ]]\n"
     ]
    }
   ],
   "source": [
    "print(np.array([1,2,3]))\n",
    "print(np.arange(start=7, stop=100, step=3))\n",
    "print(np.random.random(size=(6,6)))\n",
    "print(np.random.normal(loc=2.0, scale=1.0, size=(3,3)))"
   ]
  },
  {
   "cell_type": "markdown",
   "metadata": {},
   "source": [
    "## 2. Attributes of arrays"
   ]
  },
  {
   "cell_type": "markdown",
   "metadata": {},
   "source": [
    "### 2.1. Size, shape, memory consumption, and data types of arrays"
   ]
  },
  {
   "cell_type": "markdown",
   "metadata": {},
   "source": [
    "- The `shape` attribute is a tuple that describes the dimensions of the array. For a 1D array, it's a tuple with a single element representing the number of elements. For a 2D array, it's a tuple with two elements representing the number of rows and columns, and so on.\n",
    "- The `dtype` attribute specifies the data type of the elements in the array, such as int64, float32, etc.\n",
    "- The `ndim` attribute indicates the number of dimensions (axes) in the array.\n",
    "- The `size` attribute represents the total number of elements in the array.\n",
    "- The `itemsize` attribute specifies the size (in bytes) of each element in the array.\n",
    "- The `nbytes` attribute returns the total number of bytes used by the array's data."
   ]
  },
  {
   "cell_type": "code",
   "execution_count": 116,
   "metadata": {},
   "outputs": [
    {
     "name": "stdout",
     "output_type": "stream",
     "text": [
      "Shape of array: (2, 3, 2)\n",
      "Type of elements: int8\n",
      "Number of dimentions: 3\n",
      "Number of elements: 12\n",
      "Item's size: 1\n",
      "Total number of bytes used by my_array: 12\n"
     ]
    }
   ],
   "source": [
    "my_array = np.array(\n",
    "    [\n",
    "        [[1,2], [2,3], [3,4]],\n",
    "        [[4,5], [5,6], [6,7]]\n",
    "    ],\n",
    "    dtype=np.int8\n",
    ")\n",
    "print(f\"Shape of array: {my_array.shape}\")\n",
    "print(f\"Type of elements: {my_array.dtype}\")\n",
    "print(f\"Number of dimentions: {my_array.ndim}\")\n",
    "print(f\"Number of elements: {my_array.size}\") \n",
    "print(f\"Item's size: {my_array.itemsize}\")\n",
    "print(f\"Total number of bytes used by my_array: {my_array.nbytes}\")"
   ]
  },
  {
   "cell_type": "markdown",
   "metadata": {},
   "source": [
    "### 2.2. Indexing & Slicing"
   ]
  },
  {
   "cell_type": "markdown",
   "metadata": {},
   "source": [
    "- 1D array: similar to List indexing and slicing"
   ]
  },
  {
   "cell_type": "code",
   "execution_count": 117,
   "metadata": {},
   "outputs": [
    {
     "name": "stdout",
     "output_type": "stream",
     "text": [
      "7\n",
      "8\n",
      "[5 6 7]\n",
      "[6 7 8]\n",
      "[5 7]\n"
     ]
    }
   ],
   "source": [
    "my_array = np.array([5,6,7,8])\n",
    "print(my_array[2])\n",
    "print(my_array[-1])\n",
    "print(my_array[:3])\n",
    "print(my_array[1:])\n",
    "print(my_array[::2])"
   ]
  },
  {
   "cell_type": "markdown",
   "metadata": {},
   "source": [
    "- 2D array: using a comma-separated tuple of indices"
   ]
  },
  {
   "cell_type": "markdown",
   "metadata": {},
   "source": [
    "![np_matrix_indexing](img/np_matrix_indexing.png)"
   ]
  },
  {
   "cell_type": "code",
   "execution_count": 118,
   "metadata": {},
   "outputs": [
    {
     "name": "stdout",
     "output_type": "stream",
     "text": [
      "(3, 4)\n",
      "3\n",
      "99\n"
     ]
    }
   ],
   "source": [
    "my_array = np.array(\n",
    "    [\n",
    "# column 0  1  2  3\n",
    "        [3, 5, 2, 4], # row 0\n",
    "        [7, 6, 8, 8], # row 1\n",
    "        [1, 6, 7, 99] # row 2\n",
    "    ]\n",
    ")\n",
    "\n",
    "print(my_array.shape)\n",
    "print(my_array[0,0])\n",
    "print(my_array[-1,-1])"
   ]
  },
  {
   "cell_type": "code",
   "execution_count": 119,
   "metadata": {},
   "outputs": [
    {
     "name": "stdout",
     "output_type": "stream",
     "text": [
      "[4 8]\n",
      "[[ 5  4]\n",
      " [ 6 99]]\n"
     ]
    }
   ],
   "source": [
    "my_array = np.array(\n",
    "    [\n",
    "    # cl 0  1  2  3\n",
    "        [3, 5, 2, 4], # row 0\n",
    "        [7, 6, 8, 8], # row 1\n",
    "        [1, 6, 7, 99] # row 2\n",
    "    ]\n",
    ")\n",
    "\n",
    "# Get values from the first 2 rows last column\n",
    "print(my_array[:2, -1])\n",
    "\n",
    "# Get values of every even rows and odd column\n",
    "print(my_array[::2, 1::2])"
   ]
  },
  {
   "cell_type": "markdown",
   "metadata": {},
   "source": [
    "- Modify values using index notation"
   ]
  },
  {
   "cell_type": "code",
   "execution_count": 120,
   "metadata": {},
   "outputs": [
    {
     "name": "stdout",
     "output_type": "stream",
     "text": [
      "[[100   5   2   4]\n",
      " [  7   6   8   8]\n",
      " [  1   6   7  99]]\n"
     ]
    }
   ],
   "source": [
    "my_array = np.array(\n",
    "    [\n",
    "        [3, 5, 2, 4],\n",
    "        [7, 6, 8, 8],\n",
    "        [1, 6, 7, 99]\n",
    "    ]\n",
    ")\n",
    "my_array[0,0] = 100\n",
    "\n",
    "print(my_array)"
   ]
  },
  {
   "cell_type": "markdown",
   "metadata": {},
   "source": [
    "**NOTE**\n",
    "\n",
    "Numpy array slicing returns **views** rather than **copies** of the array data. In lists, slices will be copies. "
   ]
  },
  {
   "cell_type": "code",
   "execution_count": 121,
   "metadata": {},
   "outputs": [
    {
     "name": "stdout",
     "output_type": "stream",
     "text": [
      "my_list: [1, 2, 3]\n",
      "copied_list: [8, 2, 3]\n"
     ]
    }
   ],
   "source": [
    "my_list = [1,2,3]\n",
    "copied_list = my_list[:]\n",
    "copied_list[0] = 8 # only affect copied_list\n",
    "print(f\"my_list: {my_list}\")\n",
    "print(f\"copied_list: {copied_list}\")"
   ]
  },
  {
   "cell_type": "code",
   "execution_count": 122,
   "metadata": {},
   "outputs": [
    {
     "name": "stdout",
     "output_type": "stream",
     "text": [
      "my_array: [8 2 3]\n",
      "viewed_array: [8 2 3]\n"
     ]
    }
   ],
   "source": [
    "my_array = np.array([1,2,3])\n",
    "viewed_array = my_array[:] # slicing\n",
    "my_array[0] = 8 # update viewed_array as well\n",
    "\n",
    "print(f\"my_array: {my_array}\")\n",
    "print(f\"viewed_array: {viewed_array}\")"
   ]
  },
  {
   "cell_type": "code",
   "execution_count": 123,
   "metadata": {},
   "outputs": [
    {
     "name": "stdout",
     "output_type": "stream",
     "text": [
      "my_array: [99  2  3]\n",
      "viewed_array: [99  2  3]\n"
     ]
    }
   ],
   "source": [
    "my_array = np.array([1,2,3])\n",
    "viewed_array = my_array[:] # slicing\n",
    "viewed_array[0] = 99 # update my_array as well\n",
    "\n",
    "print(f\"my_array: {my_array}\")\n",
    "print(f\"viewed_array: {viewed_array}\")"
   ]
  },
  {
   "cell_type": "markdown",
   "metadata": {},
   "source": [
    "To copy a Numpy array, use method `copy()`"
   ]
  },
  {
   "cell_type": "code",
   "execution_count": 124,
   "metadata": {},
   "outputs": [
    {
     "name": "stdout",
     "output_type": "stream",
     "text": [
      "my_array: [1 2 3 4 5 6]\n",
      "copied_array: [8 2 3 4 5 6]\n"
     ]
    }
   ],
   "source": [
    "my_array = np.array([1,2,3,4,5,6])\n",
    "copied_array = my_array.copy() # copy\n",
    "copied_array[0] = 8 # only affect copied_array\n",
    "\n",
    "print(f\"my_array: {my_array}\")\n",
    "print(f\"copied_array: {copied_array}\")"
   ]
  },
  {
   "cell_type": "markdown",
   "metadata": {},
   "source": [
    "It's useful when working with large datasets, we only view and copy a small piece of data instead of copying the whole dataset."
   ]
  },
  {
   "cell_type": "markdown",
   "metadata": {},
   "source": [
    "**EXERCISE**\n",
    "\n",
    "1. Create these following matrices using Numpy arrays, be careful with the data type.\n",
    "\n",
    "a. \n",
    "```python\n",
    "[\n",
    "    [0, 0, 0, 0, 0],\n",
    "    [0, 0, 0, 0, 0],\n",
    "    [0, 0, 1, 0, 0],\n",
    "    [0, 0, 0, 0, 0],\n",
    "    [0, 0, 0, 0, 0]\n",
    "]\n",
    "```\n",
    "\n",
    "b.\n",
    "```python\n",
    "[\n",
    "    [1, 1, 1, 1, 1],\n",
    "    [0, 0, 0, 0, 0],\n",
    "    [1, 1, 1, 1, 1],\n",
    "    [0, 0, 0, 0, 0],\n",
    "    [1, 1, 1, 1, 1]\n",
    "]\n",
    "```\n",
    "\n",
    "c.\n",
    "```python\n",
    "[\n",
    "    [1, 0, 1, 0, 1],\n",
    "    [0, 0, 0, 0, 0],\n",
    "    [1, 0, 1, 0, 1],\n",
    "    [0, 0, 0, 0, 0],\n",
    "    [1, 0, 1, 0, 1]\n",
    "]\n",
    "```\n",
    "\n",
    "2. Get all number 9 from these following arrays\n",
    "\n",
    "a.\n",
    "```python\n",
    "[\n",
    "    [1., 1., 1.],\n",
    "    [1., 9., 1.],\n",
    "    [1., 1., 1.]\n",
    "]\n",
    "```\n",
    "\n",
    "b.\n",
    "```python\n",
    "[\n",
    "    [1., 1., 1., 1.],\n",
    "    [1., 1., 1., 1.],\n",
    "    [9., 9., 9., 1.],\n",
    "    [9., 9., 9., 1.]\n",
    "]\n",
    "```\n",
    "\n",
    "c.\n",
    "```python\n",
    "[\n",
    "    [1., 1., 1., 1., 1., 1.],\n",
    "    [1., 1., 1., 1., 1., 1.],\n",
    "    [1., 1., 9., 9., 1., 1.],\n",
    "    [1., 1., 9., 9., 1., 1.],\n",
    "    [1., 1., 1., 1., 1., 1.],\n",
    "    [1., 1., 1., 1., 1., 1.]\n",
    "]\n",
    "```"
   ]
  },
  {
   "cell_type": "code",
   "execution_count": 132,
   "metadata": {},
   "outputs": [
    {
     "name": "stdout",
     "output_type": "stream",
     "text": [
      "[[0 0 0 0 0]\n",
      " [0 0 0 0 0]\n",
      " [0 0 1 0 0]\n",
      " [0 0 0 0 0]\n",
      " [0 0 0 0 0]]\n",
      "\n",
      "[[1 1 1 1 1]\n",
      " [0 0 0 0 0]\n",
      " [1 1 1 1 1]\n",
      " [0 0 0 0 0]\n",
      " [1 1 1 1 1]]\n",
      "\n",
      "[[1 0 1 0 1]\n",
      " [0 0 0 0 0]\n",
      " [1 0 1 0 1]\n",
      " [0 0 0 0 0]\n",
      " [1 0 1 0 1]]\n"
     ]
    }
   ],
   "source": [
    "a1 = np.zeros(shape=(5,5), dtype=np.int8)\n",
    "a1[2,2] = 1\n",
    "print(a1, end=\"\\n\\n\")\n",
    "\n",
    "a2 = np.zeros_like(a1)\n",
    "a2[::2] = 1\n",
    "print(a2, end=\"\\n\\n\")\n",
    "\n",
    "a3 = np.zeros_like(a1)\n",
    "a3[::2, ::2] = 1\n",
    "print(\n",
    "    a3)"
   ]
  },
  {
   "cell_type": "code",
   "execution_count": 138,
   "metadata": {},
   "outputs": [
    {
     "name": "stdout",
     "output_type": "stream",
     "text": [
      "9.0\n",
      "\n",
      "[[9. 9. 9.]\n",
      " [9. 9. 9.]]\n",
      "\n",
      "[[9. 9.]\n",
      " [9. 9.]]\n"
     ]
    }
   ],
   "source": [
    "a4 = np.array([\n",
    "    [1., 1., 1.],\n",
    "    [1., 9., 1.],\n",
    "    [1., 1., 1.]\n",
    "])\n",
    "print(a4[1,1], end=\"\\n\\n\")\n",
    "\n",
    "a5 = np.array([\n",
    "    [1., 1., 1., 1.],\n",
    "    [1., 1., 1., 1.],\n",
    "    [9., 9., 9., 1.],\n",
    "    [9., 9., 9., 1.]\n",
    "])\n",
    "print(a5[-2:, :3], end=\"\\n\\n\")\n",
    "\n",
    "a6 = np.array([\n",
    "    [1., 1., 1., 1., 1., 1.],\n",
    "    [1., 1., 1., 1., 1., 1.],\n",
    "    [1., 1., 9., 9., 1., 1.],\n",
    "    [1., 1., 9., 9., 1., 1.],\n",
    "    [1., 1., 1., 1., 1., 1.],\n",
    "    [1., 1., 1., 1., 1., 1.]\n",
    "])\n",
    "print(a6[2:4, 2:4])"
   ]
  },
  {
   "cell_type": "code",
   "execution_count": 141,
   "metadata": {},
   "outputs": [
    {
     "data": {
      "text/plain": [
       "iinfo(min=-128, max=127, dtype=int8)"
      ]
     },
     "execution_count": 141,
     "metadata": {},
     "output_type": "execute_result"
    }
   ],
   "source": [
    "np.iinfo(np.int8)"
   ]
  },
  {
   "cell_type": "code",
   "execution_count": 143,
   "metadata": {},
   "outputs": [
    {
     "data": {
      "text/plain": [
       "array([ 126,  127, -128, -127], dtype=int8)"
      ]
     },
     "execution_count": 143,
     "metadata": {},
     "output_type": "execute_result"
    }
   ],
   "source": [
    "arr = np.array([126, 127, 128, 129]).astype(np.int32)\n",
    "arr"
   ]
  },
  {
   "cell_type": "markdown",
   "metadata": {},
   "source": [
    "## 3. Array manipulations"
   ]
  },
  {
   "cell_type": "markdown",
   "metadata": {},
   "source": [
    "### 3.1. Reshape an array"
   ]
  },
  {
   "cell_type": "code",
   "execution_count": 150,
   "metadata": {},
   "outputs": [
    {
     "name": "stdout",
     "output_type": "stream",
     "text": [
      "[ 1  2  3  4  5  6  7  8  9 10 11 12 13 14 15 16]\n",
      "[[ 1  2  3  4]\n",
      " [ 5  6  7  8]\n",
      " [ 9 10 11 12]\n",
      " [13 14 15 16]]\n"
     ]
    }
   ],
   "source": [
    "my_array = np.arange(1,17)\n",
    "reshaped = my_array.reshape((4,4))\n",
    "\n",
    "print(my_array)\n",
    "print(reshaped)"
   ]
  },
  {
   "cell_type": "markdown",
   "metadata": {},
   "source": [
    "### 3.2. 1D array to 2D array"
   ]
  },
  {
   "cell_type": "markdown",
   "metadata": {},
   "source": [
    "![New axis](img/numpy_reshape.png)"
   ]
  },
  {
   "cell_type": "code",
   "execution_count": 151,
   "metadata": {},
   "outputs": [
    {
     "name": "stdout",
     "output_type": "stream",
     "text": [
      "(4,) 1\n",
      "(1, 4) 2\n",
      "(4, 1) 2\n",
      "\n",
      "my_1d\n",
      "[2 0 1 8]\n",
      "my_2d_row\n",
      "[[2 0 1 8]]\n",
      "my_2d_col\n",
      "[[2]\n",
      " [0]\n",
      " [1]\n",
      " [8]]\n"
     ]
    }
   ],
   "source": [
    "# Using reshape()\n",
    "my_1d = np.array([2,0,1,8])\n",
    "print(my_1d.shape, my_1d.ndim)\n",
    "\n",
    "my_2d_row = my_1d.reshape(1, 4) # 1 row, 4 columns\n",
    "print(my_2d_row.shape, my_2d_row.ndim)\n",
    "\n",
    "my_2d_col = my_1d.reshape(4, 1) # 4 rows, 1 column\n",
    "print(my_2d_col.shape, my_2d_col.ndim)\n",
    "\n",
    "print(\"\")\n",
    "print(\"my_1d\")\n",
    "print(my_1d)\n",
    "print(\"my_2d_row\")\n",
    "print(my_2d_row)\n",
    "print(\"my_2d_col\")\n",
    "print(my_2d_col)"
   ]
  },
  {
   "cell_type": "code",
   "execution_count": 152,
   "metadata": {},
   "outputs": [
    {
     "name": "stdout",
     "output_type": "stream",
     "text": [
      "(4,) 1\n",
      "(1, 4) 2\n",
      "(4, 1) 2\n",
      "\n",
      "my_1d\n",
      "[2 0 1 8]\n",
      "my_2d_row\n",
      "[[2 0 1 8]]\n",
      "my_2d_col\n",
      "[[2]\n",
      " [0]\n",
      " [1]\n",
      " [8]]\n"
     ]
    }
   ],
   "source": [
    "# Using np.newaxis\n",
    "my_1d = np.array([2,0,1,8])\n",
    "print(my_1d.shape, my_1d.ndim)\n",
    "\n",
    "my_2d_row = my_1d[np.newaxis, :]\n",
    "print(my_2d_row.shape, my_2d_row.ndim)\n",
    "\n",
    "my_2d_col = my_1d[:, np.newaxis]\n",
    "print(my_2d_col.shape, my_2d_col.ndim)\n",
    "\n",
    "print(\"\")\n",
    "print(\"my_1d\")\n",
    "print(my_1d)\n",
    "print(\"my_2d_row\")\n",
    "print(my_2d_row)\n",
    "print(\"my_2d_col\")\n",
    "print(my_2d_col)"
   ]
  },
  {
   "cell_type": "code",
   "execution_count": 153,
   "metadata": {},
   "outputs": [
    {
     "name": "stdout",
     "output_type": "stream",
     "text": [
      "(4,) 1\n",
      "(1, 4) 2\n",
      "(4, 1) 2\n",
      "\n",
      "my_1d\n",
      "[2 0 1 8]\n",
      "my_2d_row\n",
      "[[2 0 1 8]]\n",
      "my_2d_col\n",
      "[[2]\n",
      " [0]\n",
      " [1]\n",
      " [8]]\n"
     ]
    }
   ],
   "source": [
    "# Using np.expand_dims()\n",
    "my_1d = np.array([2,0,1,8])\n",
    "print(my_1d.shape, my_1d.ndim)\n",
    "\n",
    "my_2d_row = np.expand_dims(my_1d, axis=0)\n",
    "print(my_2d_row.shape, my_2d_row.ndim)\n",
    "\n",
    "my_2d_col = np.expand_dims(my_1d, axis=1)\n",
    "print(my_2d_col.shape, my_2d_col.ndim)\n",
    "\n",
    "print(\"\")\n",
    "print(\"my_1d\")\n",
    "print(my_1d)\n",
    "print(\"my_2d_row\")\n",
    "print(my_2d_row)\n",
    "print(\"my_2d_col\")\n",
    "print(my_2d_col)"
   ]
  },
  {
   "cell_type": "markdown",
   "metadata": {},
   "source": [
    "### 3.3. Reverse an array"
   ]
  },
  {
   "cell_type": "markdown",
   "metadata": {},
   "source": [
    "- Using `np.flip()`"
   ]
  },
  {
   "cell_type": "code",
   "execution_count": 154,
   "metadata": {},
   "outputs": [
    {
     "name": "stdout",
     "output_type": "stream",
     "text": [
      "[2 1 3]\n"
     ]
    }
   ],
   "source": [
    "my_array = np.array([3, 1, 2])\n",
    "print(np.flip(my_array))"
   ]
  },
  {
   "cell_type": "markdown",
   "metadata": {},
   "source": [
    "- Using `array[::-1]` syntax"
   ]
  },
  {
   "cell_type": "code",
   "execution_count": 155,
   "metadata": {},
   "outputs": [
    {
     "name": "stdout",
     "output_type": "stream",
     "text": [
      "[2 1 3]\n"
     ]
    }
   ],
   "source": [
    "my_array = np.array([3, 1, 2])\n",
    "print(my_array[::-1])"
   ]
  },
  {
   "cell_type": "markdown",
   "metadata": {},
   "source": [
    "- Reverse along a Specific Axis (for Multi-Dimensional Arrays)"
   ]
  },
  {
   "cell_type": "code",
   "execution_count": 156,
   "metadata": {},
   "outputs": [
    {
     "name": "stdout",
     "output_type": "stream",
     "text": [
      "[[7 8 9]\n",
      " [4 5 6]\n",
      " [1 2 3]]\n",
      "[[7 8 9]\n",
      " [4 5 6]\n",
      " [1 2 3]]\n"
     ]
    }
   ],
   "source": [
    "# Reverse along rows\n",
    "my_array = np.array(\n",
    "    [\n",
    "        [1, 2, 3],\n",
    "        [4, 5, 6],\n",
    "        [7, 8, 9]\n",
    "    ]\n",
    ")\n",
    "print(my_array[::-1, :])\n",
    "print(np.flip(my_array, axis=0))"
   ]
  },
  {
   "cell_type": "code",
   "execution_count": 157,
   "metadata": {},
   "outputs": [
    {
     "name": "stdout",
     "output_type": "stream",
     "text": [
      "[[3 2 1]\n",
      " [6 5 4]\n",
      " [9 8 7]]\n",
      "[[3 2 1]\n",
      " [6 5 4]\n",
      " [9 8 7]]\n"
     ]
    }
   ],
   "source": [
    "# Reverse along columns\n",
    "my_array = np.array(\n",
    "    [\n",
    "        [1, 2, 3],\n",
    "        [4, 5, 6],\n",
    "        [7, 8, 9]\n",
    "    ]\n",
    ")\n",
    "print(my_array[:, ::-1])\n",
    "print(np.flip(my_array, axis=1))"
   ]
  },
  {
   "cell_type": "code",
   "execution_count": 158,
   "metadata": {},
   "outputs": [
    {
     "name": "stdout",
     "output_type": "stream",
     "text": [
      "[[9 8 7]\n",
      " [6 5 4]\n",
      " [3 2 1]]\n",
      "[[9 8 7]\n",
      " [6 5 4]\n",
      " [3 2 1]]\n"
     ]
    }
   ],
   "source": [
    "# Reverse along both rows and columns\n",
    "my_array = np.array(\n",
    "    [\n",
    "        [1, 2, 3],\n",
    "        [4, 5, 6],\n",
    "        [7, 8, 9]\n",
    "    ]\n",
    ")\n",
    "print(my_array[::-1, ::-1])\n",
    "print(np.flip(my_array, axis=(0,1)))"
   ]
  },
  {
   "cell_type": "markdown",
   "metadata": {},
   "source": [
    "### 3.4. Adding, removing, and sorting elements"
   ]
  },
  {
   "cell_type": "code",
   "execution_count": 159,
   "metadata": {},
   "outputs": [
    {
     "name": "stdout",
     "output_type": "stream",
     "text": [
      "[1 2 3 4]\n",
      "[1 2 3]\n"
     ]
    }
   ],
   "source": [
    "my_array = np.array((1,2,3))\n",
    "print(np.append(my_array, 4))\n",
    "print(my_array)"
   ]
  },
  {
   "cell_type": "code",
   "execution_count": 161,
   "metadata": {},
   "outputs": [
    {
     "name": "stdout",
     "output_type": "stream",
     "text": [
      "[2 3 4]\n",
      "[1 2 3 4 5]\n"
     ]
    }
   ],
   "source": [
    "my_array = np.array((1,2,3,4,5))\n",
    "print(np.delete(my_array, (0,-1)))\n",
    "print(my_array)"
   ]
  },
  {
   "cell_type": "markdown",
   "metadata": {},
   "source": [
    "### Sorting"
   ]
  },
  {
   "cell_type": "markdown",
   "metadata": {},
   "source": [
    "- Using `np.sort()`"
   ]
  },
  {
   "cell_type": "code",
   "execution_count": 162,
   "metadata": {},
   "outputs": [
    {
     "name": "stdout",
     "output_type": "stream",
     "text": [
      "[1 2 3 4 5 6 7 8]\n",
      "[2 1 5 3 7 4 6 8]\n"
     ]
    }
   ],
   "source": [
    "my_array = np.array([2, 1, 5, 3, 7, 4, 6, 8])\n",
    "print(np.sort(my_array)) # return a copy of a sorted array\n",
    "print(my_array)"
   ]
  },
  {
   "cell_type": "markdown",
   "metadata": {},
   "source": [
    "- Using method `sort()`"
   ]
  },
  {
   "cell_type": "code",
   "execution_count": 163,
   "metadata": {},
   "outputs": [
    {
     "name": "stdout",
     "output_type": "stream",
     "text": [
      "None\n",
      "[1 2 3 4 5 6 7 8]\n"
     ]
    }
   ],
   "source": [
    "my_array = np.array([2, 1, 5, 3, 7, 4, 6, 8])\n",
    "print(my_array.sort()) # return None\n",
    "print(my_array)"
   ]
  },
  {
   "cell_type": "markdown",
   "metadata": {},
   "source": [
    "- Sort with descending order"
   ]
  },
  {
   "cell_type": "code",
   "execution_count": 164,
   "metadata": {},
   "outputs": [
    {
     "name": "stdout",
     "output_type": "stream",
     "text": [
      "[8 7 6 5 4 3 2 1]\n"
     ]
    }
   ],
   "source": [
    "# Sort then reverse\n",
    "my_array = np.array([2, 1, 5, 3, 7, 4, 6, 8])\n",
    "sorted_array = np.sort(my_array)\n",
    "sorted_array = np.flip(sorted_array)\n",
    "\n",
    "print(sorted_array)"
   ]
  },
  {
   "cell_type": "code",
   "execution_count": 165,
   "metadata": {},
   "outputs": [
    {
     "name": "stdout",
     "output_type": "stream",
     "text": [
      "[[1 2 3]\n",
      " [4 5 6]\n",
      " [7 8 9]]\n"
     ]
    }
   ],
   "source": [
    "# Sorting Along a Specific Axis (for Multi-Dimensional Arrays)\n",
    "my_array = np.array(\n",
    "    [\n",
    "        [4, 5, 6],\n",
    "        [1, 2, 3],\n",
    "        [7, 8, 9]\n",
    "    ]\n",
    ")\n",
    "print(np.sort(my_array, axis=0))"
   ]
  },
  {
   "cell_type": "code",
   "execution_count": 166,
   "metadata": {},
   "outputs": [
    {
     "name": "stdout",
     "output_type": "stream",
     "text": [
      "[[4 5 6]\n",
      " [1 2 3]\n",
      " [7 8 9]]\n"
     ]
    }
   ],
   "source": [
    "my_array = np.array(\n",
    "    [\n",
    "        [5, 4, 6],\n",
    "        [3, 2, 1],\n",
    "        [8, 7, 9]\n",
    "    ]\n",
    ")\n",
    "print(np.sort(my_array, axis=1))"
   ]
  },
  {
   "cell_type": "markdown",
   "metadata": {},
   "source": [
    "### 3.5. Numpy axes"
   ]
  },
  {
   "cell_type": "markdown",
   "metadata": {},
   "source": [
    "![Numpy axes](img/numpy-arrays-have-axes_updated_v2.png)"
   ]
  },
  {
   "cell_type": "markdown",
   "metadata": {},
   "source": [
    "It’s very important to understand what the `axis` parameter actually controls for each function."
   ]
  },
  {
   "cell_type": "markdown",
   "metadata": {},
   "source": [
    "- The `axis` in the `np.sum()` controls which axis will be collapsed."
   ]
  },
  {
   "cell_type": "code",
   "execution_count": 144,
   "metadata": {},
   "outputs": [
    {
     "name": "stdout",
     "output_type": "stream",
     "text": [
      "[[0 1 2]\n",
      " [3 4 5]]\n",
      "15\n"
     ]
    }
   ],
   "source": [
    "my_array = np.arange(0,6).reshape(2,3)\n",
    "print(my_array)\n",
    "print(np.sum(my_array))"
   ]
  },
  {
   "cell_type": "markdown",
   "metadata": {},
   "source": [
    "![numpy-axes-np-sum-axis-0](img/numpy-axes-np-sum-axis-0.png)\n",
    "![numpy-axes-np-sum-axis-1](img/numpy-axes-np-sum-axis-1.png)"
   ]
  },
  {
   "cell_type": "code",
   "execution_count": 145,
   "metadata": {},
   "outputs": [
    {
     "name": "stdout",
     "output_type": "stream",
     "text": [
      "axis=0 [3 5 7]\n",
      "axis=1 [ 3 12]\n"
     ]
    }
   ],
   "source": [
    "print(\"axis=0\", np.sum(my_array, axis=0)) # does not sum elements along the rows, but sum elements along the columns to collapse the rows\n",
    "print(\"axis=1\", np.sum(my_array, axis=1)) # does not sum elements along the columns, but sum elements along the rows to collapse the columns"
   ]
  },
  {
   "cell_type": "markdown",
   "metadata": {},
   "source": [
    "- The `axis` parameter in `np.concatenate()` controls which axis we stack the arrays."
   ]
  },
  {
   "cell_type": "code",
   "execution_count": 146,
   "metadata": {},
   "outputs": [
    {
     "name": "stdout",
     "output_type": "stream",
     "text": [
      "arr1\n",
      "[[1 1 1]\n",
      " [1 1 1]]\n",
      "arr2\n",
      "[[9 9 9]\n",
      " [9 9 9]]\n",
      "axis=0\n",
      "[[1 1 1]\n",
      " [1 1 1]\n",
      " [9 9 9]\n",
      " [9 9 9]]\n",
      "axis=1\n",
      "[[1 1 1 9 9 9]\n",
      " [1 1 1 9 9 9]]\n"
     ]
    }
   ],
   "source": [
    "arr1 = np.ones(shape=(2,3), dtype=np.int8)\n",
    "print(\"arr1\")\n",
    "print(arr1)\n",
    "\n",
    "arr2 = np.full(shape=(2,3), fill_value=9, dtype=np.int8)\n",
    "print(\"arr2\")\n",
    "print(arr2)\n",
    "\n",
    "print(\"axis=0\")\n",
    "print(np.concatenate([arr1, arr2], axis=0))\n",
    "\n",
    "print(\"axis=1\")\n",
    "print(np.concatenate([arr1, arr2], axis=1))"
   ]
  },
  {
   "cell_type": "markdown",
   "metadata": {},
   "source": [
    "![explanation_numpy-concatenate-axis-0](img/explanation_numpy-concatenate-axis-0.png)\n",
    "![explanation_numpy-concatenate-axis-1](img/explanation_numpy-concatenate-axis-1.png)"
   ]
  },
  {
   "cell_type": "markdown",
   "metadata": {},
   "source": [
    "- 1D array only has 1 axis\n",
    "![1d-array-has-one-axis](img/1d-array-has-one-axis.webp)"
   ]
  },
  {
   "cell_type": "code",
   "execution_count": 149,
   "metadata": {},
   "outputs": [
    {
     "name": "stdout",
     "output_type": "stream",
     "text": [
      "[1 1 1]\n",
      "[9 9 9]\n",
      "[1 1 1 9 9 9]\n"
     ]
    }
   ],
   "source": [
    "arr1 = np.ones(shape=(3,), dtype=np.int8)\n",
    "print(arr1)\n",
    "\n",
    "arr2 = np.full_like(arr1, fill_value=9, dtype=np.int8)\n",
    "print(arr2)\n",
    "\n",
    "print(np.concatenate([arr1, arr2], axis=0))\n",
    "#print(np.concatenate([arr1, arr2], axis=1)) # AxisError"
   ]
  },
  {
   "cell_type": "code",
   "execution_count": 167,
   "metadata": {},
   "outputs": [
    {
     "name": "stdout",
     "output_type": "stream",
     "text": [
      "[[1 1 1]\n",
      " [9 9 9]]\n"
     ]
    }
   ],
   "source": [
    "# To stack 2 1D arrays vertically\n",
    "print(np.concatenate([arr1, arr2]).reshape(2,3))"
   ]
  },
  {
   "cell_type": "markdown",
   "metadata": {},
   "source": [
    "**EXERCISE**\n",
    "\n",
    "Given an image as a Numpy array of shape (5,5,3), representing image's width and height of 5 pixels and 3 channels: Red, Green, Blue.\n",
    "\n",
    "Write a `preprocess()` function to process image with the following steps:\n",
    "- Check the input image size, if it's not (5,5,3), raise an error.\n",
    "- Make a copy of the input image so that changes won't affect original data.\n",
    "- Crop the copied image to the center so that the final result is 3x3x3 (get center values only)\n",
    "- This image will be fed into a deep learning model, which requires another dimension for batch. Therefore, you need to add 1 dimension to the image so that the final shape is (1,3,3,3)\n",
    "- Return a dictionary contain these following info:\n",
    "    - \"image\": the processed image\n",
    "    - \"shape\": the processed image's shape\n",
    "    - \"dims\" : the string \"multiple\" if the number of dimension is > 1, otherwise, the string \"single\"\n",
    "    - \"n_elements\": number of elements of the processed image"
   ]
  },
  {
   "cell_type": "code",
   "execution_count": 181,
   "metadata": {},
   "outputs": [
    {
     "data": {
      "text/plain": [
       "{'image': array([[[[141.81588957, 175.93305665,  22.88891732],\n",
       "          [ 76.12395857,  97.14545208, 231.64693889],\n",
       "          [182.91956023, 159.3694486 , 187.2138347 ]],\n",
       " \n",
       "         [[ 68.8681462 , 171.90537932, 191.7436356 ],\n",
       "          [182.16003432, 179.71733823,  59.46755411],\n",
       "          [  9.45637775, 229.90334206,  96.91085548]],\n",
       " \n",
       "         [[ 91.93213861,   2.11109295,  49.45026115],\n",
       "          [ 74.52364551,   8.02920989, 177.41942017],\n",
       "          [ 17.37961616, 147.84325519, 189.69493208]]]]),\n",
       " 'shape': (1, 3, 3, 3),\n",
       " 'dims': 'multiple',\n",
       " 'n_elements': 27}"
      ]
     },
     "execution_count": 181,
     "metadata": {},
     "output_type": "execute_result"
    }
   ],
   "source": [
    "# YOUR CODE\n",
    "\n",
    "def preprocess(image):\n",
    "    shape = image.shape\n",
    "    assert shape[0] == 5 and shape[1] == 5 and shape[2] == 3, f\"Invalid shape. Expected (5,5,3). Received {image.shape}\"\n",
    "\n",
    "    img = image.copy()\n",
    "    img = img[1:-1, 1:-1, :]\n",
    "    img = np.expand_dims(img, axis=0)\n",
    "    \n",
    "    return {\n",
    "        \"image\": img,\n",
    "        \"shape\": img.shape,\n",
    "        \"dims\" : \"multiple\" if img.ndim > 1 else \"single\",\n",
    "        \"n_elements\": img.size\n",
    "    }\n",
    "\n",
    "image = np.random.random(size=(5,5,3)) * 255\n",
    "preprocess(image)"
   ]
  },
  {
   "cell_type": "markdown",
   "metadata": {},
   "source": [
    "## 4. Basic array operations"
   ]
  },
  {
   "cell_type": "markdown",
   "metadata": {},
   "source": [
    "### 4.1. Add, subtract, multiply, divide"
   ]
  },
  {
   "cell_type": "markdown",
   "metadata": {},
   "source": [
    "![np_array_dataones](img/np_array_dataones.png)\n",
    "![np_data_plus_ones](img/np_data_plus_ones.png)\n",
    "![np_sub_mult_divide](img/np_sub_mult_divide.png)"
   ]
  },
  {
   "cell_type": "markdown",
   "metadata": {},
   "source": [
    "### 4.2. Maximum, minimum, sum, mean, product, standard deviation"
   ]
  },
  {
   "cell_type": "markdown",
   "metadata": {},
   "source": [
    "![np_aggregation](img/np_aggregation.png)"
   ]
  },
  {
   "cell_type": "code",
   "execution_count": 187,
   "metadata": {},
   "outputs": [
    {
     "data": {
      "text/plain": [
       "array([3, 6])"
      ]
     },
     "execution_count": 187,
     "metadata": {},
     "output_type": "execute_result"
    }
   ],
   "source": [
    "my_array = np.array([\n",
    "    [1,2,3],\n",
    "    [4,5,6]\n",
    "])\n",
    "my_array.max(axis=1)"
   ]
  },
  {
   "cell_type": "markdown",
   "metadata": {},
   "source": [
    "[More operations here](https://numpy.org/doc/stable/reference/routines.math.html)"
   ]
  },
  {
   "cell_type": "markdown",
   "metadata": {},
   "source": [
    "**EXERCISE**"
   ]
  },
  {
   "cell_type": "markdown",
   "metadata": {},
   "source": [
    "1. Create a 1D array and sum all its elements, then find the max, min values.\n",
    "\n",
    "2. Create a 2D array and sum all elements, find the max, min values along rows.\n",
    "\n",
    "3. Create a 2D array and sum all elements, find the max, min, values along columns.\n",
    "\n",
    "4. Write a NumPy program to create a 3x3 matrix with values ranging from 2 to 10.\n",
    "\n",
    "```\n",
    "Expected Output:\n",
    "[[ 2 3 4]\n",
    "[ 5 6 7]\n",
    "[ 8 9 10]]\n",
    "```\n",
    "\n",
    "5. Write a NumPy program to reverse an array (the first element becomes the last).\n",
    "```\n",
    "Original array:\n",
    "[12 13 14 15 16 17 18 19 20 21 22 23 24 25 26 27 28 29 30 31 32 33 34 35 36 37]\n",
    "Reverse array:\n",
    "[37 36 35 34 33 32 31 30 29 28 27 26 25 24 23 22 21 20 19 18 17 16 15 14 13 12]\n",
    "```\n",
    "\n"
   ]
  },
  {
   "cell_type": "markdown",
   "metadata": {},
   "source": [
    "### 4.2. Working with mathematical formulas"
   ]
  },
  {
   "cell_type": "markdown",
   "metadata": {},
   "source": [
    "## 5. Broadcasting"
   ]
  },
  {
   "cell_type": "markdown",
   "metadata": {},
   "source": [
    "## 6. Save and load Numpy objects"
   ]
  },
  {
   "cell_type": "markdown",
   "metadata": {},
   "source": [
    "# REFERENCES\n",
    "\n",
    "1. [Numpy Tutorials for Beginners](https://www.kaggle.com/code/orhansertkaya/numpy-tutorial-for-beginners)\n",
    "2. [Numpy Docs](https://numpy.org/doc/stable/user/absolute_beginners.html#)\n",
    "3. [Numpy Axes Explained](https://www.sharpsightlabs.com/blog/numpy-axes-explained/)"
   ]
  },
  {
   "cell_type": "markdown",
   "metadata": {},
   "source": []
  }
 ],
 "metadata": {
  "kernelspec": {
   "display_name": "Python 3",
   "language": "python",
   "name": "python3"
  },
  "language_info": {
   "codemirror_mode": {
    "name": "ipython",
    "version": 3
   },
   "file_extension": ".py",
   "mimetype": "text/x-python",
   "name": "python",
   "nbconvert_exporter": "python",
   "pygments_lexer": "ipython3",
   "version": "3.9.6"
  }
 },
 "nbformat": 4,
 "nbformat_minor": 2
}
