{
 "cells": [
  {
   "cell_type": "markdown",
   "metadata": {},
   "source": [
    "# Numpy"
   ]
  },
  {
   "cell_type": "markdown",
   "metadata": {},
   "source": [
    "**NumPy** is a popular Python library for numerical and scientific computing, and it provides a powerful data structure called a NumPy array (also known as `ndarray`) for efficiently working with large datasets of homogeneous data types, such as numbers (integers or floats). "
   ]
  },
  {
   "cell_type": "code",
   "execution_count": 2,
   "metadata": {},
   "outputs": [],
   "source": [
    "import numpy as np"
   ]
  },
  {
   "cell_type": "markdown",
   "metadata": {},
   "source": [
    "## 1. Introduction of Numpy array"
   ]
  },
  {
   "cell_type": "markdown",
   "metadata": {},
   "source": [
    "### 1.1. What is an array?"
   ]
  },
  {
   "cell_type": "markdown",
   "metadata": {},
   "source": [
    "### 1.2. Why Numpy array?"
   ]
  },
  {
   "cell_type": "markdown",
   "metadata": {},
   "source": [
    "NumPy arrays and Python lists are both used to store collections of data, but they have significant differences in terms of functionality and performance.\n",
    "\n",
    "**NumPy Array:**\n",
    "\n",
    "1. **Homogeneous Data Type:** NumPy arrays are designed to work with homogeneous data types, which means all elements in the array are of the same data type (e.g., integers, floats). This leads to more efficient memory usage and better performance.\n",
    "\n",
    "2. **Vectorized Operations:** NumPy provides a wide range of mathematical and logical functions that can be applied element-wise to entire arrays, allowing for efficient and concise code for numerical computations. This is known as vectorization.\n",
    "\n",
    "3. **Performance:** NumPy operations are implemented in C and are highly optimized, making them significantly faster than equivalent operations on Python lists, especially for large datasets.\n",
    "\n",
    "4. **Memory Efficiency:** NumPy arrays are more memory-efficient than Python lists because they don't need to store type information for each element.\n",
    "\n",
    "5. **Multidimensional Arrays:** NumPy supports multidimensional arrays (e.g., matrices), making it well-suited for mathematical and scientific applications.\n",
    "\n",
    "6. **Broadcasting:** NumPy allows you to perform operations on arrays of different shapes through broadcasting, which simplifies many array operations.\n",
    "\n",
    "**Python List:**\n",
    "\n",
    "1. **Heterogeneous Data Type:** Python lists can contain elements of different data types, which provides flexibility but can lead to performance issues for numerical computations.\n",
    "\n",
    "2. **No Built-in Mathematical Operations:** Python lists don't offer built-in mathematical or array operations. You need to loop through lists to perform operations on individual elements, which can be slower and less concise.\n",
    "\n",
    "3. **Performance:** Python lists are generally slower than NumPy arrays, especially for large datasets and numerical operations.\n",
    "\n",
    "4. **Memory Overhead:** Python lists have higher memory overhead due to the need to store type information for each element.\n",
    "\n",
    "5. **Single-Dimensional:** Lists in Python are primarily single-dimensional. To work with multidimensional data, you'd need to use nested lists, which can become complex to manage.\n",
    "\n",
    "**Why Use NumPy Arrays:**\n",
    "\n",
    "NumPy arrays are preferred for several reasons:\n",
    "\n",
    "1. **Performance:** NumPy operations are highly optimized and execute much faster than equivalent Python list operations, making it the go-to choice for numerical computations and data manipulation.\n",
    "\n",
    "2. **Memory Efficiency:** NumPy arrays are more memory-efficient, especially for large datasets, due to their homogeneous data type and reduced type information overhead.\n",
    "\n",
    "3. **Ease of Use:** NumPy provides a rich set of functions for array manipulation, statistical analysis, and linear algebra, making it easier to work with data.\n",
    "\n",
    "4. **Compatibility:** NumPy arrays can be seamlessly integrated with other libraries and tools commonly used in scientific computing and data analysis, such as SciPy, pandas, and scikit-learn."
   ]
  },
  {
   "cell_type": "code",
   "execution_count": 1,
   "metadata": {},
   "outputs": [],
   "source": [
    "import numpy as np"
   ]
  },
  {
   "cell_type": "code",
   "execution_count": 2,
   "metadata": {},
   "outputs": [],
   "source": [
    "# my_arr = np.arange(1_000_000)\n",
    "# my_list = list(range(1_000_000))\n",
    "\n",
    "# print(\"Numpy Array:\")\n",
    "# %timeit my_arr2 = my_arr * 2\n",
    "\n",
    "# print(\"List:\")\n",
    "# %timeit my_list2 = [x * 2 for x in my_list]"
   ]
  },
  {
   "cell_type": "markdown",
   "metadata": {},
   "source": [
    "### 1.3. Array creation"
   ]
  },
  {
   "cell_type": "markdown",
   "metadata": {},
   "source": [
    "- Basic creation"
   ]
  },
  {
   "cell_type": "code",
   "execution_count": 40,
   "metadata": {},
   "outputs": [
    {
     "name": "stdout",
     "output_type": "stream",
     "text": [
      "[1 2 3 4]\n",
      "4\n",
      "1 4\n",
      "int64\n"
     ]
    }
   ],
   "source": [
    "my_array = np.array((1,2,3,4))\n",
    "\n",
    "print(my_array)\n",
    "print(len(my_array))\n",
    "print(my_array[0], my_array[-1])\n",
    "print(my_array.dtype)"
   ]
  },
  {
   "cell_type": "markdown",
   "metadata": {},
   "source": [
    "- Create an array with `dtype` specified"
   ]
  },
  {
   "cell_type": "code",
   "execution_count": 67,
   "metadata": {},
   "outputs": [
    {
     "name": "stdout",
     "output_type": "stream",
     "text": [
      "[1 2 3 4]\n",
      "int8\n"
     ]
    }
   ],
   "source": [
    "my_array = np.array((1,2,3,4), dtype=np.int8)\n",
    "\n",
    "print(my_array)\n",
    "print(my_array.dtype)"
   ]
  },
  {
   "cell_type": "code",
   "execution_count": 68,
   "metadata": {},
   "outputs": [
    {
     "name": "stdout",
     "output_type": "stream",
     "text": [
      "[1 2 3 4]\n",
      "int8\n"
     ]
    }
   ],
   "source": [
    "my_array = np.array((1,2,3,4)).astype(np.int8)\n",
    "\n",
    "print(my_array)\n",
    "print(my_array.dtype)"
   ]
  },
  {
   "cell_type": "code",
   "execution_count": null,
   "metadata": {},
   "outputs": [],
   "source": [
    "# What if there are different types of data?\n",
    "my_array = np.array((1,2,3,\"4\"))\n",
    "\n",
    "print(my_array)\n",
    "print(my_array.dtype)"
   ]
  },
  {
   "cell_type": "markdown",
   "metadata": {},
   "source": [
    "- Create arrays and fill with values"
   ]
  },
  {
   "cell_type": "code",
   "execution_count": 75,
   "metadata": {},
   "outputs": [
    {
     "name": "stdout",
     "output_type": "stream",
     "text": [
      "my_array\n",
      "[[0. 0. 0.]\n",
      " [0. 0. 0.]]\n",
      "float64\n",
      "2\n",
      "\n",
      "my_array2\n",
      "[[0 0 0]\n",
      " [0 0 0]]\n",
      "int8\n",
      "2\n"
     ]
    }
   ],
   "source": [
    "# Fill with zeros\n",
    "my_array = np.zeros((2,3))\n",
    "print(\"my_array\")\n",
    "print(my_array)\n",
    "print(my_array.dtype)\n",
    "print(len(my_array))\n",
    "print(\"\")\n",
    "\n",
    "print(\"my_array2\")\n",
    "my_array2 = np.zeros_like(my_array).astype(np.int8)\n",
    "print(my_array2)\n",
    "print(my_array2.dtype)\n",
    "print(len(my_array2))"
   ]
  },
  {
   "cell_type": "code",
   "execution_count": 48,
   "metadata": {},
   "outputs": [
    {
     "name": "stdout",
     "output_type": "stream",
     "text": [
      "my_array\n",
      "[[0. 0. 0.]\n",
      " [0. 0. 0.]]\n",
      "float64\n",
      "2\n",
      "\n",
      "my_array2\n",
      "[[0 0 0]\n",
      " [0 0 0]]\n",
      "int8\n",
      "2\n"
     ]
    }
   ],
   "source": [
    "# Create a length-10 integer array filled with zeros/ones\n",
    "my_array = np.zeros((2,3))\n",
    "print(\"my_array\")\n",
    "print(my_array)\n",
    "print(my_array.dtype)\n",
    "print(len(my_array))\n",
    "print(\"\")\n",
    "\n",
    "print(\"my_array2\")\n",
    "my_array2 = np.zeros_like(my_array).astype(np.int8)\n",
    "print(my_array2)\n",
    "print(my_array2.dtype)\n",
    "print(len(my_array2))"
   ]
  },
  {
   "cell_type": "code",
   "execution_count": 79,
   "metadata": {},
   "outputs": [
    {
     "name": "stdout",
     "output_type": "stream",
     "text": [
      "my_array\n",
      "[[1 1 1]\n",
      " [1 1 1]]\n",
      "int8\n",
      "2\n",
      "\n",
      "my_array2\n",
      "[[1 1 1]\n",
      " [1 1 1]]\n",
      "int8\n",
      "2\n"
     ]
    }
   ],
   "source": [
    "# Fill with ones\n",
    "my_array = np.ones((2,3), dtype=np.int8)\n",
    "print(\"my_array\")\n",
    "print(my_array)\n",
    "print(my_array.dtype)\n",
    "print(len(my_array))\n",
    "print(\"\")\n",
    "\n",
    "print(\"my_array2\")\n",
    "my_array2 = np.ones_like(my_array)\n",
    "print(my_array2)\n",
    "print(my_array2.dtype)\n",
    "print(len(my_array2))"
   ]
  },
  {
   "cell_type": "code",
   "execution_count": 81,
   "metadata": {},
   "outputs": [
    {
     "name": "stdout",
     "output_type": "stream",
     "text": [
      "my_array\n",
      "[[3.14 3.14 3.14 3.14 3.14]\n",
      " [3.14 3.14 3.14 3.14 3.14]\n",
      " [3.14 3.14 3.14 3.14 3.14]]\n",
      "float16\n",
      "\n",
      "[[1.43 1.43 1.43 1.43 1.43]\n",
      " [1.43 1.43 1.43 1.43 1.43]\n",
      " [1.43 1.43 1.43 1.43 1.43]]\n",
      "float32\n"
     ]
    }
   ],
   "source": [
    "# Fill with custom values\n",
    "my_array = np.full(shape=(3,5), fill_value=3.14, dtype=np.float16)\n",
    "print(\"my_array\")\n",
    "print(my_array)\n",
    "print(my_array.dtype)\n",
    "print(\"\")\n",
    "\n",
    "my_array2 = np.full_like(my_array, fill_value=1.43, dtype=np.float32)\n",
    "\n",
    "print(my_array2)\n",
    "print(my_array2.dtype)"
   ]
  },
  {
   "cell_type": "markdown",
   "metadata": {},
   "source": [
    "- Create arrays from a sequence"
   ]
  },
  {
   "cell_type": "code",
   "execution_count": 62,
   "metadata": {},
   "outputs": [
    {
     "data": {
      "text/plain": [
       "array([ 6,  8, 10, 12, 14, 16, 18, 20, 22, 24, 26, 28, 30, 32, 34, 36, 38,\n",
       "       40, 42, 44, 46, 48])"
      ]
     },
     "execution_count": 62,
     "metadata": {},
     "output_type": "execute_result"
    }
   ],
   "source": [
    "# Create an array filled with a linear sequence\n",
    "# starting at 6, ending at 49, stepping by 2\n",
    "# (this is similar to the built-in range() function)\n",
    "np.arange(start=6, stop=49, step=2)"
   ]
  },
  {
   "cell_type": "code",
   "execution_count": 68,
   "metadata": {},
   "outputs": [
    {
     "data": {
      "text/plain": [
       "array([0.  , 0.25, 0.5 , 0.75, 1.  ])"
      ]
     },
     "execution_count": 68,
     "metadata": {},
     "output_type": "execute_result"
    }
   ],
   "source": [
    "# Create an array of five values evenly spaced between 0 and 1\n",
    "np.linspace(start=0, stop=1, num=5)"
   ]
  },
  {
   "cell_type": "markdown",
   "metadata": {},
   "source": [
    "- Create arrays and fill with random values"
   ]
  },
  {
   "cell_type": "code",
   "execution_count": 69,
   "metadata": {},
   "outputs": [
    {
     "data": {
      "text/plain": [
       "array([[0.54337399, 0.32565343, 0.35132041, 0.11632928, 0.35698877],\n",
       "       [0.79309259, 0.92201378, 0.32205559, 0.98577183, 0.80330925],\n",
       "       [0.02131701, 0.67137621, 0.8046282 , 0.9521124 , 0.5912549 ],\n",
       "       [0.84096224, 0.10606364, 0.46810519, 0.57244306, 0.04096793],\n",
       "       [0.56357265, 0.58824902, 0.108279  , 0.51043418, 0.19991913]])"
      ]
     },
     "execution_count": 69,
     "metadata": {},
     "output_type": "execute_result"
    }
   ],
   "source": [
    "# Create a 5x5 array of uniformly distributed random values between 0 and 1\n",
    "np.random.random(size=(5,5))"
   ]
  },
  {
   "cell_type": "code",
   "execution_count": 71,
   "metadata": {},
   "outputs": [
    {
     "data": {
      "text/plain": [
       "array([[-0.53960645, -0.08684316, -0.57437871],\n",
       "       [ 0.33624937,  1.35577538,  0.32775231],\n",
       "       [-0.96209089,  0.60275417,  0.60107183]])"
      ]
     },
     "execution_count": 71,
     "metadata": {},
     "output_type": "execute_result"
    }
   ],
   "source": [
    "# Create a 3x3 array of normally distributed random values\n",
    "# with mean 0 and standard deviation 1\n",
    "\n",
    "np.random.normal(loc=0.0, scale=1.0, size=(3,3))"
   ]
  },
  {
   "cell_type": "markdown",
   "metadata": {},
   "source": [
    "## 2. Attributes of arrays"
   ]
  },
  {
   "cell_type": "markdown",
   "metadata": {},
   "source": [
    "### 2.1. Size, shape, memory consumption, and data types of arrays"
   ]
  },
  {
   "cell_type": "markdown",
   "metadata": {},
   "source": [
    "- The `shape` attribute is a tuple that describes the dimensions of the array. For a 1D array, it's a tuple with a single element representing the number of elements. For a 2D array, it's a tuple with two elements representing the number of rows and columns, and so on.\n",
    "- The `dtype` attribute specifies the data type of the elements in the array, such as int64, float32, etc.\n",
    "- The `ndim` attribute indicates the number of dimensions (axes) in the array.\n",
    "- The `size` attribute represents the total number of elements in the array.\n",
    "- The `itemsize` attribute specifies the size (in bytes) of each element in the array.\n",
    "- The `nbytes` attribute returns the total number of bytes used by the array's data."
   ]
  },
  {
   "cell_type": "code",
   "execution_count": 22,
   "metadata": {},
   "outputs": [
    {
     "name": "stdout",
     "output_type": "stream",
     "text": [
      "Shape of array: (2, 3, 2)\n",
      "Type of elements: int8\n",
      "Number of dimentions: 3\n",
      "Number of elements: 12\n",
      "Item's size: 1\n",
      "Total number of bytes used by my_array: 12\n"
     ]
    }
   ],
   "source": [
    "my_array = np.array(\n",
    "    [\n",
    "        [[1,2], [2,3], [3,4]],\n",
    "        [[4,5], [5,6], [6,7]]\n",
    "    ],\n",
    "    dtype=np.int8\n",
    ")\n",
    "print(f\"Shape of array: {my_array.shape}\")\n",
    "print(f\"Type of elements: {my_array.dtype}\")\n",
    "print(f\"Number of dimentions: {my_array.ndim}\")\n",
    "print(f\"Number of elements: {my_array.size}\") \n",
    "print(f\"Item's size: {my_array.itemsize}\")\n",
    "print(f\"Total number of bytes used by my_array: {my_array.nbytes}\")"
   ]
  },
  {
   "cell_type": "markdown",
   "metadata": {},
   "source": [
    "### 2.2. Indexing & Slicing"
   ]
  },
  {
   "cell_type": "markdown",
   "metadata": {},
   "source": [
    "- 1D array: similar to List indexing and slicing"
   ]
  },
  {
   "cell_type": "code",
   "execution_count": 28,
   "metadata": {},
   "outputs": [
    {
     "name": "stdout",
     "output_type": "stream",
     "text": [
      "7\n",
      "8\n",
      "[5 6 7]\n",
      "[6 7 8]\n",
      "[5 7]\n"
     ]
    }
   ],
   "source": [
    "my_array = np.array([5,6,7,8])\n",
    "print(my_array[2])\n",
    "print(my_array[-1])\n",
    "print(my_array[:3])\n",
    "print(my_array[1:])\n",
    "print(my_array[::2])"
   ]
  },
  {
   "cell_type": "markdown",
   "metadata": {},
   "source": [
    "- 2D array: using a comma-separated tuple of indices"
   ]
  },
  {
   "cell_type": "code",
   "execution_count": 42,
   "metadata": {},
   "outputs": [
    {
     "name": "stdout",
     "output_type": "stream",
     "text": [
      "(3, 4)\n",
      "3\n",
      "99\n"
     ]
    }
   ],
   "source": [
    "my_array = np.array(\n",
    "    [\n",
    "# column 0  1  2  3\n",
    "        [3, 5, 2, 4], # row 0\n",
    "        [7, 6, 8, 8], # row 1\n",
    "        [1, 6, 7, 99] # row 2\n",
    "    ]\n",
    ")\n",
    "\n",
    "print(my_array.shape)\n",
    "print(my_array[0,0])\n",
    "print(my_array[-1,-1])"
   ]
  },
  {
   "cell_type": "code",
   "execution_count": 43,
   "metadata": {},
   "outputs": [
    {
     "name": "stdout",
     "output_type": "stream",
     "text": [
      "[4 8]\n",
      "[[ 5  4]\n",
      " [ 6 99]]\n"
     ]
    }
   ],
   "source": [
    "my_array = np.array(\n",
    "    [\n",
    "    # cl 0  1  2  3\n",
    "        [3, 5, 2, 4], # row 0\n",
    "        [7, 6, 8, 8], # row 1\n",
    "        [1, 6, 7, 99] # row 2\n",
    "    ]\n",
    ")\n",
    "\n",
    "# Get values from the first 2 rows last column\n",
    "print(my_array[:2, -1])\n",
    "\n",
    "# Get values of every even rows and odd column\n",
    "print(my_array[::2, 1::2])"
   ]
  },
  {
   "cell_type": "markdown",
   "metadata": {},
   "source": [
    "- Modify values using index notation"
   ]
  },
  {
   "cell_type": "code",
   "execution_count": 35,
   "metadata": {},
   "outputs": [
    {
     "name": "stdout",
     "output_type": "stream",
     "text": [
      "[[100   5   2   4]\n",
      " [  7   6   8   8]\n",
      " [  1   6   7  99]]\n"
     ]
    }
   ],
   "source": [
    "my_array = np.array(\n",
    "    [\n",
    "        [3, 5, 2, 4],\n",
    "        [7, 6, 8, 8],\n",
    "        [1, 6, 7, 99]\n",
    "    ]\n",
    ")\n",
    "my_array[0,0] = 100\n",
    "\n",
    "print(my_array)"
   ]
  },
  {
   "cell_type": "markdown",
   "metadata": {},
   "source": [
    "**EXERCISE**\n",
    "\n",
    "1. Create these following matrices using Numpy arrays, be careful with the data type.\n",
    "\n",
    "a. \n",
    "```python\n",
    "[\n",
    "    [0, 0, 0, 0, 0],\n",
    "    [0, 0, 0, 0, 0],\n",
    "    [0, 0, 1, 0, 0],\n",
    "    [0, 0, 0, 0, 0],\n",
    "    [0, 0, 0, 0, 0]\n",
    "]\n",
    "```\n",
    "\n",
    "b.\n",
    "```python\n",
    "[\n",
    "    [1, 1, 1, 1, 1],\n",
    "    [0, 0, 0, 0, 0],\n",
    "    [1, 1, 1, 1, 1],\n",
    "    [0, 0, 0, 0, 0],\n",
    "    [1, 1, 1, 1, 1]\n",
    "]\n",
    "```\n",
    "\n",
    "c.\n",
    "```python\n",
    "[\n",
    "    [1, 0, 1, 0, 1],\n",
    "    [0, 0, 0, 0, 0],\n",
    "    [1, 0, 1, 0, 1],\n",
    "    [0, 0, 0, 0, 0],\n",
    "    [1, 0, 1, 0, 1]\n",
    "]\n",
    "```\n",
    "\n",
    "2. Get all number 9 from these following arrays\n",
    "\n",
    "a.\n",
    "```python\n",
    "[\n",
    "    [1., 1., 1.],\n",
    "    [1., 9., 1.],\n",
    "    [1., 1., 1.]\n",
    "]\n",
    "```\n",
    "\n",
    "b.\n",
    "```python\n",
    "[\n",
    "    [1., 1., 1., 1.],\n",
    "    [1., 1., 1., 1.],\n",
    "    [9., 9., 9., 1.],\n",
    "    [9., 9., 9., 1.]\n",
    "]\n",
    "```\n",
    "\n",
    "c.\n",
    "```python\n",
    "[\n",
    "    [1., 1., 1., 1., 1., 1.],\n",
    "    [1., 1., 1., 1., 1., 1.],\n",
    "    [1., 1., 9., 9., 1., 1.],\n",
    "    [1., 1., 9., 9., 1., 1.],\n",
    "    [1., 1., 1., 1., 1., 1.],\n",
    "    [1., 1., 1., 1., 1., 1.]\n",
    "]\n",
    "```"
   ]
  },
  {
   "cell_type": "markdown",
   "metadata": {},
   "source": [
    "## 3. Array manipulations"
   ]
  },
  {
   "cell_type": "markdown",
   "metadata": {},
   "source": [
    "### 3.1. Reshape an array"
   ]
  },
  {
   "cell_type": "markdown",
   "metadata": {},
   "source": [
    "### 3.2. 1D array to 2D array"
   ]
  },
  {
   "cell_type": "markdown",
   "metadata": {},
   "source": [
    "### 3.3. Adding, removing, and sorting elements"
   ]
  },
  {
   "cell_type": "markdown",
   "metadata": {},
   "source": [
    "### 3.4. Reverse an array"
   ]
  },
  {
   "cell_type": "markdown",
   "metadata": {},
   "source": [
    "### 3.5. Transposing and reshape a matrix"
   ]
  },
  {
   "cell_type": "markdown",
   "metadata": {},
   "source": [
    "### 3.6. Reshape and flattening multidimentional array"
   ]
  },
  {
   "cell_type": "markdown",
   "metadata": {},
   "source": [
    "## 4. Basic array operations"
   ]
  },
  {
   "cell_type": "markdown",
   "metadata": {},
   "source": [
    "### 4.1. "
   ]
  },
  {
   "cell_type": "markdown",
   "metadata": {},
   "source": [
    "### 4.2. Working with mathematical formulas"
   ]
  },
  {
   "cell_type": "markdown",
   "metadata": {},
   "source": [
    "## 5. Broadcasting"
   ]
  },
  {
   "cell_type": "markdown",
   "metadata": {},
   "source": [
    "## 6. Save and load Numpy objects"
   ]
  },
  {
   "cell_type": "code",
   "execution_count": 11,
   "metadata": {},
   "outputs": [
    {
     "data": {
      "text/plain": [
       "(array([1, 2, 3, 4], dtype=int32), dtype('int32'))"
      ]
     },
     "execution_count": 11,
     "metadata": {},
     "output_type": "execute_result"
    }
   ],
   "source": [
    "a = np.array([1,2,3, \"4\"], dtype=np.int32)\n",
    "a, a.dtype"
   ]
  },
  {
   "cell_type": "code",
   "execution_count": 9,
   "metadata": {},
   "outputs": [
    {
     "data": {
      "text/plain": [
       "numpy.int32"
      ]
     },
     "execution_count": 9,
     "metadata": {},
     "output_type": "execute_result"
    }
   ],
   "source": [
    "type(a[0])"
   ]
  },
  {
   "cell_type": "markdown",
   "metadata": {},
   "source": [
    "### **EXCERCIE**"
   ]
  },
  {
   "cell_type": "code",
   "execution_count": null,
   "metadata": {},
   "outputs": [],
   "source": []
  },
  {
   "cell_type": "markdown",
   "metadata": {},
   "source": [
    "# REFERENCES\n",
    "\n",
    "1. [Numpy Tutorials for Beginners](https://www.kaggle.com/code/orhansertkaya/numpy-tutorial-for-beginners)\n",
    "2. [Numpy Docs](https://numpy.org/doc/stable/user/absolute_beginners.html#)"
   ]
  },
  {
   "cell_type": "markdown",
   "metadata": {},
   "source": []
  }
 ],
 "metadata": {
  "kernelspec": {
   "display_name": "Python 3",
   "language": "python",
   "name": "python3"
  },
  "language_info": {
   "codemirror_mode": {
    "name": "ipython",
    "version": 3
   },
   "file_extension": ".py",
   "mimetype": "text/x-python",
   "name": "python",
   "nbconvert_exporter": "python",
   "pygments_lexer": "ipython3",
   "version": "3.9.6"
  }
 },
 "nbformat": 4,
 "nbformat_minor": 2
}
