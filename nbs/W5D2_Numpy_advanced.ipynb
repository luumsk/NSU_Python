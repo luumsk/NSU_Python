{
 "cells": [
  {
   "cell_type": "markdown",
   "metadata": {},
   "source": [
    "# Advanced Numpy"
   ]
  },
  {
   "cell_type": "code",
   "execution_count": 2,
   "metadata": {},
   "outputs": [],
   "source": [
    "import numpy as np"
   ]
  },
  {
   "cell_type": "markdown",
   "metadata": {},
   "source": [
    "## 1. Universal functions"
   ]
  },
  {
   "cell_type": "markdown",
   "metadata": {},
   "source": [
    "- Python is a dynamically-typed language, which means the data type is not explicitly declared when creating a variable.\n",
    "\n",
    "```C\n",
    "/* C code */\n",
    "int result = 0;\n",
    "for(int i=0; i<100; i++){\n",
    "    result += i;\n",
    "}\n",
    "```\n",
    "\n",
    "```python\n",
    "# Python code\n",
    "result = 0\n",
    "for i in range(100):\n",
    "    result += i\n",
    "```\n",
    "\n",
    "- With this mechanism, we can assign any type of data into a variable in Python. Therefore, a Python object contains more information than just the label to the position in memory.\n",
    "\n",
    "![cint_vs_pyint](img/cint_vs_pyint.png)\n",
    "\n",
    "- Python list can contains elements of different types, so each element must hold its own data type and other information, so they are different objects and are stored in non-contiguous block of memory.\n",
    "\n",
    "![array_vs_list](img/array_vs_list.png)\n",
    "\n",
    "- **Vectorized operation** is performing an operation on the array, which will then be applied to each element."
   ]
  },
  {
   "cell_type": "markdown",
   "metadata": {},
   "source": [
    "### What are universal functions?\n",
    "\n",
    "- **Universal Functions (ufuncs)** in NumPy are functions that operate element-wise on arrays, meaning they perform an operation on each element of an array, producing an output array with the same shape. Ufuncs are designed for efficient and vectorized operations, which are much faster than using Python loops to perform the same computations.\n",
    "- **unary ufuncs** operate on a single input, and **binary ufuncs** operate on two inputs."
   ]
  },
  {
   "cell_type": "code",
   "execution_count": 3,
   "metadata": {},
   "outputs": [
    {
     "name": "stdout",
     "output_type": "stream",
     "text": [
      "x     = [0 1 2 3]\n",
      "x + 5 = [5 6 7 8]\n",
      "x - 5 = [-5 -4 -3 -2]\n",
      "x * 2 = [0 2 4 6]\n",
      "x / 2 = [0.  0.5 1.  1.5]\n",
      "x // 2 = [0 0 1 1]\n"
     ]
    }
   ],
   "source": [
    "# Binary ufuncs\n",
    "\n",
    "x = np.arange(4)\n",
    "print(\"x     =\", x)\n",
    "print(\"x + 5 =\", x + 5)    # np.add(x, 5)\n",
    "print(\"x - 5 =\", x - 5)    # np.subtract(x, 5)\n",
    "print(\"x * 2 =\", x * 2)    # np.multiply(x, 2)\n",
    "print(\"x / 2 =\", x / 2)    # np.divide(x, 2)\n",
    "print(\"x // 2 =\", x // 2)  # np.floor_divide(x, 2)"
   ]
  },
  {
   "cell_type": "code",
   "execution_count": 4,
   "metadata": {},
   "outputs": [
    {
     "name": "stdout",
     "output_type": "stream",
     "text": [
      "-x     =  [ 0 -1 -2 -3]\n",
      "x ** 2 =  [0 1 4 9]\n",
      "x % 2  =  [0 1 0 1]\n"
     ]
    }
   ],
   "source": [
    "# Unary ufuncs\n",
    "\n",
    "print(\"-x     = \", -x)     # np.negative(x)\n",
    "print(\"x ** 2 = \", x ** 2) # np.power(x)\n",
    "print(\"x % 2  = \", x % 2)  # np.mod(x)"
   ]
  },
  {
   "cell_type": "code",
   "execution_count": 6,
   "metadata": {},
   "outputs": [
    {
     "name": "stdout",
     "output_type": "stream",
     "text": [
      "[1 2 3]\n",
      "[1 2 3]\n"
     ]
    }
   ],
   "source": [
    "# Absolute\n",
    "x = np.array((-1,-2,3))\n",
    "print(np.absolute(x))\n",
    "print(np.abs(x))"
   ]
  },
  {
   "cell_type": "code",
   "execution_count": 7,
   "metadata": {},
   "outputs": [
    {
     "name": "stdout",
     "output_type": "stream",
     "text": [
      "theta      =  [0.         1.57079633 3.14159265]\n",
      "sin(theta) =  [0.0000000e+00 1.0000000e+00 1.2246468e-16]\n",
      "cos(theta) =  [ 1.000000e+00  6.123234e-17 -1.000000e+00]\n",
      "tan(theta) =  [ 0.00000000e+00  1.63312394e+16 -1.22464680e-16]\n",
      "x         =  [-1, 0, 1]\n",
      "arcsin(x) =  [-1.57079633  0.          1.57079633]\n",
      "arccos(x) =  [3.14159265 1.57079633 0.        ]\n",
      "arctan(x) =  [-0.78539816  0.          0.78539816]\n"
     ]
    }
   ],
   "source": [
    "# Trigonometric functions\n",
    "\n",
    "theta = np.linspace(0, np.pi, 3)\n",
    "\n",
    "print(\"theta      = \", theta)\n",
    "print(\"sin(theta) = \", np.sin(theta))\n",
    "print(\"cos(theta) = \", np.cos(theta))\n",
    "print(\"tan(theta) = \", np.tan(theta))\n",
    "\n",
    "x = [-1, 0, 1]\n",
    "print(\"x         = \", x)\n",
    "print(\"arcsin(x) = \", np.arcsin(x))\n",
    "print(\"arccos(x) = \", np.arccos(x))\n",
    "print(\"arctan(x) = \", np.arctan(x))"
   ]
  },
  {
   "cell_type": "code",
   "execution_count": 8,
   "metadata": {},
   "outputs": [
    {
     "name": "stdout",
     "output_type": "stream",
     "text": [
      "x     = [1, 2, 3]\n",
      "e^x   = [ 2.71828183  7.3890561  20.08553692]\n",
      "2^x   = [2. 4. 8.]\n",
      "3^x   = [ 3  9 27]\n"
     ]
    }
   ],
   "source": [
    "# Exponential\n",
    "x = [1, 2, 3]\n",
    "print(\"x     =\", x)\n",
    "print(\"e^x   =\", np.exp(x))\n",
    "print(\"2^x   =\", np.exp2(x))\n",
    "print(\"3^x   =\", np.power(3, x))"
   ]
  },
  {
   "cell_type": "code",
   "execution_count": 9,
   "metadata": {},
   "outputs": [
    {
     "name": "stdout",
     "output_type": "stream",
     "text": [
      "x        = [1, 2, 4, 10]\n",
      "ln(x)    = [0.         0.69314718 1.38629436 2.30258509]\n",
      "log2(x)  = [0.         1.         2.         3.32192809]\n",
      "log10(x) = [0.         0.30103    0.60205999 1.        ]\n"
     ]
    }
   ],
   "source": [
    "# Logarithm\n",
    "\n",
    "x = [1, 2, 4, 10]\n",
    "print(\"x        =\", x)\n",
    "print(\"ln(x)    =\", np.log(x))\n",
    "print(\"log2(x)  =\", np.log2(x))\n",
    "print(\"log10(x) =\", np.log10(x))"
   ]
  },
  {
   "cell_type": "code",
   "execution_count": 11,
   "metadata": {},
   "outputs": [
    {
     "data": {
      "text/plain": [
       "array([3, 5, 7])"
      ]
     },
     "execution_count": 11,
     "metadata": {},
     "output_type": "execute_result"
    }
   ],
   "source": [
    "a = np.array((1,2,3))\n",
    "b = np.array((2,3,4))\n",
    "a + b"
   ]
  },
  {
   "cell_type": "markdown",
   "metadata": {},
   "source": [
    "## 2. Broadcasting"
   ]
  },
  {
   "cell_type": "markdown",
   "metadata": {},
   "source": [
    "**Broadcasting** is simply a set of rules for applying binary ufuncs (e.g., addition, subtraction, multiplication, etc.) on arrays of different sizes."
   ]
  },
  {
   "cell_type": "code",
   "execution_count": 12,
   "metadata": {},
   "outputs": [
    {
     "data": {
      "text/plain": [
       "array([5, 6, 7])"
      ]
     },
     "execution_count": 12,
     "metadata": {},
     "output_type": "execute_result"
    }
   ],
   "source": [
    "a = np.array([0, 1, 2])\n",
    "b = np.array([5, 5, 5])\n",
    "a + b"
   ]
  },
  {
   "cell_type": "code",
   "execution_count": 13,
   "metadata": {},
   "outputs": [
    {
     "name": "stdout",
     "output_type": "stream",
     "text": [
      "[5 6 7]\n",
      "[[1. 2. 3.]\n",
      " [1. 2. 3.]\n",
      " [1. 2. 3.]]\n",
      "[[0 1 2]\n",
      " [1 2 3]\n",
      " [2 3 4]]\n"
     ]
    }
   ],
   "source": [
    "print(np.arange(3) + 5)\n",
    "print(np.ones((3,3)) + np.arange(3))\n",
    "print(np.arange(3).reshape((3,1)) + np.arange(3))"
   ]
  },
  {
   "cell_type": "markdown",
   "metadata": {},
   "source": [
    "![broadcasting](img/02.05-broadcasting.png)"
   ]
  },
  {
   "cell_type": "markdown",
   "metadata": {},
   "source": [
    "Rules of broadcasting\n",
    "\n",
    "1. When comparing two arrays with different numbers of dimensions, the array with fewer dimensions is adjusted by adding ones to its left side.\n",
    "\n",
    "2. If the shapes of the two arrays do not align in any dimension, the array having a shape of 1 in that dimension is expanded to match the shape of the other array.\n",
    "\n",
    "3. If there is a mismatch in the sizes of dimensions, and neither size is equal to 1, an error is triggered."
   ]
  },
  {
   "cell_type": "markdown",
   "metadata": {},
   "source": [
    "Example 1:"
   ]
  },
  {
   "cell_type": "code",
   "execution_count": 14,
   "metadata": {},
   "outputs": [
    {
     "name": "stdout",
     "output_type": "stream",
     "text": [
      "(2, 3)\n",
      "(3,)\n"
     ]
    }
   ],
   "source": [
    "matrix = np.ones((2, 3))\n",
    "array = np.arange(3)\n",
    "\n",
    "print(matrix.shape)\n",
    "print(array.shape)"
   ]
  },
  {
   "cell_type": "markdown",
   "metadata": {},
   "source": [
    "matrix.shape -> (2, 3) <br>\n",
    "array.shape -> (1, 3)\n",
    "\n",
    "matrix.shape -> (2, 3) <br>\n",
    "array.shape -> (2, 3)"
   ]
  },
  {
   "cell_type": "code",
   "execution_count": 15,
   "metadata": {},
   "outputs": [
    {
     "name": "stdout",
     "output_type": "stream",
     "text": [
      "[[1. 1. 1.]\n",
      " [1. 1. 1.]]\n",
      "\n",
      "[0 1 2]\n",
      "\n",
      "[[1. 2. 3.]\n",
      " [1. 2. 3.]]\n"
     ]
    }
   ],
   "source": [
    "print(matrix, end=\"\\n\\n\")\n",
    "print(array,end=\"\\n\\n\")\n",
    "print(matrix + array)"
   ]
  },
  {
   "cell_type": "markdown",
   "metadata": {},
   "source": [
    "Example 2:"
   ]
  },
  {
   "cell_type": "code",
   "execution_count": 16,
   "metadata": {},
   "outputs": [
    {
     "name": "stdout",
     "output_type": "stream",
     "text": [
      "(3, 1)\n",
      "(3,)\n"
     ]
    }
   ],
   "source": [
    "matrix = np.arange(3).reshape((3, 1))\n",
    "array = np.arange(3)\n",
    "\n",
    "print(matrix.shape)\n",
    "print(array.shape)"
   ]
  },
  {
   "cell_type": "markdown",
   "metadata": {},
   "source": [
    "matrix.shape -> (3, 1) <br>\n",
    "array.shape -> (1, 3)\n",
    "\n",
    "matrix.shape -> (3, 3) <br>\n",
    "array.shape -> (3, 3)"
   ]
  },
  {
   "cell_type": "code",
   "execution_count": 17,
   "metadata": {},
   "outputs": [
    {
     "name": "stdout",
     "output_type": "stream",
     "text": [
      "[[0]\n",
      " [1]\n",
      " [2]]\n",
      "\n",
      "[0 1 2]\n",
      "\n",
      "[[0 1 2]\n",
      " [1 2 3]\n",
      " [2 3 4]]\n"
     ]
    }
   ],
   "source": [
    "print(matrix, end=\"\\n\\n\")\n",
    "print(array,end=\"\\n\\n\")\n",
    "print(matrix + array)"
   ]
  },
  {
   "cell_type": "markdown",
   "metadata": {},
   "source": [
    "Example 3:"
   ]
  },
  {
   "cell_type": "code",
   "execution_count": 18,
   "metadata": {},
   "outputs": [
    {
     "name": "stdout",
     "output_type": "stream",
     "text": [
      "(3, 2)\n",
      "(3,)\n"
     ]
    }
   ],
   "source": [
    "matrix = np.ones((3, 2))\n",
    "array = np.arange(3)\n",
    "\n",
    "print(matrix.shape)\n",
    "print(array.shape)"
   ]
  },
  {
   "cell_type": "markdown",
   "metadata": {},
   "source": [
    "matrix.shape -> (3, 2) <br>\n",
    "array.shape -> (1, 3)\n",
    "\n",
    "matrix.shape -> (3, 2) <br>\n",
    "array.shape -> (3, 3)"
   ]
  },
  {
   "cell_type": "code",
   "execution_count": 19,
   "metadata": {},
   "outputs": [
    {
     "name": "stdout",
     "output_type": "stream",
     "text": [
      "[[1. 1.]\n",
      " [1. 1.]\n",
      " [1. 1.]]\n",
      "\n",
      "[0 1 2]\n",
      "\n"
     ]
    },
    {
     "ename": "ValueError",
     "evalue": "operands could not be broadcast together with shapes (3,2) (3,) ",
     "output_type": "error",
     "traceback": [
      "\u001b[0;31m---------------------------------------------------------------------------\u001b[0m",
      "\u001b[0;31mValueError\u001b[0m                                Traceback (most recent call last)",
      "\u001b[1;32m/Users/khueluu/Desktop/NSU/Teaching/Python/NSU_Python/nbs/W5D2_Numpy_advanced.ipynb Cell 30\u001b[0m line \u001b[0;36m3\n\u001b[1;32m      <a href='vscode-notebook-cell:/Users/khueluu/Desktop/NSU/Teaching/Python/NSU_Python/nbs/W5D2_Numpy_advanced.ipynb#X40sZmlsZQ%3D%3D?line=0'>1</a>\u001b[0m \u001b[39mprint\u001b[39m(matrix, end\u001b[39m=\u001b[39m\u001b[39m\"\u001b[39m\u001b[39m\\n\u001b[39;00m\u001b[39m\\n\u001b[39;00m\u001b[39m\"\u001b[39m)\n\u001b[1;32m      <a href='vscode-notebook-cell:/Users/khueluu/Desktop/NSU/Teaching/Python/NSU_Python/nbs/W5D2_Numpy_advanced.ipynb#X40sZmlsZQ%3D%3D?line=1'>2</a>\u001b[0m \u001b[39mprint\u001b[39m(array,end\u001b[39m=\u001b[39m\u001b[39m\"\u001b[39m\u001b[39m\\n\u001b[39;00m\u001b[39m\\n\u001b[39;00m\u001b[39m\"\u001b[39m)\n\u001b[0;32m----> <a href='vscode-notebook-cell:/Users/khueluu/Desktop/NSU/Teaching/Python/NSU_Python/nbs/W5D2_Numpy_advanced.ipynb#X40sZmlsZQ%3D%3D?line=2'>3</a>\u001b[0m \u001b[39mprint\u001b[39m(matrix \u001b[39m+\u001b[39;49m array)\n",
      "\u001b[0;31mValueError\u001b[0m: operands could not be broadcast together with shapes (3,2) (3,) "
     ]
    }
   ],
   "source": [
    "print(matrix, end=\"\\n\\n\")\n",
    "print(array,end=\"\\n\\n\")\n",
    "print(matrix + array)"
   ]
  },
  {
   "cell_type": "code",
   "execution_count": 20,
   "metadata": {},
   "outputs": [
    {
     "name": "stdout",
     "output_type": "stream",
     "text": [
      "(3, 2)\n",
      "(3, 1)\n"
     ]
    },
    {
     "data": {
      "text/plain": [
       "array([[1., 1.],\n",
       "       [2., 2.],\n",
       "       [3., 3.]])"
      ]
     },
     "execution_count": 20,
     "metadata": {},
     "output_type": "execute_result"
    }
   ],
   "source": [
    "# solution: reshape array\n",
    "matrix = np.ones((3, 2))\n",
    "array = np.arange(3)\n",
    "array = array[:, np.newaxis]\n",
    "\n",
    "print(matrix.shape)\n",
    "print(array.shape)\n",
    "\n",
    "matrix + array"
   ]
  },
  {
   "cell_type": "markdown",
   "metadata": {},
   "source": [
    "**EXERCISE**\n",
    "\n",
    "Using Numpy to write these following metrics\n",
    "\n",
    "1. Mean Square Error (MSE)\n",
    "\n",
    "![mse](img/mse.png)"
   ]
  },
  {
   "cell_type": "code",
   "execution_count": 43,
   "metadata": {},
   "outputs": [
    {
     "name": "stdout",
     "output_type": "stream",
     "text": [
      "Target:\n",
      "[0 1 0]\n",
      "Prediction:\n",
      "[0.64052957 0.28886529 0.15752402]\n",
      "MSE: 0.31360150752545196\n"
     ]
    }
   ],
   "source": [
    "def mse(target, prediction):\n",
    "    return ((target - prediction)**2).sum() / target.shape[0]\n",
    "\n",
    "target = np.random.randint(low=0, high=2, size=(3,))\n",
    "prediction = np.random.random(size=target.shape)\n",
    "print(f\"Target:\\n{target}\")\n",
    "print(f\"Prediction:\\n{prediction}\")\n",
    "print(f\"MSE: {mse(target, prediction)}\")"
   ]
  },
  {
   "cell_type": "markdown",
   "metadata": {},
   "source": [
    "2. Root Mean Square Error (RMSE)\n",
    "\n",
    "![rmse](img/rmse.png)"
   ]
  },
  {
   "cell_type": "code",
   "execution_count": 22,
   "metadata": {},
   "outputs": [
    {
     "name": "stdout",
     "output_type": "stream",
     "text": [
      "Target:\n",
      "[1 1 0]\n",
      "Prediction:\n",
      "[0.49566378 0.75199102 0.6079301 ]\n",
      "RMSE: 0.47799668448589133\n"
     ]
    }
   ],
   "source": [
    "def rmse(target, prediction):\n",
    "    # YOUR CODE\n",
    "    return np.sqrt(((target - prediction)**2).mean())\n",
    "\n",
    "target = np.random.randint(low=0, high=2, size=(3,))\n",
    "prediction = np.random.random(size=target.shape)\n",
    "print(f\"Target:\\n{target}\")\n",
    "print(f\"Prediction:\\n{prediction}\")\n",
    "print(f\"RMSE: {rmse(target, prediction)}\")"
   ]
  },
  {
   "cell_type": "markdown",
   "metadata": {},
   "source": [
    "3. Mean Absolute Error (MAE)\n",
    "\n",
    "![mae](img/mae.png)"
   ]
  },
  {
   "cell_type": "code",
   "execution_count": 44,
   "metadata": {},
   "outputs": [
    {
     "name": "stdout",
     "output_type": "stream",
     "text": [
      "Target:\n",
      "[1 1 1]\n",
      "Prediction:\n",
      "[0.92080389 0.82102796 0.49565699]\n",
      "MAE: 0.2541703842865706\n"
     ]
    }
   ],
   "source": [
    "def mae(target, prediction):\n",
    "    # YOUR CODE\n",
    "    return (np.abs(target - prediction)).mean()\n",
    "\n",
    "target = np.random.randint(low=0, high=2, size=(3,))\n",
    "prediction = np.random.random(size=target.shape)\n",
    "print(f\"Target:\\n{target}\")\n",
    "print(f\"Prediction:\\n{prediction}\")\n",
    "print(f\"MAE: {mae(target, prediction)}\")"
   ]
  },
  {
   "cell_type": "markdown",
   "metadata": {},
   "source": [
    "4. Update the `MSE()` function so that it can return mse along a certain axis."
   ]
  },
  {
   "cell_type": "code",
   "execution_count": 46,
   "metadata": {},
   "outputs": [
    {
     "name": "stdout",
     "output_type": "stream",
     "text": [
      "Target:\n",
      "[[1 1 0 0 0]\n",
      " [0 0 1 0 1]\n",
      " [1 1 0 1 1]]\n",
      "Prediction:\n",
      "[[0.72619128 0.38969538 0.95980508 0.61971765 0.3257616 ]\n",
      " [0.99119271 0.00290491 0.67212439 0.81054461 0.45272384]\n",
      " [0.36864076 0.95301339 0.6847201  0.43645813 0.5585598 ]]\n"
     ]
    },
    {
     "data": {
      "text/plain": [
       "array([0.37176786, 0.40929352, 0.27642255])"
      ]
     },
     "execution_count": 46,
     "metadata": {},
     "output_type": "execute_result"
    }
   ],
   "source": [
    "def mse(target, prediction, axis=None):\n",
    "    return ((target - prediction)**2).mean(axis=axis)\n",
    "\n",
    "target = np.random.randint(low=0, high=2, size=(3,5))\n",
    "prediction = np.random.random(size=target.shape)\n",
    "print(f\"Target:\\n{target}\")\n",
    "print(f\"Prediction:\\n{prediction}\")\n",
    "\n",
    "mse(target, prediction, axis=1)"
   ]
  },
  {
   "cell_type": "markdown",
   "metadata": {},
   "source": [
    "## 3. Boolean Masking"
   ]
  },
  {
   "cell_type": "markdown",
   "metadata": {},
   "source": [
    "### 3.1. Boolean Array"
   ]
  },
  {
   "cell_type": "markdown",
   "metadata": {},
   "source": [
    "NumPy also implements comparison operators such as `<` (less than) and `>` (greater than) as element-wise ufuncs."
   ]
  },
  {
   "cell_type": "code",
   "execution_count": 47,
   "metadata": {},
   "outputs": [
    {
     "name": "stdout",
     "output_type": "stream",
     "text": [
      "[ True  True False False False False]\n",
      "[ True  True False False False False]\n"
     ]
    }
   ],
   "source": [
    "my_array = np.array((1,2,3,4,5,6))\n",
    "print(my_array < 3)\n",
    "print(np.less(my_array, 3))"
   ]
  },
  {
   "cell_type": "markdown",
   "metadata": {},
   "source": [
    "| Operator | Equivalent ufunc |\n",
    "| -------- | -----------------|\n",
    "| ==       | np.equal         |\n",
    "| <        | np.less          |\n",
    "| >        | np.greater       |\n",
    "| !=       | np.not_equal     |\n",
    "| <=       | np.less_equal    |\n",
    "| >=       | np.greater_equal |\n"
   ]
  },
  {
   "cell_type": "markdown",
   "metadata": {},
   "source": [
    "#### Practical uses of Boolean Array"
   ]
  },
  {
   "cell_type": "markdown",
   "metadata": {},
   "source": [
    "- Count elements based on a condition"
   ]
  },
  {
   "cell_type": "code",
   "execution_count": 48,
   "metadata": {},
   "outputs": [
    {
     "name": "stdout",
     "output_type": "stream",
     "text": [
      "my_array: [0 1 2 3 4 5 6 7 8 9]\n",
      "Boolean array of elements less than 4: [ True  True  True  True False False False False False False]\n",
      "How many elements less than 4? 4\n"
     ]
    }
   ],
   "source": [
    "# 1D array\n",
    "my_array = np.arange(10)\n",
    "print(f\"my_array: {my_array}\")\n",
    "\n",
    "n_less_than_4 = (my_array < 4)\n",
    "print(f\"Boolean array of elements less than 4: {n_less_than_4}\")\n",
    "print(f\"How many elements less than 4? {n_less_than_4.sum()}\") # False is interpreted as 0, and True is interpreted as 1\n",
    "\n",
    "sum_less_than_4 = (my_array < 4)"
   ]
  },
  {
   "cell_type": "code",
   "execution_count": 49,
   "metadata": {},
   "outputs": [
    {
     "name": "stdout",
     "output_type": "stream",
     "text": [
      "my_array:\n",
      "[[ 0  1  2  3]\n",
      " [ 4  5  6  7]\n",
      " [ 8  9 10 11]]\n",
      "Boolean array even elements:\n",
      "[[ True False  True False]\n",
      " [ True False  True False]\n",
      " [ True False  True False]]\n",
      "How many even elements on each rows: [2 2 2]\n"
     ]
    }
   ],
   "source": [
    "# 2D array\n",
    "my_array = np.arange(12).reshape((3,4))\n",
    "print(f\"my_array:\\n{my_array}\")\n",
    "\n",
    "bool_even = (my_array % 2 ==0)\n",
    "print(f\"Boolean array even elements:\\n{bool_even}\")\n",
    "\n",
    "n_even = bool_even.sum(axis=1)\n",
    "print(f\"How many even elements on each rows: {n_even}\")"
   ]
  },
  {
   "cell_type": "markdown",
   "metadata": {},
   "source": [
    "- Check all or any of the elements in an array match a condition with `np.all()` and `np.any()`"
   ]
  },
  {
   "cell_type": "code",
   "execution_count": 51,
   "metadata": {},
   "outputs": [
    {
     "name": "stdout",
     "output_type": "stream",
     "text": [
      "my_array:\n",
      "[0 1 2 3 4 5 6 7 8 9]\n",
      "All elements are non-negative? True\n",
      "Any of elements are larger than 9? True\n"
     ]
    }
   ],
   "source": [
    "my_array = np.arange(10)\n",
    "print(f\"my_array:\\n{my_array}\")\n",
    "\n",
    "print(\"All elements are non-negative?\", np.all(my_array >= 0))\n",
    "print(\"Any of elements are larger than 9?\", np.any(my_array > 8))"
   ]
  },
  {
   "cell_type": "markdown",
   "metadata": {},
   "source": [
    "### 3.2. Boolean operators"
   ]
  },
  {
   "cell_type": "markdown",
   "metadata": {},
   "source": [
    "You can use bitwise logic operators to combine conditions.\n",
    "\n",
    "| Operator | Equivalent ufunc |\n",
    "| -------- | -----------------|\n",
    "| &        | np.bitwise_and   |\n",
    "| \\|        | np.bitwise_or    |\n",
    "| ^        | np.bitwise_xor   |\n",
    "| ~        | np.bitwise_not   |"
   ]
  },
  {
   "cell_type": "code",
   "execution_count": 52,
   "metadata": {},
   "outputs": [
    {
     "data": {
      "text/plain": [
       "array([False, False, False, False, False, False, False, False, False,\n",
       "       False, False, False, False, False, False, False, False, False,\n",
       "        True, False])"
      ]
     },
     "execution_count": 52,
     "metadata": {},
     "output_type": "execute_result"
    }
   ],
   "source": [
    "my_array = np.arange(20)\n",
    "(my_array > 15) & (my_array %3 == 0)"
   ]
  },
  {
   "cell_type": "code",
   "execution_count": 53,
   "metadata": {},
   "outputs": [
    {
     "data": {
      "text/plain": [
       "array([ True, False,  True,  True,  True, False,  True, False,  True,\n",
       "        True,  True, False,  True, False,  True,  True,  True, False,\n",
       "        True, False])"
      ]
     },
     "execution_count": 53,
     "metadata": {},
     "output_type": "execute_result"
    }
   ],
   "source": [
    "my_array = np.arange(20)\n",
    "(my_array %2 == 0) | (my_array %3 == 0)"
   ]
  },
  {
   "cell_type": "markdown",
   "metadata": {},
   "source": [
    "#### Using keywords (`and`, `or`, `not`) vs operators (`&`, `|`, `~`)\n",
    "\n",
    "**Keywords** determine the overall truth or falsity of an entire object, whereas **operators** operate on individual bits within each object."
   ]
  },
  {
   "cell_type": "code",
   "execution_count": 56,
   "metadata": {},
   "outputs": [
    {
     "data": {
      "text/plain": [
       "array([False, False, False, False, False,  True,  True,  True, False,\n",
       "       False])"
      ]
     },
     "execution_count": 56,
     "metadata": {},
     "output_type": "execute_result"
    }
   ],
   "source": [
    "my_array = np.arange(10)\n",
    "(my_array > 4) & (my_array < 8)\n",
    "#(my_array > 4) and (my_array < 8) # ValueError"
   ]
  },
  {
   "cell_type": "markdown",
   "metadata": {},
   "source": [
    "### 3.3 Boolean Masking"
   ]
  },
  {
   "cell_type": "markdown",
   "metadata": {},
   "source": [
    "Boolean masking in NumPy is a powerful technique for filtering and manipulating arrays based on a set of boolean (True/False) conditions. It allows you to extract, modify, or operate on elements of an array that satisfy specific criteria defined by boolean conditions. You can use a boolean mask to filter elements from an array or perform operations on elements that satisfy the conditions. "
   ]
  },
  {
   "cell_type": "code",
   "execution_count": 58,
   "metadata": {},
   "outputs": [
    {
     "name": "stdout",
     "output_type": "stream",
     "text": [
      "my_array\n",
      "[0 1 2 3 4 5 6 7 8 9]\n",
      "filterd\n",
      "[6 7 8 9]\n"
     ]
    }
   ],
   "source": [
    "my_array = np.arange(10)\n",
    "#mask = my_array > 5\n",
    "#filtered = my_array[mask]\n",
    "filtered = my_array[my_array > 5]\n",
    "\n",
    "print(f\"my_array\\n{my_array}\")\n",
    "# print(f\"mask\\n{mask}\")\n",
    "print(f\"filterd\\n{filtered}\")"
   ]
  },
  {
   "cell_type": "code",
   "execution_count": null,
   "metadata": {},
   "outputs": [],
   "source": [
    "# Inplace modification\n",
    "img = (np.random.random(size=(8, 8)) * 255).astype(np.uint8)\n",
    "print(f\"original img\\n{img}\")\n",
    "\n",
    "img[img < 100] = 255\n",
    "print(f\"new img\\n{img}\")"
   ]
  },
  {
   "cell_type": "markdown",
   "metadata": {},
   "source": [
    "## 4. Fancy Indexing"
   ]
  },
  {
   "cell_type": "markdown",
   "metadata": {},
   "source": [
    "- With 1D arrays"
   ]
  },
  {
   "cell_type": "code",
   "execution_count": 59,
   "metadata": {},
   "outputs": [
    {
     "data": {
      "text/plain": [
       "array([ 1,  2,  3,  4,  5,  6,  7,  8,  9, 10, 11])"
      ]
     },
     "execution_count": 59,
     "metadata": {},
     "output_type": "execute_result"
    }
   ],
   "source": [
    "my_array = np.arange(1, 12)\n",
    "my_array"
   ]
  },
  {
   "cell_type": "code",
   "execution_count": 60,
   "metadata": {},
   "outputs": [
    {
     "data": {
      "text/plain": [
       "array([1, 3, 4, 6])"
      ]
     },
     "execution_count": 60,
     "metadata": {},
     "output_type": "execute_result"
    }
   ],
   "source": [
    "i = np.array([0,2,3,5])\n",
    "my_array[i]"
   ]
  },
  {
   "cell_type": "code",
   "execution_count": 61,
   "metadata": {},
   "outputs": [
    {
     "data": {
      "text/plain": [
       "array([[1, 3],\n",
       "       [4, 6]])"
      ]
     },
     "execution_count": 61,
     "metadata": {},
     "output_type": "execute_result"
    }
   ],
   "source": [
    "# The shape of the output is the shape of the indices, not the original array\n",
    "i = np.array([0,2,3,5]).reshape((2,2))\n",
    "my_array[i]"
   ]
  },
  {
   "cell_type": "markdown",
   "metadata": {},
   "source": [
    "- With 2D arrays"
   ]
  },
  {
   "cell_type": "code",
   "execution_count": 62,
   "metadata": {},
   "outputs": [
    {
     "data": {
      "text/plain": [
       "array([[ 1,  2,  3,  4],\n",
       "       [ 5,  6,  7,  8],\n",
       "       [ 9, 10, 11, 12]])"
      ]
     },
     "execution_count": 62,
     "metadata": {},
     "output_type": "execute_result"
    }
   ],
   "source": [
    "my_array = np.arange(1,13).reshape(3,4)\n",
    "my_array"
   ]
  },
  {
   "cell_type": "code",
   "execution_count": 63,
   "metadata": {},
   "outputs": [
    {
     "data": {
      "text/plain": [
       "array([ 2, 11])"
      ]
     },
     "execution_count": 63,
     "metadata": {},
     "output_type": "execute_result"
    }
   ],
   "source": [
    "row = np.array([0,2])\n",
    "col = np.array([1,2])\n",
    "my_array[row, col]"
   ]
  },
  {
   "cell_type": "code",
   "execution_count": 64,
   "metadata": {},
   "outputs": [
    {
     "data": {
      "text/plain": [
       "array([[ 2,  3],\n",
       "       [10, 11]])"
      ]
     },
     "execution_count": 64,
     "metadata": {},
     "output_type": "execute_result"
    }
   ],
   "source": [
    "row = np.array([0,2])\n",
    "col = np.array([1,2])\n",
    "my_array[row[:, np.newaxis], col]"
   ]
  },
  {
   "cell_type": "markdown",
   "metadata": {},
   "source": [
    "**EXERCISE**\n",
    "\n",
    "1. Create binary image as a Numpy array with values as in `img/smile1.png`"
   ]
  },
  {
   "cell_type": "code",
   "execution_count": 71,
   "metadata": {},
   "outputs": [
    {
     "data": {
      "text/plain": [
       "array([[0., 0., 0., 0., 0., 0.],\n",
       "       [0., 1., 0., 0., 0., 0.],\n",
       "       [0., 0., 0., 0., 0., 0.],\n",
       "       [0., 0., 0., 0., 0., 0.],\n",
       "       [0., 0., 0., 0., 0., 0.],\n",
       "       [0., 0., 0., 0., 0., 0.]])"
      ]
     },
     "execution_count": 71,
     "metadata": {},
     "output_type": "execute_result"
    }
   ],
   "source": [
    "# YOUR CODE\n",
    "arr = np.zeros(shape=(6,6))\n",
    "arr[1,1] = 1\n",
    "arr"
   ]
  },
  {
   "cell_type": "markdown",
   "metadata": {},
   "source": [
    "2. Reverse the colors of the image (black -> white, white -> black).\n",
    "    - Create a mask from a copy of the image\n",
    "    - Using the mask, modify 0 values of image to 1 and 1 values to 0."
   ]
  },
  {
   "cell_type": "code",
   "execution_count": 72,
   "metadata": {},
   "outputs": [
    {
     "data": {
      "text/plain": [
       "array([[1., 1., 1., 1., 1., 1.],\n",
       "       [1., 0., 1., 1., 1., 1.],\n",
       "       [1., 1., 1., 1., 1., 1.],\n",
       "       [1., 1., 1., 1., 1., 1.],\n",
       "       [1., 1., 1., 1., 1., 1.],\n",
       "       [1., 1., 1., 1., 1., 1.]])"
      ]
     },
     "execution_count": 72,
     "metadata": {},
     "output_type": "execute_result"
    }
   ],
   "source": [
    "# YOUR CODE\n",
    "mask = arr.copy()\n",
    "arr[mask == 0] = 1\n",
    "arr[mask == 1] = 0\n",
    "\n",
    "arr"
   ]
  },
  {
   "cell_type": "markdown",
   "metadata": {},
   "source": [
    "# REFENCES\n",
    "\n",
    "1. [Python Data Science Handbook](https://jakevdp.github.io/PythonDataScienceHandbook/02.06-boolean-arrays-and-masks.html)"
   ]
  }
 ],
 "metadata": {
  "kernelspec": {
   "display_name": ".venv",
   "language": "python",
   "name": "python3"
  },
  "language_info": {
   "codemirror_mode": {
    "name": "ipython",
    "version": 3
   },
   "file_extension": ".py",
   "mimetype": "text/x-python",
   "name": "python",
   "nbconvert_exporter": "python",
   "pygments_lexer": "ipython3",
   "version": "3.9.6"
  }
 },
 "nbformat": 4,
 "nbformat_minor": 2
}
