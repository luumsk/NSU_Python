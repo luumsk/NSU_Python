{
 "cells": [
  {
   "cell_type": "markdown",
   "metadata": {},
   "source": [
    "# Advanced Numpy"
   ]
  },
  {
   "cell_type": "code",
   "execution_count": 1,
   "metadata": {},
   "outputs": [],
   "source": [
    "import numpy as np"
   ]
  },
  {
   "cell_type": "markdown",
   "metadata": {},
   "source": [
    "## 5. Universal functions"
   ]
  },
  {
   "cell_type": "markdown",
   "metadata": {},
   "source": [
    "- Python is a dynamically-typed language, which means the data type is not explicitly declared when creating a variable.\n",
    "\n",
    "```C\n",
    "/* C code */\n",
    "int result = 0;\n",
    "for(int i=0; i<100; i++){\n",
    "    result += i;\n",
    "}\n",
    "```\n",
    "\n",
    "```python\n",
    "# Python code\n",
    "result = 0\n",
    "for i in range(100):\n",
    "    result += i\n",
    "```\n",
    "\n",
    "- With this mechanism, we can assign any type of data into a variable in Python. Therefore, a Python object contains more information than just the label to the position in memory.\n",
    "\n",
    "![cint_vs_pyint](img/cint_vs_pyint.png)\n",
    "\n",
    "- Python list can contains elements of different types, so each element must hold its own data type and other information, so they are different objects and are stored in non-contiguous block of memory.\n",
    "\n",
    "![array_vs_list](img/array_vs_list.png)\n",
    "\n",
    "- **Vectorized operation** is performing an operation on the array, which will then be applied to each element."
   ]
  },
  {
   "cell_type": "markdown",
   "metadata": {},
   "source": [
    "### 5.1. What are universal functions?\n",
    "\n",
    "- **Universal Functions (ufuncs)** in NumPy are functions that operate element-wise on arrays, meaning they perform an operation on each element of an array, producing an output array with the same shape. Ufuncs are designed for efficient and vectorized operations, which are much faster than using Python loops to perform the same computations.\n",
    "- **unary ufuncs** operate on a single input, and **binary ufuncs** operate on two inputs."
   ]
  },
  {
   "cell_type": "markdown",
   "metadata": {},
   "source": [
    "### 5.2. Array Arithmethic"
   ]
  },
  {
   "cell_type": "code",
   "execution_count": null,
   "metadata": {},
   "outputs": [],
   "source": [
    "# Binary ufuncs\n",
    "\n",
    "x = np.arange(4)\n",
    "print(\"x     =\", x)\n",
    "print(\"x + 5 =\", x + 5)    # np.add(x, 5)\n",
    "print(\"x - 5 =\", x - 5)    # np.subtract(x, 5)\n",
    "print(\"x * 2 =\", x * 2)    # np.multiply(x, 2)\n",
    "print(\"x / 2 =\", x / 2)    # np.divide(x, 2)\n",
    "print(\"x // 2 =\", x // 2)  # np.floor_divide(x, 2)"
   ]
  },
  {
   "cell_type": "code",
   "execution_count": null,
   "metadata": {},
   "outputs": [],
   "source": [
    "# Unary ufuncs\n",
    "\n",
    "print(\"-x     = \", -x)     # np.negative(x)\n",
    "print(\"x ** 2 = \", x ** 2) # np.power(x)\n",
    "print(\"x % 2  = \", x % 2)  # np.mod(x)"
   ]
  },
  {
   "cell_type": "code",
   "execution_count": null,
   "metadata": {},
   "outputs": [],
   "source": [
    "# Absolute\n",
    "print(np.absolute(x))\n",
    "print(np.abs(x))"
   ]
  },
  {
   "cell_type": "code",
   "execution_count": null,
   "metadata": {},
   "outputs": [],
   "source": [
    "# Trigonometric functions\n",
    "\n",
    "theta = np.linspace(0, np.pi, 3)\n",
    "\n",
    "print(\"theta      = \", theta)\n",
    "print(\"sin(theta) = \", np.sin(theta))\n",
    "print(\"cos(theta) = \", np.cos(theta))\n",
    "print(\"tan(theta) = \", np.tan(theta))\n",
    "\n",
    "x = [-1, 0, 1]\n",
    "print(\"x         = \", x)\n",
    "print(\"arcsin(x) = \", np.arcsin(x))\n",
    "print(\"arccos(x) = \", np.arccos(x))\n",
    "print(\"arctan(x) = \", np.arctan(x))"
   ]
  },
  {
   "cell_type": "code",
   "execution_count": null,
   "metadata": {},
   "outputs": [],
   "source": [
    "# Exponential\n",
    "x = [1, 2, 3]\n",
    "print(\"x     =\", x)\n",
    "print(\"e^x   =\", np.exp(x))\n",
    "print(\"2^x   =\", np.exp2(x))\n",
    "print(\"3^x   =\", np.power(3, x))"
   ]
  },
  {
   "cell_type": "code",
   "execution_count": null,
   "metadata": {},
   "outputs": [],
   "source": [
    "# Logarithm\n",
    "\n",
    "x = [1, 2, 4, 10]\n",
    "print(\"x        =\", x)\n",
    "print(\"ln(x)    =\", np.log(x))\n",
    "print(\"log2(x)  =\", np.log2(x))\n",
    "print(\"log10(x) =\", np.log10(x))"
   ]
  },
  {
   "cell_type": "markdown",
   "metadata": {},
   "source": [
    "## 6. Broadcasting"
   ]
  },
  {
   "cell_type": "markdown",
   "metadata": {},
   "source": [
    "**Broadcasting** is simply a set of rules for applying binary ufuncs (e.g., addition, subtraction, multiplication, etc.) on arrays of different sizes."
   ]
  },
  {
   "cell_type": "code",
   "execution_count": null,
   "metadata": {},
   "outputs": [],
   "source": [
    "a = np.array([0, 1, 2])\n",
    "b = np.array([5, 5, 5])\n",
    "a + b"
   ]
  },
  {
   "cell_type": "code",
   "execution_count": null,
   "metadata": {},
   "outputs": [],
   "source": [
    "print(np.arange(3) + 5)\n",
    "print(np.ones((3,3)) + np.arange(3))\n",
    "print(np.arange(3).reshape((3,1)) + np.arange(3))"
   ]
  },
  {
   "cell_type": "markdown",
   "metadata": {},
   "source": [
    "![broadcasting](img/02.05-broadcasting.png)"
   ]
  },
  {
   "cell_type": "markdown",
   "metadata": {},
   "source": [
    "Rules of broadcasting\n",
    "\n",
    "1. When comparing two arrays with different numbers of dimensions, the array with fewer dimensions is adjusted by adding ones to its left side.\n",
    "\n",
    "2. If the shapes of the two arrays do not align in any dimension, the array having a shape of 1 in that dimension is expanded to match the shape of the other array.\n",
    "\n",
    "3. If there is a mismatch in the sizes of dimensions, and neither size is equal to 1, an error is triggered."
   ]
  },
  {
   "cell_type": "markdown",
   "metadata": {},
   "source": [
    "Example 1:"
   ]
  },
  {
   "cell_type": "code",
   "execution_count": null,
   "metadata": {},
   "outputs": [],
   "source": [
    "matrix = np.ones((2, 3))\n",
    "array = np.arange(3)\n",
    "\n",
    "print(matrix.shape)\n",
    "print(array.shape)"
   ]
  },
  {
   "cell_type": "markdown",
   "metadata": {},
   "source": [
    "matrix.shape -> (2, 3) <br>\n",
    "array.shape -> (1, 3)\n",
    "\n",
    "matrix.shape -> (2, 3) <br>\n",
    "array.shape -> (2, 3)"
   ]
  },
  {
   "cell_type": "code",
   "execution_count": null,
   "metadata": {},
   "outputs": [],
   "source": [
    "print(matrix, end=\"\\n\\n\")\n",
    "print(array,end=\"\\n\\n\")\n",
    "print(matrix + array)"
   ]
  },
  {
   "cell_type": "markdown",
   "metadata": {},
   "source": [
    "Example 2:"
   ]
  },
  {
   "cell_type": "code",
   "execution_count": null,
   "metadata": {},
   "outputs": [],
   "source": [
    "matrix = np.arange(3).reshape((3, 1))\n",
    "array = np.arange(3)\n",
    "\n",
    "print(matrix.shape)\n",
    "print(array.shape)"
   ]
  },
  {
   "cell_type": "markdown",
   "metadata": {},
   "source": [
    "matrix.shape -> (3, 1) <br>\n",
    "array.shape -> (1, 3)\n",
    "\n",
    "matrix.shape -> (3, 3) <br>\n",
    "array.shape -> (3, 3)"
   ]
  },
  {
   "cell_type": "code",
   "execution_count": null,
   "metadata": {},
   "outputs": [],
   "source": [
    "print(matrix, end=\"\\n\\n\")\n",
    "print(array,end=\"\\n\\n\")\n",
    "print(matrix + array)"
   ]
  },
  {
   "cell_type": "markdown",
   "metadata": {},
   "source": [
    "Example 3:"
   ]
  },
  {
   "cell_type": "code",
   "execution_count": null,
   "metadata": {},
   "outputs": [],
   "source": [
    "matrix = np.ones((3, 2))\n",
    "array = np.arange(3)\n",
    "\n",
    "print(matrix.shape)\n",
    "print(array.shape)"
   ]
  },
  {
   "cell_type": "markdown",
   "metadata": {},
   "source": [
    "matrix.shape -> (3, 2)\n",
    "array.shape -> (1, 3)\n",
    "\n",
    "matrix.shape -> (3, 2)\n",
    "array.shape -> (3, 3)"
   ]
  },
  {
   "cell_type": "code",
   "execution_count": null,
   "metadata": {},
   "outputs": [],
   "source": [
    "print(matrix, end=\"\\n\\n\")\n",
    "print(array,end=\"\\n\\n\")\n",
    "print(matrix + array)"
   ]
  },
  {
   "cell_type": "code",
   "execution_count": null,
   "metadata": {},
   "outputs": [],
   "source": [
    "# solution: reshape array\n",
    "matrix = np.ones((3, 2))\n",
    "array = np.arange(3)\n",
    "array = array[:, np.newaxis]\n",
    "\n",
    "print(matrix.shape)\n",
    "print(array.shape)\n",
    "\n",
    "matrix + array"
   ]
  },
  {
   "cell_type": "markdown",
   "metadata": {},
   "source": [
    "**EXERCISE**\n",
    "\n",
    "Using Numpy to write these following metrics\n",
    "\n",
    "1. Mean Square Error (MSE)\n",
    "\n",
    "![mse](img/mse.png)"
   ]
  },
  {
   "cell_type": "code",
   "execution_count": null,
   "metadata": {},
   "outputs": [],
   "source": [
    "def mse(target, prediction):\n",
    "    # YOUR CODE\n",
    "    pass\n",
    "\n",
    "target = np.random.randint(low=0, high=2, size=(3,))\n",
    "prediction = np.random.random(size=target.shape)\n",
    "print(f\"Target:\\n{target}\")\n",
    "print(f\"Prediction:\\n{prediction}\")\n",
    "print(f\"MSE: {mse(target, prediction)}\")"
   ]
  },
  {
   "cell_type": "markdown",
   "metadata": {},
   "source": [
    "2. Root Mean Square Error (RMSE)\n",
    "\n",
    "![rmse](img/rmse.png)"
   ]
  },
  {
   "cell_type": "code",
   "execution_count": null,
   "metadata": {},
   "outputs": [],
   "source": [
    "def rmse(target, prediction):\n",
    "    # YOUR CODE\n",
    "    pass\n",
    "\n",
    "target = np.random.randint(low=0, high=2, size=(3,))\n",
    "prediction = np.random.random(size=target.shape)\n",
    "print(f\"Target:\\n{target}\")\n",
    "print(f\"Prediction:\\n{prediction}\")\n",
    "print(f\"RMSE: {rmse(target, prediction)}\")"
   ]
  },
  {
   "cell_type": "markdown",
   "metadata": {},
   "source": [
    "3. Mean Absolute Error (MAE)\n",
    "\n",
    "![mae](img/mae.png)"
   ]
  },
  {
   "cell_type": "code",
   "execution_count": null,
   "metadata": {},
   "outputs": [],
   "source": [
    "def mae(target, prediction):\n",
    "    # YOUR CODE\n",
    "    pass\n",
    "\n",
    "target = np.random.randint(low=0, high=2, size=(3,))\n",
    "prediction = np.random.random(size=target.shape)\n",
    "print(f\"Target:\\n{target}\")\n",
    "print(f\"Prediction:\\n{prediction}\")\n",
    "print(f\"MAE: {mae(target, prediction)}\")"
   ]
  },
  {
   "cell_type": "markdown",
   "metadata": {},
   "source": [
    "4. Update the `MSE()` function so that it can return mse along a certain axis."
   ]
  },
  {
   "cell_type": "code",
   "execution_count": null,
   "metadata": {},
   "outputs": [],
   "source": [
    "def mse(target, prediction, axis=None):\n",
    "    return ((target - prediction)**2).mean(axis=axis)\n",
    "\n",
    "target = np.random.randint(low=0, high=2, size=(3,5))\n",
    "prediction = np.random.random(size=target.shape)\n",
    "print(f\"Target:\\n{target}\")\n",
    "print(f\"Prediction:\\n{prediction}\")"
   ]
  }
 ],
 "metadata": {
  "kernelspec": {
   "display_name": ".venv",
   "language": "python",
   "name": "python3"
  },
  "language_info": {
   "codemirror_mode": {
    "name": "ipython",
    "version": 3
   },
   "file_extension": ".py",
   "mimetype": "text/x-python",
   "name": "python",
   "nbconvert_exporter": "python",
   "pygments_lexer": "ipython3",
   "version": "3.9.6"
  }
 },
 "nbformat": 4,
 "nbformat_minor": 2
}
