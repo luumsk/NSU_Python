{
 "cells": [
  {
   "cell_type": "markdown",
   "metadata": {},
   "source": [
    "# Advanced Numpy"
   ]
  },
  {
   "cell_type": "code",
   "execution_count": 1,
   "metadata": {},
   "outputs": [],
   "source": [
    "import numpy as np"
   ]
  },
  {
   "cell_type": "markdown",
   "metadata": {},
   "source": [
    "## 1. Universal functions"
   ]
  },
  {
   "cell_type": "markdown",
   "metadata": {},
   "source": [
    "- Python is a dynamically-typed language, which means the data type is not explicitly declared when creating a variable.\n",
    "\n",
    "```C\n",
    "/* C code */\n",
    "int result = 0;\n",
    "for(int i=0; i<100; i++){\n",
    "    result += i;\n",
    "}\n",
    "```\n",
    "\n",
    "```python\n",
    "# Python code\n",
    "result = 0\n",
    "for i in range(100):\n",
    "    result += i\n",
    "```\n",
    "\n",
    "- With this mechanism, we can assign any type of data into a variable in Python. Therefore, a Python object contains more information than just the label to the position in memory.\n",
    "\n",
    "![cint_vs_pyint](img/cint_vs_pyint.png)\n",
    "\n",
    "- Python list can contains elements of different types, so each element must hold its own data type and other information, so they are different objects and are stored in non-contiguous block of memory.\n",
    "\n",
    "![array_vs_list](img/array_vs_list.png)\n",
    "\n",
    "- **Vectorized operation** is performing an operation on the array, which will then be applied to each element."
   ]
  },
  {
   "cell_type": "markdown",
   "metadata": {},
   "source": [
    "### What are universal functions?\n",
    "\n",
    "- **Universal Functions (ufuncs)** in NumPy are functions that operate element-wise on arrays, meaning they perform an operation on each element of an array, producing an output array with the same shape. Ufuncs are designed for efficient and vectorized operations, which are much faster than using Python loops to perform the same computations.\n",
    "- **unary ufuncs** operate on a single input, and **binary ufuncs** operate on two inputs."
   ]
  },
  {
   "cell_type": "code",
   "execution_count": null,
   "metadata": {},
   "outputs": [],
   "source": [
    "# Binary ufuncs\n",
    "\n",
    "x = np.arange(4)\n",
    "print(\"x     =\", x)\n",
    "print(\"x + 5 =\", x + 5)    # np.add(x, 5)\n",
    "print(\"x - 5 =\", x - 5)    # np.subtract(x, 5)\n",
    "print(\"x * 2 =\", x * 2)    # np.multiply(x, 2)\n",
    "print(\"x / 2 =\", x / 2)    # np.divide(x, 2)\n",
    "print(\"x // 2 =\", x // 2)  # np.floor_divide(x, 2)"
   ]
  },
  {
   "cell_type": "code",
   "execution_count": null,
   "metadata": {},
   "outputs": [],
   "source": [
    "# Unary ufuncs\n",
    "\n",
    "print(\"-x     = \", -x)     # np.negative(x)\n",
    "print(\"x ** 2 = \", x ** 2) # np.power(x)\n",
    "print(\"x % 2  = \", x % 2)  # np.mod(x)"
   ]
  },
  {
   "cell_type": "code",
   "execution_count": null,
   "metadata": {},
   "outputs": [],
   "source": [
    "# Absolute\n",
    "print(np.absolute(x))\n",
    "print(np.abs(x))"
   ]
  },
  {
   "cell_type": "code",
   "execution_count": null,
   "metadata": {},
   "outputs": [],
   "source": [
    "# Trigonometric functions\n",
    "\n",
    "theta = np.linspace(0, np.pi, 3)\n",
    "\n",
    "print(\"theta      = \", theta)\n",
    "print(\"sin(theta) = \", np.sin(theta))\n",
    "print(\"cos(theta) = \", np.cos(theta))\n",
    "print(\"tan(theta) = \", np.tan(theta))\n",
    "\n",
    "x = [-1, 0, 1]\n",
    "print(\"x         = \", x)\n",
    "print(\"arcsin(x) = \", np.arcsin(x))\n",
    "print(\"arccos(x) = \", np.arccos(x))\n",
    "print(\"arctan(x) = \", np.arctan(x))"
   ]
  },
  {
   "cell_type": "code",
   "execution_count": null,
   "metadata": {},
   "outputs": [],
   "source": [
    "# Exponential\n",
    "x = [1, 2, 3]\n",
    "print(\"x     =\", x)\n",
    "print(\"e^x   =\", np.exp(x))\n",
    "print(\"2^x   =\", np.exp2(x))\n",
    "print(\"3^x   =\", np.power(3, x))"
   ]
  },
  {
   "cell_type": "code",
   "execution_count": null,
   "metadata": {},
   "outputs": [],
   "source": [
    "# Logarithm\n",
    "\n",
    "x = [1, 2, 4, 10]\n",
    "print(\"x        =\", x)\n",
    "print(\"ln(x)    =\", np.log(x))\n",
    "print(\"log2(x)  =\", np.log2(x))\n",
    "print(\"log10(x) =\", np.log10(x))"
   ]
  },
  {
   "cell_type": "markdown",
   "metadata": {},
   "source": [
    "## 2. Broadcasting"
   ]
  },
  {
   "cell_type": "markdown",
   "metadata": {},
   "source": [
    "**Broadcasting** is simply a set of rules for applying binary ufuncs (e.g., addition, subtraction, multiplication, etc.) on arrays of different sizes."
   ]
  },
  {
   "cell_type": "code",
   "execution_count": null,
   "metadata": {},
   "outputs": [],
   "source": [
    "a = np.array([0, 1, 2])\n",
    "b = np.array([5, 5, 5])\n",
    "a + b"
   ]
  },
  {
   "cell_type": "code",
   "execution_count": null,
   "metadata": {},
   "outputs": [],
   "source": [
    "print(np.arange(3) + 5)\n",
    "print(np.ones((3,3)) + np.arange(3))\n",
    "print(np.arange(3).reshape((3,1)) + np.arange(3))"
   ]
  },
  {
   "cell_type": "markdown",
   "metadata": {},
   "source": [
    "![broadcasting](img/02.05-broadcasting.png)"
   ]
  },
  {
   "cell_type": "markdown",
   "metadata": {},
   "source": [
    "Rules of broadcasting\n",
    "\n",
    "1. When comparing two arrays with different numbers of dimensions, the array with fewer dimensions is adjusted by adding ones to its left side.\n",
    "\n",
    "2. If the shapes of the two arrays do not align in any dimension, the array having a shape of 1 in that dimension is expanded to match the shape of the other array.\n",
    "\n",
    "3. If there is a mismatch in the sizes of dimensions, and neither size is equal to 1, an error is triggered."
   ]
  },
  {
   "cell_type": "markdown",
   "metadata": {},
   "source": [
    "Example 1:"
   ]
  },
  {
   "cell_type": "code",
   "execution_count": null,
   "metadata": {},
   "outputs": [],
   "source": [
    "matrix = np.ones((2, 3))\n",
    "array = np.arange(3)\n",
    "\n",
    "print(matrix.shape)\n",
    "print(array.shape)"
   ]
  },
  {
   "cell_type": "markdown",
   "metadata": {},
   "source": [
    "matrix.shape -> (2, 3) <br>\n",
    "array.shape -> (1, 3)\n",
    "\n",
    "matrix.shape -> (2, 3) <br>\n",
    "array.shape -> (2, 3)"
   ]
  },
  {
   "cell_type": "code",
   "execution_count": null,
   "metadata": {},
   "outputs": [],
   "source": [
    "print(matrix, end=\"\\n\\n\")\n",
    "print(array,end=\"\\n\\n\")\n",
    "print(matrix + array)"
   ]
  },
  {
   "cell_type": "markdown",
   "metadata": {},
   "source": [
    "Example 2:"
   ]
  },
  {
   "cell_type": "code",
   "execution_count": null,
   "metadata": {},
   "outputs": [],
   "source": [
    "matrix = np.arange(3).reshape((3, 1))\n",
    "array = np.arange(3)\n",
    "\n",
    "print(matrix.shape)\n",
    "print(array.shape)"
   ]
  },
  {
   "cell_type": "markdown",
   "metadata": {},
   "source": [
    "matrix.shape -> (3, 1) <br>\n",
    "array.shape -> (1, 3)\n",
    "\n",
    "matrix.shape -> (3, 3) <br>\n",
    "array.shape -> (3, 3)"
   ]
  },
  {
   "cell_type": "code",
   "execution_count": null,
   "metadata": {},
   "outputs": [],
   "source": [
    "print(matrix, end=\"\\n\\n\")\n",
    "print(array,end=\"\\n\\n\")\n",
    "print(matrix + array)"
   ]
  },
  {
   "cell_type": "markdown",
   "metadata": {},
   "source": [
    "Example 3:"
   ]
  },
  {
   "cell_type": "code",
   "execution_count": null,
   "metadata": {},
   "outputs": [],
   "source": [
    "matrix = np.ones((3, 2))\n",
    "array = np.arange(3)\n",
    "\n",
    "print(matrix.shape)\n",
    "print(array.shape)"
   ]
  },
  {
   "cell_type": "markdown",
   "metadata": {},
   "source": [
    "matrix.shape -> (3, 2)\n",
    "array.shape -> (1, 3)\n",
    "\n",
    "matrix.shape -> (3, 2)\n",
    "array.shape -> (3, 3)"
   ]
  },
  {
   "cell_type": "code",
   "execution_count": null,
   "metadata": {},
   "outputs": [],
   "source": [
    "print(matrix, end=\"\\n\\n\")\n",
    "print(array,end=\"\\n\\n\")\n",
    "print(matrix + array)"
   ]
  },
  {
   "cell_type": "code",
   "execution_count": null,
   "metadata": {},
   "outputs": [],
   "source": [
    "# solution: reshape array\n",
    "matrix = np.ones((3, 2))\n",
    "array = np.arange(3)\n",
    "array = array[:, np.newaxis]\n",
    "\n",
    "print(matrix.shape)\n",
    "print(array.shape)\n",
    "\n",
    "matrix + array"
   ]
  },
  {
   "cell_type": "markdown",
   "metadata": {},
   "source": [
    "**EXERCISE**\n",
    "\n",
    "Using Numpy to write these following metrics\n",
    "\n",
    "1. Mean Square Error (MSE)\n",
    "\n",
    "![mse](img/mse.png)"
   ]
  },
  {
   "cell_type": "code",
   "execution_count": null,
   "metadata": {},
   "outputs": [],
   "source": [
    "def mse(target, prediction):\n",
    "    # YOUR CODE\n",
    "    pass\n",
    "\n",
    "target = np.random.randint(low=0, high=2, size=(3,))\n",
    "prediction = np.random.random(size=target.shape)\n",
    "print(f\"Target:\\n{target}\")\n",
    "print(f\"Prediction:\\n{prediction}\")\n",
    "print(f\"MSE: {mse(target, prediction)}\")"
   ]
  },
  {
   "cell_type": "markdown",
   "metadata": {},
   "source": [
    "2. Root Mean Square Error (RMSE)\n",
    "\n",
    "![rmse](img/rmse.png)"
   ]
  },
  {
   "cell_type": "code",
   "execution_count": null,
   "metadata": {},
   "outputs": [],
   "source": [
    "def rmse(target, prediction):\n",
    "    # YOUR CODE\n",
    "    pass\n",
    "\n",
    "target = np.random.randint(low=0, high=2, size=(3,))\n",
    "prediction = np.random.random(size=target.shape)\n",
    "print(f\"Target:\\n{target}\")\n",
    "print(f\"Prediction:\\n{prediction}\")\n",
    "print(f\"RMSE: {rmse(target, prediction)}\")"
   ]
  },
  {
   "cell_type": "markdown",
   "metadata": {},
   "source": [
    "3. Mean Absolute Error (MAE)\n",
    "\n",
    "![mae](img/mae.png)"
   ]
  },
  {
   "cell_type": "code",
   "execution_count": null,
   "metadata": {},
   "outputs": [],
   "source": [
    "def mae(target, prediction):\n",
    "    # YOUR CODE\n",
    "    pass\n",
    "\n",
    "target = np.random.randint(low=0, high=2, size=(3,))\n",
    "prediction = np.random.random(size=target.shape)\n",
    "print(f\"Target:\\n{target}\")\n",
    "print(f\"Prediction:\\n{prediction}\")\n",
    "print(f\"MAE: {mae(target, prediction)}\")"
   ]
  },
  {
   "cell_type": "markdown",
   "metadata": {},
   "source": [
    "4. Update the `MSE()` function so that it can return mse along a certain axis."
   ]
  },
  {
   "cell_type": "code",
   "execution_count": null,
   "metadata": {},
   "outputs": [],
   "source": [
    "def mse(target, prediction, axis=None):\n",
    "    return ((target - prediction)**2).mean(axis=axis)\n",
    "\n",
    "target = np.random.randint(low=0, high=2, size=(3,5))\n",
    "prediction = np.random.random(size=target.shape)\n",
    "print(f\"Target:\\n{target}\")\n",
    "print(f\"Prediction:\\n{prediction}\")"
   ]
  },
  {
   "cell_type": "markdown",
   "metadata": {},
   "source": [
    "## 3. Boolean Masking"
   ]
  },
  {
   "cell_type": "markdown",
   "metadata": {},
   "source": [
    "### 3.1. Boolean Array"
   ]
  },
  {
   "cell_type": "markdown",
   "metadata": {},
   "source": [
    "NumPy also implements comparison operators such as `<` (less than) and `>` (greater than) as element-wise ufuncs."
   ]
  },
  {
   "cell_type": "code",
   "execution_count": null,
   "metadata": {},
   "outputs": [],
   "source": [
    "my_array = np.array((1,2,3,4,5,6))\n",
    "print(my_array < 3)\n",
    "print(np.less(my_array, 3))"
   ]
  },
  {
   "cell_type": "markdown",
   "metadata": {},
   "source": [
    "| Operator | Equivalent ufunc |\n",
    "| -------- | -----------------|\n",
    "| ==       | np.equal         |\n",
    "| <        | np.less          |\n",
    "| >        | np.greater       |\n",
    "| !=       | np.not_equal     |\n",
    "| <=       | np.less_equal    |\n",
    "| >=       | np.greater_equal |\n"
   ]
  },
  {
   "cell_type": "markdown",
   "metadata": {},
   "source": [
    "#### Practical uses of Boolean Array"
   ]
  },
  {
   "cell_type": "markdown",
   "metadata": {},
   "source": [
    "- Count elements based on a condition"
   ]
  },
  {
   "cell_type": "code",
   "execution_count": null,
   "metadata": {},
   "outputs": [],
   "source": [
    "# 1D array\n",
    "my_array = np.arange(10)\n",
    "print(f\"my_array: {my_array}\")\n",
    "\n",
    "n_less_than_4 = (my_array < 4)\n",
    "print(f\"Boolean array of elements less than 4: {n_less_than_4}\")\n",
    "print(f\"How many elements less than 4? {n_less_than_4.sum()}\") # False is interpreted as 0, and True is interpreted as 1\n",
    "\n",
    "sum_less_than_4 = (my_array < 4)"
   ]
  },
  {
   "cell_type": "code",
   "execution_count": null,
   "metadata": {},
   "outputs": [],
   "source": [
    "# 2D array\n",
    "my_array = np.arange(12).reshape((3,4))\n",
    "print(f\"my_array:\\n{my_array}\")\n",
    "\n",
    "bool_even = (my_array % 2 ==0)\n",
    "print(f\"Boolean array even elements:\\n{bool_even}\")\n",
    "\n",
    "n_even = bool_even.sum(axis=1)\n",
    "print(f\"How many even elements on each rows: {n_even}\")"
   ]
  },
  {
   "cell_type": "markdown",
   "metadata": {},
   "source": [
    "- Check all or any of the elements in an array match a condition with `np.all()` and `np.any()`"
   ]
  },
  {
   "cell_type": "code",
   "execution_count": null,
   "metadata": {},
   "outputs": [],
   "source": [
    "my_array = np.arange(10)\n",
    "print(f\"my_array:\\n{my_array}\")\n",
    "\n",
    "print(\"All elements are non-negative?\", np.all(my_array >= 0))\n",
    "print(\"Any of elements are larger than 9?\", np.any(my_array > 9))"
   ]
  },
  {
   "cell_type": "markdown",
   "metadata": {},
   "source": [
    "### 3.2. Boolean operators"
   ]
  },
  {
   "cell_type": "markdown",
   "metadata": {},
   "source": [
    "You can use bitwise logic operators to combine conditions.\n",
    "\n",
    "| Operator | Equivalent ufunc |\n",
    "| -------- | -----------------|\n",
    "| &        | np.bitwise_and   |\n",
    "| \\|        | np.bitwise_or    |\n",
    "| ^        | np.bitwise_xor   |\n",
    "| ~        | np.bitwise_not   |"
   ]
  },
  {
   "cell_type": "code",
   "execution_count": null,
   "metadata": {},
   "outputs": [],
   "source": [
    "my_array = np.arange(20)\n",
    "(my_array > 15) & (my_array %3 == 0)"
   ]
  },
  {
   "cell_type": "code",
   "execution_count": null,
   "metadata": {},
   "outputs": [],
   "source": [
    "my_array = np.arange(20)\n",
    "(my_array %2 == 0) | (my_array %3 == 0)"
   ]
  },
  {
   "cell_type": "markdown",
   "metadata": {},
   "source": [
    "#### Using keywords (`and`, `or`, `not`) vs operators (`&`, `|`, `~`)\n",
    "\n",
    "**Keywords** determine the overall truth or falsity of an entire object, whereas **operators** operate on individual bits within each object."
   ]
  },
  {
   "cell_type": "code",
   "execution_count": null,
   "metadata": {},
   "outputs": [],
   "source": [
    "my_array = np.arange(10)\n",
    "(my_array > 4) & (my_array < 8)\n",
    "# (my_array > 4) and (my_array < 8) # ValueError"
   ]
  },
  {
   "cell_type": "markdown",
   "metadata": {},
   "source": [
    "### 3.3 Boolean Masking"
   ]
  },
  {
   "cell_type": "markdown",
   "metadata": {},
   "source": [
    "Boolean masking in NumPy is a powerful technique for filtering and manipulating arrays based on a set of boolean (True/False) conditions. It allows you to extract, modify, or operate on elements of an array that satisfy specific criteria defined by boolean conditions. You can use a boolean mask to filter elements from an array or perform operations on elements that satisfy the conditions. "
   ]
  },
  {
   "cell_type": "code",
   "execution_count": null,
   "metadata": {},
   "outputs": [],
   "source": [
    "my_array = np.arange(10)\n",
    "mask = my_array > 5\n",
    "filtered = my_array[mask]\n",
    "#filtered = my_array[my_array > 5]\n",
    "\n",
    "print(f\"my_array\\n{my_array}\")\n",
    "print(f\"mask\\n{mask}\")\n",
    "print(f\"filterd\\n{filtered}\")"
   ]
  },
  {
   "cell_type": "markdown",
   "metadata": {},
   "source": [
    "**EXERCISE**\n",
    "\n",
    "1. Create binary image as a Numpy array with values as in `img/smile1.png`"
   ]
  },
  {
   "cell_type": "code",
   "execution_count": null,
   "metadata": {},
   "outputs": [],
   "source": [
    "# Inplace modification\n",
    "img = (np.random.random(size=(8, 8)) * 255).astype(np.uint8)\n",
    "print(f\"original img\\n{img}\")\n",
    "\n",
    "img[img < 100] = 255\n",
    "print(f\"new img\\n{img}\")"
   ]
  },
  {
   "cell_type": "code",
   "execution_count": null,
   "metadata": {},
   "outputs": [],
   "source": [
    "# YOUR CODE"
   ]
  },
  {
   "cell_type": "markdown",
   "metadata": {},
   "source": [
    "2. Reverse the colors of the image (black -> white, white -> black).\n",
    "    - Create a mask from a copy of the image\n",
    "    - Using the mask, modify 0 values of image to 1 and 1 values to 0."
   ]
  },
  {
   "cell_type": "code",
   "execution_count": null,
   "metadata": {},
   "outputs": [],
   "source": [
    "# YOUR CODE"
   ]
  },
  {
   "cell_type": "markdown",
   "metadata": {},
   "source": [
    "# REFENCES\n",
    "\n",
    "1. [Python Data Science Handbook](https://jakevdp.github.io/PythonDataScienceHandbook/02.06-boolean-arrays-and-masks.html)"
   ]
  }
 ],
 "metadata": {
  "kernelspec": {
   "display_name": ".venv",
   "language": "python",
   "name": "python3"
  },
  "language_info": {
   "codemirror_mode": {
    "name": "ipython",
    "version": 3
   },
   "file_extension": ".py",
   "mimetype": "text/x-python",
   "name": "python",
   "nbconvert_exporter": "python",
   "pygments_lexer": "ipython3",
   "version": "3.9.6"
  }
 },
 "nbformat": 4,
 "nbformat_minor": 2
}
