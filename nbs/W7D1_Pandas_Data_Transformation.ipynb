{
 "cells": [
  {
   "cell_type": "markdown",
   "metadata": {},
   "source": [
    "# Data Transformation with Pandas"
   ]
  },
  {
   "cell_type": "markdown",
   "metadata": {},
   "source": [
    "- **Data transformation** refers to the process of converting and altering data from one format, structure, or representation to another. It involves various operations that can be applied to raw or source data to prepare it for analysis, modeling, or visualization. \n",
    "\n",
    "- Data transformation is a crucial step in the data preprocessing pipeline, and it is used for several purposes, including:\n",
    "    - **Data Integration:** combining data from multiple sources or systems, such as aligning data types, units of measurement, or date formats.\n",
    "    - **Feature Engineering:** create new features or variables from existing data, suh as mathematical transformations, aggregations, or creating categorical variables.\n",
    "    - **Data Aggregation:** aggregate data at different levels, such as summing, averaging, or counting values within specified groups.\n",
    "    - **Normalization and Scaling:** bring data of different scales into a common range, making it suitable for algorithms sensitive to the scale of variables, such as many machine learning models.\n",
    "    - **Encoding Categorical Data:** transform textual or labeled data into numerical values, such as one-hot encoding, label encoding, or ordinal encoding."
   ]
  },
  {
   "cell_type": "code",
   "execution_count": 1,
   "metadata": {},
   "outputs": [],
   "source": [
    "import pandas as pd\n",
    "import numpy as np"
   ]
  },
  {
   "cell_type": "code",
   "execution_count": 2,
   "metadata": {},
   "outputs": [
    {
     "data": {
      "text/plain": [
       "(2640, 35)"
      ]
     },
     "execution_count": 2,
     "metadata": {},
     "output_type": "execute_result"
    }
   ],
   "source": [
    "df = pd.read_csv(\"../data/billionairs.csv\")\n",
    "df.shape"
   ]
  },
  {
   "cell_type": "markdown",
   "metadata": {},
   "source": [
    "## 1. Dropping, renaming, counting values"
   ]
  },
  {
   "cell_type": "markdown",
   "metadata": {},
   "source": [
    "### 1.1. Drop"
   ]
  },
  {
   "cell_type": "markdown",
   "metadata": {},
   "source": [
    "Drop entire column: Remove rows or columns by specifying label names and corresponding axis."
   ]
  },
  {
   "cell_type": "code",
   "execution_count": 3,
   "metadata": {},
   "outputs": [
    {
     "data": {
      "text/plain": [
       "True"
      ]
     },
     "execution_count": 3,
     "metadata": {},
     "output_type": "execute_result"
    }
   ],
   "source": [
    "# Add an extra column\n",
    "df[\"extra\"] = np.nan\n",
    "\"extra\" in df.columns"
   ]
  },
  {
   "cell_type": "code",
   "execution_count": 4,
   "metadata": {},
   "outputs": [
    {
     "data": {
      "text/plain": [
       "False"
      ]
     },
     "execution_count": 4,
     "metadata": {},
     "output_type": "execute_result"
    }
   ],
   "source": [
    "# Drop column \"extra\"\n",
    "df.drop(columns=\"extra\", inplace=True) # KeyError raised if there is no column \"extra\"\n",
    "\"extra\" in df.columns"
   ]
  },
  {
   "cell_type": "markdown",
   "metadata": {},
   "source": [
    "Drop multiple columns"
   ]
  },
  {
   "cell_type": "code",
   "execution_count": 5,
   "metadata": {},
   "outputs": [
    {
     "name": "stdout",
     "output_type": "stream",
     "text": [
      "Before: True True\n",
      "After: False False\n"
     ]
    }
   ],
   "source": [
    "df[\"extra1\"] = np.nan\n",
    "df[\"extra2\"] = np.nan\n",
    "print(\"Before:\", \"extra1\" in df.columns, \"extra2\" in df.columns)\n",
    "\n",
    "df.drop(columns=[\"extra1\", \"extra2\"], inplace=True)\n",
    "print(\"After:\", \"extra1\" in df.columns, \"extra2\" in df.columns)"
   ]
  },
  {
   "cell_type": "markdown",
   "metadata": {},
   "source": [
    "Drop rows by index"
   ]
  },
  {
   "cell_type": "code",
   "execution_count": 6,
   "metadata": {},
   "outputs": [
    {
     "data": {
      "text/html": [
       "<div>\n",
       "<style scoped>\n",
       "    .dataframe tbody tr th:only-of-type {\n",
       "        vertical-align: middle;\n",
       "    }\n",
       "\n",
       "    .dataframe tbody tr th {\n",
       "        vertical-align: top;\n",
       "    }\n",
       "\n",
       "    .dataframe thead th {\n",
       "        text-align: right;\n",
       "    }\n",
       "</style>\n",
       "<table border=\"1\" class=\"dataframe\">\n",
       "  <thead>\n",
       "    <tr style=\"text-align: right;\">\n",
       "      <th></th>\n",
       "      <th>rank</th>\n",
       "      <th>finalWorth</th>\n",
       "      <th>category</th>\n",
       "      <th>personName</th>\n",
       "      <th>age</th>\n",
       "      <th>country</th>\n",
       "      <th>city</th>\n",
       "      <th>source</th>\n",
       "      <th>industries</th>\n",
       "      <th>countryOfCitizenship</th>\n",
       "      <th>...</th>\n",
       "      <th>cpi_change_country</th>\n",
       "      <th>gdp_country</th>\n",
       "      <th>gross_tertiary_education_enrollment</th>\n",
       "      <th>gross_primary_education_enrollment_country</th>\n",
       "      <th>life_expectancy_country</th>\n",
       "      <th>tax_revenue_country_country</th>\n",
       "      <th>total_tax_rate_country</th>\n",
       "      <th>population_country</th>\n",
       "      <th>latitude_country</th>\n",
       "      <th>longitude_country</th>\n",
       "    </tr>\n",
       "  </thead>\n",
       "  <tbody>\n",
       "    <tr>\n",
       "      <th>2637</th>\n",
       "      <td>2540</td>\n",
       "      <td>1000</td>\n",
       "      <td>Manufacturing</td>\n",
       "      <td>Zhang Gongyun</td>\n",
       "      <td>60.0</td>\n",
       "      <td>China</td>\n",
       "      <td>Gaomi</td>\n",
       "      <td>Tyre manufacturing machinery</td>\n",
       "      <td>Manufacturing</td>\n",
       "      <td>China</td>\n",
       "      <td>...</td>\n",
       "      <td>2.9</td>\n",
       "      <td>$19,910,000,000,000</td>\n",
       "      <td>50.6</td>\n",
       "      <td>100.2</td>\n",
       "      <td>77.0</td>\n",
       "      <td>9.4</td>\n",
       "      <td>59.2</td>\n",
       "      <td>1.397715e+09</td>\n",
       "      <td>35.861660</td>\n",
       "      <td>104.195397</td>\n",
       "    </tr>\n",
       "    <tr>\n",
       "      <th>2638</th>\n",
       "      <td>2540</td>\n",
       "      <td>1000</td>\n",
       "      <td>Real Estate</td>\n",
       "      <td>Zhang Guiping &amp; family</td>\n",
       "      <td>71.0</td>\n",
       "      <td>China</td>\n",
       "      <td>Nanjing</td>\n",
       "      <td>Real estate</td>\n",
       "      <td>Real Estate</td>\n",
       "      <td>China</td>\n",
       "      <td>...</td>\n",
       "      <td>2.9</td>\n",
       "      <td>$19,910,000,000,000</td>\n",
       "      <td>50.6</td>\n",
       "      <td>100.2</td>\n",
       "      <td>77.0</td>\n",
       "      <td>9.4</td>\n",
       "      <td>59.2</td>\n",
       "      <td>1.397715e+09</td>\n",
       "      <td>35.861660</td>\n",
       "      <td>104.195397</td>\n",
       "    </tr>\n",
       "    <tr>\n",
       "      <th>2639</th>\n",
       "      <td>2540</td>\n",
       "      <td>1000</td>\n",
       "      <td>Diversified</td>\n",
       "      <td>Inigo Zobel</td>\n",
       "      <td>66.0</td>\n",
       "      <td>Philippines</td>\n",
       "      <td>Makati</td>\n",
       "      <td>Diversified</td>\n",
       "      <td>Diversified</td>\n",
       "      <td>Philippines</td>\n",
       "      <td>...</td>\n",
       "      <td>2.5</td>\n",
       "      <td>$376,795,508,680</td>\n",
       "      <td>35.5</td>\n",
       "      <td>107.5</td>\n",
       "      <td>71.1</td>\n",
       "      <td>14.0</td>\n",
       "      <td>43.1</td>\n",
       "      <td>1.081166e+08</td>\n",
       "      <td>12.879721</td>\n",
       "      <td>121.774017</td>\n",
       "    </tr>\n",
       "  </tbody>\n",
       "</table>\n",
       "<p>3 rows × 35 columns</p>\n",
       "</div>"
      ],
      "text/plain": [
       "      rank  finalWorth       category              personName   age  \\\n",
       "2637  2540        1000  Manufacturing           Zhang Gongyun  60.0   \n",
       "2638  2540        1000    Real Estate  Zhang Guiping & family  71.0   \n",
       "2639  2540        1000    Diversified             Inigo Zobel  66.0   \n",
       "\n",
       "          country     city                        source     industries  \\\n",
       "2637        China    Gaomi  Tyre manufacturing machinery  Manufacturing   \n",
       "2638        China  Nanjing                   Real estate    Real Estate   \n",
       "2639  Philippines   Makati                   Diversified    Diversified   \n",
       "\n",
       "     countryOfCitizenship  ... cpi_change_country           gdp_country  \\\n",
       "2637                China  ...                2.9  $19,910,000,000,000    \n",
       "2638                China  ...                2.9  $19,910,000,000,000    \n",
       "2639          Philippines  ...                2.5     $376,795,508,680    \n",
       "\n",
       "     gross_tertiary_education_enrollment  \\\n",
       "2637                                50.6   \n",
       "2638                                50.6   \n",
       "2639                                35.5   \n",
       "\n",
       "     gross_primary_education_enrollment_country life_expectancy_country  \\\n",
       "2637                                      100.2                    77.0   \n",
       "2638                                      100.2                    77.0   \n",
       "2639                                      107.5                    71.1   \n",
       "\n",
       "     tax_revenue_country_country total_tax_rate_country population_country  \\\n",
       "2637                         9.4                   59.2       1.397715e+09   \n",
       "2638                         9.4                   59.2       1.397715e+09   \n",
       "2639                        14.0                   43.1       1.081166e+08   \n",
       "\n",
       "     latitude_country longitude_country  \n",
       "2637        35.861660        104.195397  \n",
       "2638        35.861660        104.195397  \n",
       "2639        12.879721        121.774017  \n",
       "\n",
       "[3 rows x 35 columns]"
      ]
     },
     "execution_count": 6,
     "metadata": {},
     "output_type": "execute_result"
    }
   ],
   "source": [
    "df.tail(3)"
   ]
  },
  {
   "cell_type": "code",
   "execution_count": 7,
   "metadata": {},
   "outputs": [
    {
     "data": {
      "text/html": [
       "<div>\n",
       "<style scoped>\n",
       "    .dataframe tbody tr th:only-of-type {\n",
       "        vertical-align: middle;\n",
       "    }\n",
       "\n",
       "    .dataframe tbody tr th {\n",
       "        vertical-align: top;\n",
       "    }\n",
       "\n",
       "    .dataframe thead th {\n",
       "        text-align: right;\n",
       "    }\n",
       "</style>\n",
       "<table border=\"1\" class=\"dataframe\">\n",
       "  <thead>\n",
       "    <tr style=\"text-align: right;\">\n",
       "      <th></th>\n",
       "      <th>rank</th>\n",
       "      <th>finalWorth</th>\n",
       "      <th>category</th>\n",
       "      <th>personName</th>\n",
       "      <th>age</th>\n",
       "      <th>country</th>\n",
       "      <th>city</th>\n",
       "      <th>source</th>\n",
       "      <th>industries</th>\n",
       "      <th>countryOfCitizenship</th>\n",
       "      <th>...</th>\n",
       "      <th>cpi_change_country</th>\n",
       "      <th>gdp_country</th>\n",
       "      <th>gross_tertiary_education_enrollment</th>\n",
       "      <th>gross_primary_education_enrollment_country</th>\n",
       "      <th>life_expectancy_country</th>\n",
       "      <th>tax_revenue_country_country</th>\n",
       "      <th>total_tax_rate_country</th>\n",
       "      <th>population_country</th>\n",
       "      <th>latitude_country</th>\n",
       "      <th>longitude_country</th>\n",
       "    </tr>\n",
       "  </thead>\n",
       "  <tbody>\n",
       "    <tr>\n",
       "      <th>2638</th>\n",
       "      <td>2540</td>\n",
       "      <td>1000</td>\n",
       "      <td>Real Estate</td>\n",
       "      <td>Zhang Guiping &amp; family</td>\n",
       "      <td>71.0</td>\n",
       "      <td>China</td>\n",
       "      <td>Nanjing</td>\n",
       "      <td>Real estate</td>\n",
       "      <td>Real Estate</td>\n",
       "      <td>China</td>\n",
       "      <td>...</td>\n",
       "      <td>2.9</td>\n",
       "      <td>$19,910,000,000,000</td>\n",
       "      <td>50.6</td>\n",
       "      <td>100.2</td>\n",
       "      <td>77.0</td>\n",
       "      <td>9.4</td>\n",
       "      <td>59.2</td>\n",
       "      <td>1.397715e+09</td>\n",
       "      <td>35.861660</td>\n",
       "      <td>104.195397</td>\n",
       "    </tr>\n",
       "    <tr>\n",
       "      <th>2639</th>\n",
       "      <td>2540</td>\n",
       "      <td>1000</td>\n",
       "      <td>Diversified</td>\n",
       "      <td>Inigo Zobel</td>\n",
       "      <td>66.0</td>\n",
       "      <td>Philippines</td>\n",
       "      <td>Makati</td>\n",
       "      <td>Diversified</td>\n",
       "      <td>Diversified</td>\n",
       "      <td>Philippines</td>\n",
       "      <td>...</td>\n",
       "      <td>2.5</td>\n",
       "      <td>$376,795,508,680</td>\n",
       "      <td>35.5</td>\n",
       "      <td>107.5</td>\n",
       "      <td>71.1</td>\n",
       "      <td>14.0</td>\n",
       "      <td>43.1</td>\n",
       "      <td>1.081166e+08</td>\n",
       "      <td>12.879721</td>\n",
       "      <td>121.774017</td>\n",
       "    </tr>\n",
       "    <tr>\n",
       "      <th>2640</th>\n",
       "      <td>2540</td>\n",
       "      <td>1000</td>\n",
       "      <td>Diversified</td>\n",
       "      <td>Inigo Zobel</td>\n",
       "      <td>66.0</td>\n",
       "      <td>Philippines</td>\n",
       "      <td>Makati</td>\n",
       "      <td>Diversified</td>\n",
       "      <td>Diversified</td>\n",
       "      <td>Philippines</td>\n",
       "      <td>...</td>\n",
       "      <td>2.5</td>\n",
       "      <td>$376,795,508,680</td>\n",
       "      <td>35.5</td>\n",
       "      <td>107.5</td>\n",
       "      <td>71.1</td>\n",
       "      <td>14.0</td>\n",
       "      <td>43.1</td>\n",
       "      <td>1.081166e+08</td>\n",
       "      <td>12.879721</td>\n",
       "      <td>121.774017</td>\n",
       "    </tr>\n",
       "  </tbody>\n",
       "</table>\n",
       "<p>3 rows × 35 columns</p>\n",
       "</div>"
      ],
      "text/plain": [
       "      rank  finalWorth     category              personName   age  \\\n",
       "2638  2540        1000  Real Estate  Zhang Guiping & family  71.0   \n",
       "2639  2540        1000  Diversified             Inigo Zobel  66.0   \n",
       "2640  2540        1000  Diversified             Inigo Zobel  66.0   \n",
       "\n",
       "          country     city       source   industries countryOfCitizenship  \\\n",
       "2638        China  Nanjing  Real estate  Real Estate                China   \n",
       "2639  Philippines   Makati  Diversified  Diversified          Philippines   \n",
       "2640  Philippines   Makati  Diversified  Diversified          Philippines   \n",
       "\n",
       "      ... cpi_change_country           gdp_country  \\\n",
       "2638  ...                2.9  $19,910,000,000,000    \n",
       "2639  ...                2.5     $376,795,508,680    \n",
       "2640  ...                2.5     $376,795,508,680    \n",
       "\n",
       "     gross_tertiary_education_enrollment  \\\n",
       "2638                                50.6   \n",
       "2639                                35.5   \n",
       "2640                                35.5   \n",
       "\n",
       "     gross_primary_education_enrollment_country life_expectancy_country  \\\n",
       "2638                                      100.2                    77.0   \n",
       "2639                                      107.5                    71.1   \n",
       "2640                                      107.5                    71.1   \n",
       "\n",
       "     tax_revenue_country_country total_tax_rate_country population_country  \\\n",
       "2638                         9.4                   59.2       1.397715e+09   \n",
       "2639                        14.0                   43.1       1.081166e+08   \n",
       "2640                        14.0                   43.1       1.081166e+08   \n",
       "\n",
       "     latitude_country longitude_country  \n",
       "2638        35.861660        104.195397  \n",
       "2639        12.879721        121.774017  \n",
       "2640        12.879721        121.774017  \n",
       "\n",
       "[3 rows x 35 columns]"
      ]
     },
     "execution_count": 7,
     "metadata": {},
     "output_type": "execute_result"
    }
   ],
   "source": [
    "# Add new row\n",
    "last_index = df.index[-1]\n",
    "df.loc[last_index + 1] = df.iloc[last_index]\n",
    "df.tail(3)"
   ]
  },
  {
   "cell_type": "code",
   "execution_count": 8,
   "metadata": {},
   "outputs": [
    {
     "data": {
      "text/html": [
       "<div>\n",
       "<style scoped>\n",
       "    .dataframe tbody tr th:only-of-type {\n",
       "        vertical-align: middle;\n",
       "    }\n",
       "\n",
       "    .dataframe tbody tr th {\n",
       "        vertical-align: top;\n",
       "    }\n",
       "\n",
       "    .dataframe thead th {\n",
       "        text-align: right;\n",
       "    }\n",
       "</style>\n",
       "<table border=\"1\" class=\"dataframe\">\n",
       "  <thead>\n",
       "    <tr style=\"text-align: right;\">\n",
       "      <th></th>\n",
       "      <th>rank</th>\n",
       "      <th>finalWorth</th>\n",
       "      <th>category</th>\n",
       "      <th>personName</th>\n",
       "      <th>age</th>\n",
       "      <th>country</th>\n",
       "      <th>city</th>\n",
       "      <th>source</th>\n",
       "      <th>industries</th>\n",
       "      <th>countryOfCitizenship</th>\n",
       "      <th>...</th>\n",
       "      <th>cpi_change_country</th>\n",
       "      <th>gdp_country</th>\n",
       "      <th>gross_tertiary_education_enrollment</th>\n",
       "      <th>gross_primary_education_enrollment_country</th>\n",
       "      <th>life_expectancy_country</th>\n",
       "      <th>tax_revenue_country_country</th>\n",
       "      <th>total_tax_rate_country</th>\n",
       "      <th>population_country</th>\n",
       "      <th>latitude_country</th>\n",
       "      <th>longitude_country</th>\n",
       "    </tr>\n",
       "  </thead>\n",
       "  <tbody>\n",
       "    <tr>\n",
       "      <th>2637</th>\n",
       "      <td>2540</td>\n",
       "      <td>1000</td>\n",
       "      <td>Manufacturing</td>\n",
       "      <td>Zhang Gongyun</td>\n",
       "      <td>60.0</td>\n",
       "      <td>China</td>\n",
       "      <td>Gaomi</td>\n",
       "      <td>Tyre manufacturing machinery</td>\n",
       "      <td>Manufacturing</td>\n",
       "      <td>China</td>\n",
       "      <td>...</td>\n",
       "      <td>2.9</td>\n",
       "      <td>$19,910,000,000,000</td>\n",
       "      <td>50.6</td>\n",
       "      <td>100.2</td>\n",
       "      <td>77.0</td>\n",
       "      <td>9.4</td>\n",
       "      <td>59.2</td>\n",
       "      <td>1.397715e+09</td>\n",
       "      <td>35.861660</td>\n",
       "      <td>104.195397</td>\n",
       "    </tr>\n",
       "    <tr>\n",
       "      <th>2638</th>\n",
       "      <td>2540</td>\n",
       "      <td>1000</td>\n",
       "      <td>Real Estate</td>\n",
       "      <td>Zhang Guiping &amp; family</td>\n",
       "      <td>71.0</td>\n",
       "      <td>China</td>\n",
       "      <td>Nanjing</td>\n",
       "      <td>Real estate</td>\n",
       "      <td>Real Estate</td>\n",
       "      <td>China</td>\n",
       "      <td>...</td>\n",
       "      <td>2.9</td>\n",
       "      <td>$19,910,000,000,000</td>\n",
       "      <td>50.6</td>\n",
       "      <td>100.2</td>\n",
       "      <td>77.0</td>\n",
       "      <td>9.4</td>\n",
       "      <td>59.2</td>\n",
       "      <td>1.397715e+09</td>\n",
       "      <td>35.861660</td>\n",
       "      <td>104.195397</td>\n",
       "    </tr>\n",
       "    <tr>\n",
       "      <th>2639</th>\n",
       "      <td>2540</td>\n",
       "      <td>1000</td>\n",
       "      <td>Diversified</td>\n",
       "      <td>Inigo Zobel</td>\n",
       "      <td>66.0</td>\n",
       "      <td>Philippines</td>\n",
       "      <td>Makati</td>\n",
       "      <td>Diversified</td>\n",
       "      <td>Diversified</td>\n",
       "      <td>Philippines</td>\n",
       "      <td>...</td>\n",
       "      <td>2.5</td>\n",
       "      <td>$376,795,508,680</td>\n",
       "      <td>35.5</td>\n",
       "      <td>107.5</td>\n",
       "      <td>71.1</td>\n",
       "      <td>14.0</td>\n",
       "      <td>43.1</td>\n",
       "      <td>1.081166e+08</td>\n",
       "      <td>12.879721</td>\n",
       "      <td>121.774017</td>\n",
       "    </tr>\n",
       "  </tbody>\n",
       "</table>\n",
       "<p>3 rows × 35 columns</p>\n",
       "</div>"
      ],
      "text/plain": [
       "      rank  finalWorth       category              personName   age  \\\n",
       "2637  2540        1000  Manufacturing           Zhang Gongyun  60.0   \n",
       "2638  2540        1000    Real Estate  Zhang Guiping & family  71.0   \n",
       "2639  2540        1000    Diversified             Inigo Zobel  66.0   \n",
       "\n",
       "          country     city                        source     industries  \\\n",
       "2637        China    Gaomi  Tyre manufacturing machinery  Manufacturing   \n",
       "2638        China  Nanjing                   Real estate    Real Estate   \n",
       "2639  Philippines   Makati                   Diversified    Diversified   \n",
       "\n",
       "     countryOfCitizenship  ... cpi_change_country           gdp_country  \\\n",
       "2637                China  ...                2.9  $19,910,000,000,000    \n",
       "2638                China  ...                2.9  $19,910,000,000,000    \n",
       "2639          Philippines  ...                2.5     $376,795,508,680    \n",
       "\n",
       "     gross_tertiary_education_enrollment  \\\n",
       "2637                                50.6   \n",
       "2638                                50.6   \n",
       "2639                                35.5   \n",
       "\n",
       "     gross_primary_education_enrollment_country life_expectancy_country  \\\n",
       "2637                                      100.2                    77.0   \n",
       "2638                                      100.2                    77.0   \n",
       "2639                                      107.5                    71.1   \n",
       "\n",
       "     tax_revenue_country_country total_tax_rate_country population_country  \\\n",
       "2637                         9.4                   59.2       1.397715e+09   \n",
       "2638                         9.4                   59.2       1.397715e+09   \n",
       "2639                        14.0                   43.1       1.081166e+08   \n",
       "\n",
       "     latitude_country longitude_country  \n",
       "2637        35.861660        104.195397  \n",
       "2638        35.861660        104.195397  \n",
       "2639        12.879721        121.774017  \n",
       "\n",
       "[3 rows x 35 columns]"
      ]
     },
     "execution_count": 8,
     "metadata": {},
     "output_type": "execute_result"
    }
   ],
   "source": [
    "# Drop last row\n",
    "df.drop(index=last_index+1, inplace=True)\n",
    "df.tail(3)"
   ]
  },
  {
   "cell_type": "markdown",
   "metadata": {},
   "source": [
    "### 1.2. Rename"
   ]
  },
  {
   "cell_type": "markdown",
   "metadata": {},
   "source": [
    "Rename 1 column"
   ]
  },
  {
   "cell_type": "code",
   "execution_count": 9,
   "metadata": {},
   "outputs": [
    {
     "data": {
      "text/plain": [
       "Index(['rank', 'finalWorth', 'category', 'personName', 'age', 'country',\n",
       "       'city', 'source', 'industries', 'countryOfCitizenship', 'organization',\n",
       "       'selfMade', 'status', 'gender', 'birthDate', 'lastName', 'firstName',\n",
       "       'title', 'date', 'state', 'residenceStateRegion', 'birthYear',\n",
       "       'birthMonth', 'birthDay', 'cpi_country', 'cpi_change_country',\n",
       "       'gdp_country', 'gross_tertiary_education_enrollment',\n",
       "       'gross_primary_education_enrollment_country', 'life_expectancy_country',\n",
       "       'tax_revenue_country_country', 'total_tax_rate_country',\n",
       "       'population_country', 'latitude_country', 'longitude_country',\n",
       "       'old_col'],\n",
       "      dtype='object')"
      ]
     },
     "execution_count": 9,
     "metadata": {},
     "output_type": "execute_result"
    }
   ],
   "source": [
    "# add new column\n",
    "df[\"old_col\"] = np.nan\n",
    "df.columns"
   ]
  },
  {
   "cell_type": "code",
   "execution_count": 11,
   "metadata": {},
   "outputs": [
    {
     "data": {
      "text/plain": [
       "Index(['rank', 'finalWorth', 'category', 'personName', 'age', 'country',\n",
       "       'city', 'source', 'industries', 'countryOfCitizenship', 'organization',\n",
       "       'selfMade', 'status', 'gender', 'birthDate', 'lastName', 'firstName',\n",
       "       'title', 'date', 'state', 'residenceStateRegion', 'birthYear',\n",
       "       'birthMonth', 'birthDay', 'cpi_country', 'cpi_change_country',\n",
       "       'gdp_country', 'gross_tertiary_education_enrollment',\n",
       "       'gross_primary_education_enrollment_country', 'life_expectancy_country',\n",
       "       'tax_revenue_country_country', 'total_tax_rate_country',\n",
       "       'population_country', 'latitude_country', 'longitude_country',\n",
       "       'new_col'],\n",
       "      dtype='object')"
      ]
     },
     "execution_count": 11,
     "metadata": {},
     "output_type": "execute_result"
    }
   ],
   "source": [
    "df.rename(columns={\"old_col\": \"new_col\"}, inplace=True)\n",
    "df.columns"
   ]
  },
  {
   "cell_type": "markdown",
   "metadata": {},
   "source": [
    "Rename multiple columns"
   ]
  },
  {
   "cell_type": "code",
   "execution_count": 14,
   "metadata": {},
   "outputs": [
    {
     "data": {
      "text/plain": [
       "Index(['rank', 'finalWorth', 'category', 'personName', 'age', 'country',\n",
       "       'city', 'source', 'industries', 'countryOfCitizenship', 'organization',\n",
       "       'selfMade', 'status', 'gender', 'birthDate', 'lastName', 'firstName',\n",
       "       'title', 'date', 'state', 'residenceStateRegion', 'birthYear',\n",
       "       'birthMonth', 'birthDay', 'cpi_country', 'cpi_change_country',\n",
       "       'gdp_country', 'gross_tertiary_education_enrollment',\n",
       "       'gross_primary_education_enrollment_country', 'life_expectancy_country',\n",
       "       'tax_revenue_country_country', 'total_tax_rate_country',\n",
       "       'population_country', 'latitude_country', 'longitude_country', 'newCol',\n",
       "       'newCol2'],\n",
       "      dtype='object')"
      ]
     },
     "execution_count": 14,
     "metadata": {},
     "output_type": "execute_result"
    }
   ],
   "source": [
    "df[\"new_col_2\"] = np.nan\n",
    "df.rename(columns={\n",
    "    \"new_col\": \"newCol\",\n",
    "    \"new_col_2\": \"newCol2\"\n",
    "}, inplace=True)\n",
    "df.columns"
   ]
  },
  {
   "cell_type": "code",
   "execution_count": 16,
   "metadata": {},
   "outputs": [
    {
     "data": {
      "text/plain": [
       "Index(['rank', 'finalWorth', 'category', 'personName', 'age', 'country',\n",
       "       'city', 'source', 'industries', 'countryOfCitizenship', 'organization',\n",
       "       'selfMade', 'status', 'gender', 'birthDate', 'lastName', 'firstName',\n",
       "       'title', 'date', 'state', 'residenceStateRegion', 'birthYear',\n",
       "       'birthMonth', 'birthDay', 'cpi_country', 'cpi_change_country',\n",
       "       'gdp_country', 'gross_tertiary_education_enrollment',\n",
       "       'gross_primary_education_enrollment_country', 'life_expectancy_country',\n",
       "       'tax_revenue_country_country', 'total_tax_rate_country',\n",
       "       'population_country', 'latitude_country', 'longitude_country'],\n",
       "      dtype='object')"
      ]
     },
     "execution_count": 16,
     "metadata": {},
     "output_type": "execute_result"
    }
   ],
   "source": [
    "df.drop(columns=[\"newCol\", \"newCol2\"], inplace=True)\n",
    "df.columns"
   ]
  },
  {
   "cell_type": "markdown",
   "metadata": {},
   "source": [
    "Rename index and multiple indices"
   ]
  },
  {
   "cell_type": "code",
   "execution_count": 17,
   "metadata": {},
   "outputs": [
    {
     "data": {
      "text/plain": [
       "Index([0, 1, 2, 3, 4], dtype='int64')"
      ]
     },
     "execution_count": 17,
     "metadata": {},
     "output_type": "execute_result"
    }
   ],
   "source": [
    "df.index[:5]"
   ]
  },
  {
   "cell_type": "code",
   "execution_count": 19,
   "metadata": {},
   "outputs": [
    {
     "data": {
      "text/plain": [
       "Index(['zero', 'one', 2, 3, 4], dtype='object')"
      ]
     },
     "execution_count": 19,
     "metadata": {},
     "output_type": "execute_result"
    }
   ],
   "source": [
    "renamed_index = df.rename(index={0: \"zero\", 1: \"one\"})\n",
    "renamed_index.index[:5]"
   ]
  },
  {
   "cell_type": "code",
   "execution_count": 20,
   "metadata": {},
   "outputs": [
    {
     "data": {
      "text/html": [
       "<div>\n",
       "<style scoped>\n",
       "    .dataframe tbody tr th:only-of-type {\n",
       "        vertical-align: middle;\n",
       "    }\n",
       "\n",
       "    .dataframe tbody tr th {\n",
       "        vertical-align: top;\n",
       "    }\n",
       "\n",
       "    .dataframe thead th {\n",
       "        text-align: right;\n",
       "    }\n",
       "</style>\n",
       "<table border=\"1\" class=\"dataframe\">\n",
       "  <thead>\n",
       "    <tr style=\"text-align: right;\">\n",
       "      <th></th>\n",
       "      <th>rank</th>\n",
       "      <th>finalWorth</th>\n",
       "      <th>category</th>\n",
       "      <th>personName</th>\n",
       "      <th>age</th>\n",
       "      <th>country</th>\n",
       "      <th>city</th>\n",
       "      <th>source</th>\n",
       "      <th>industries</th>\n",
       "      <th>countryOfCitizenship</th>\n",
       "      <th>...</th>\n",
       "      <th>cpi_change_country</th>\n",
       "      <th>gdp_country</th>\n",
       "      <th>gross_tertiary_education_enrollment</th>\n",
       "      <th>gross_primary_education_enrollment_country</th>\n",
       "      <th>life_expectancy_country</th>\n",
       "      <th>tax_revenue_country_country</th>\n",
       "      <th>total_tax_rate_country</th>\n",
       "      <th>population_country</th>\n",
       "      <th>latitude_country</th>\n",
       "      <th>longitude_country</th>\n",
       "    </tr>\n",
       "  </thead>\n",
       "  <tbody>\n",
       "    <tr>\n",
       "      <th>zero</th>\n",
       "      <td>1</td>\n",
       "      <td>211000</td>\n",
       "      <td>Fashion &amp; Retail</td>\n",
       "      <td>Bernard Arnault &amp; family</td>\n",
       "      <td>74.0</td>\n",
       "      <td>France</td>\n",
       "      <td>Paris</td>\n",
       "      <td>LVMH</td>\n",
       "      <td>Fashion &amp; Retail</td>\n",
       "      <td>France</td>\n",
       "      <td>...</td>\n",
       "      <td>1.1</td>\n",
       "      <td>$2,715,518,274,227</td>\n",
       "      <td>65.6</td>\n",
       "      <td>102.5</td>\n",
       "      <td>82.5</td>\n",
       "      <td>24.2</td>\n",
       "      <td>60.7</td>\n",
       "      <td>67059887.0</td>\n",
       "      <td>46.227638</td>\n",
       "      <td>2.213749</td>\n",
       "    </tr>\n",
       "    <tr>\n",
       "      <th>one</th>\n",
       "      <td>2</td>\n",
       "      <td>180000</td>\n",
       "      <td>Automotive</td>\n",
       "      <td>Elon Musk</td>\n",
       "      <td>51.0</td>\n",
       "      <td>United States</td>\n",
       "      <td>Austin</td>\n",
       "      <td>Tesla, SpaceX</td>\n",
       "      <td>Automotive</td>\n",
       "      <td>United States</td>\n",
       "      <td>...</td>\n",
       "      <td>7.5</td>\n",
       "      <td>$21,427,700,000,000</td>\n",
       "      <td>88.2</td>\n",
       "      <td>101.8</td>\n",
       "      <td>78.5</td>\n",
       "      <td>9.6</td>\n",
       "      <td>36.6</td>\n",
       "      <td>328239523.0</td>\n",
       "      <td>37.090240</td>\n",
       "      <td>-95.712891</td>\n",
       "    </tr>\n",
       "    <tr>\n",
       "      <th>2</th>\n",
       "      <td>3</td>\n",
       "      <td>114000</td>\n",
       "      <td>Technology</td>\n",
       "      <td>Jeff Bezos</td>\n",
       "      <td>59.0</td>\n",
       "      <td>United States</td>\n",
       "      <td>Medina</td>\n",
       "      <td>Amazon</td>\n",
       "      <td>Technology</td>\n",
       "      <td>United States</td>\n",
       "      <td>...</td>\n",
       "      <td>7.5</td>\n",
       "      <td>$21,427,700,000,000</td>\n",
       "      <td>88.2</td>\n",
       "      <td>101.8</td>\n",
       "      <td>78.5</td>\n",
       "      <td>9.6</td>\n",
       "      <td>36.6</td>\n",
       "      <td>328239523.0</td>\n",
       "      <td>37.090240</td>\n",
       "      <td>-95.712891</td>\n",
       "    </tr>\n",
       "  </tbody>\n",
       "</table>\n",
       "<p>3 rows × 35 columns</p>\n",
       "</div>"
      ],
      "text/plain": [
       "      rank  finalWorth          category                personName   age  \\\n",
       "zero     1      211000  Fashion & Retail  Bernard Arnault & family  74.0   \n",
       "one      2      180000        Automotive                 Elon Musk  51.0   \n",
       "2        3      114000        Technology                Jeff Bezos  59.0   \n",
       "\n",
       "            country    city         source        industries  \\\n",
       "zero         France   Paris           LVMH  Fashion & Retail   \n",
       "one   United States  Austin  Tesla, SpaceX        Automotive   \n",
       "2     United States  Medina         Amazon        Technology   \n",
       "\n",
       "     countryOfCitizenship  ... cpi_change_country           gdp_country  \\\n",
       "zero               France  ...                1.1   $2,715,518,274,227    \n",
       "one         United States  ...                7.5  $21,427,700,000,000    \n",
       "2           United States  ...                7.5  $21,427,700,000,000    \n",
       "\n",
       "     gross_tertiary_education_enrollment  \\\n",
       "zero                                65.6   \n",
       "one                                 88.2   \n",
       "2                                   88.2   \n",
       "\n",
       "     gross_primary_education_enrollment_country life_expectancy_country  \\\n",
       "zero                                      102.5                    82.5   \n",
       "one                                       101.8                    78.5   \n",
       "2                                         101.8                    78.5   \n",
       "\n",
       "     tax_revenue_country_country total_tax_rate_country population_country  \\\n",
       "zero                        24.2                   60.7         67059887.0   \n",
       "one                          9.6                   36.6        328239523.0   \n",
       "2                            9.6                   36.6        328239523.0   \n",
       "\n",
       "     latitude_country longitude_country  \n",
       "zero        46.227638          2.213749  \n",
       "one         37.090240        -95.712891  \n",
       "2           37.090240        -95.712891  \n",
       "\n",
       "[3 rows x 35 columns]"
      ]
     },
     "execution_count": 20,
     "metadata": {},
     "output_type": "execute_result"
    }
   ],
   "source": [
    "renamed_index.head(3)"
   ]
  },
  {
   "cell_type": "markdown",
   "metadata": {},
   "source": [
    "### 1.3. Count values"
   ]
  },
  {
   "cell_type": "markdown",
   "metadata": {},
   "source": [
    "## 2. Sorting"
   ]
  },
  {
   "cell_type": "markdown",
   "metadata": {},
   "source": [
    "- `sort_values()`: Sorts DataFrame or Series by specified columns.\n",
    "- `sort_index()`: Sorts the DataFrame or Series by its index."
   ]
  },
  {
   "cell_type": "markdown",
   "metadata": {},
   "source": [
    "## 3. Grouping"
   ]
  },
  {
   "cell_type": "markdown",
   "metadata": {},
   "source": [
    "- `groupby()`: Groups data based on one or more columns for aggregation.\n",
    "- Aggregation functions like `sum()`, `mean()`, `count()`, and custom aggregation using `agg()`."
   ]
  },
  {
   "cell_type": "markdown",
   "metadata": {},
   "source": [
    "## 2. Merging data from different tables"
   ]
  },
  {
   "cell_type": "markdown",
   "metadata": {},
   "source": [
    "- `concat()`: Concatenates DataFrames vertically or horizontally.\n",
    "- `merge()`: Performs SQL-style joins based on specified columns.\n",
    "- `join()`: Joins DataFrames using their index or a specified column."
   ]
  },
  {
   "cell_type": "markdown",
   "metadata": {},
   "source": [
    "## 3. Scaling and normalization"
   ]
  },
  {
   "cell_type": "markdown",
   "metadata": {},
   "source": [
    "## 4. One hot encoding"
   ]
  },
  {
   "cell_type": "markdown",
   "metadata": {},
   "source": [
    "**EXERCISE**"
   ]
  },
  {
   "cell_type": "markdown",
   "metadata": {},
   "source": []
  }
 ],
 "metadata": {
  "kernelspec": {
   "display_name": ".venv",
   "language": "python",
   "name": "python3"
  },
  "language_info": {
   "codemirror_mode": {
    "name": "ipython",
    "version": 3
   },
   "file_extension": ".py",
   "mimetype": "text/x-python",
   "name": "python",
   "nbconvert_exporter": "python",
   "pygments_lexer": "ipython3",
   "version": "3.9.6"
  }
 },
 "nbformat": 4,
 "nbformat_minor": 2
}
